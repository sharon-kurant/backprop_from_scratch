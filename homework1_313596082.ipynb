{
  "cells": [
    {
      "cell_type": "markdown",
      "metadata": {
        "id": "view-in-github",
        "colab_type": "text"
      },
      "source": [
        "<a href=\"https://colab.research.google.com/github/sharon-kurant/backprop_from_scratch/blob/main/homework1_313596082.ipynb\" target=\"_parent\"><img src=\"https://colab.research.google.com/assets/colab-badge.svg\" alt=\"Open In Colab\"/></a>"
      ]
    },
    {
      "cell_type": "markdown",
      "metadata": {
        "id": "0juniUa_PrVG"
      },
      "source": [
        "# Deep Learning Course: Assignment #1 "
      ]
    },
    {
      "cell_type": "markdown",
      "metadata": {
        "id": "A_814P4gQOm0"
      },
      "source": [
        "Submitted by:\n",
        "\n",
        " **Student 1 Name+ID\n",
        "\n",
        " **Student 2 Name+ID"
      ]
    },
    {
      "cell_type": "markdown",
      "source": [
        "**Assignment Instruction:**\n",
        "\n",
        "· Submissions in pairs only.\n",
        "\n",
        "· The code must be written in Python 3.7+\n",
        "\n",
        "· You are allowed to use only Pytorch, numpy and matplotlib as external libraries\n",
        "\n",
        "· The code must be reasonably documented\n",
        "\n",
        "· You should save a copy of the notebook to your Drive and answer all the questions inside the notebook, at the designated cells. Only the notebook will be submitted in moodle (in `.ipynb` format).\n",
        "\n",
        "· If you wish to work in your IDE, make a `.py` copy of the notebook, but as you finish insert the script back to the matching cells of the notebook.\n",
        "\n",
        "**Important:** All plots, results and outputs should be included in the notebook as the cells' outputs (run all cells and do not clear the output).\n"
      ],
      "metadata": {
        "id": "HwDreLGTEczJ"
      }
    },
    {
      "cell_type": "code",
      "execution_count": 1,
      "metadata": {
        "id": "_CcHPDc8Qsdh"
      },
      "outputs": [],
      "source": [
        "%matplotlib inline\n",
        "import torch\n",
        "import numpy as np"
      ]
    },
    {
      "cell_type": "markdown",
      "metadata": {
        "id": "2V5qkLuMPhvZ"
      },
      "source": [
        "## Question 1:  Multidimentional XOR and backpropagation\n"
      ]
    },
    {
      "cell_type": "markdown",
      "source": [
        "Given $ d $ bits $b=(b_1, b_2, ... , b_d) \\in \\{0, 1\\}^d$, we define $$XOR(b) = Σ_{i=1}^db_i\\ mod\\ 2$$\n",
        "\n",
        "You will train a feedforward neural network to model the multidimentional XOR problem.\n",
        "\n",
        "The following function returns the labeled XOR \"dataset\" for any given $d$ (`dim`)"
      ],
      "metadata": {
        "id": "X17YTJ7GEFCn"
      }
    },
    {
      "cell_type": "code",
      "execution_count": 2,
      "metadata": {
        "id": "0dRV1G40Rly1"
      },
      "outputs": [],
      "source": [
        "import itertools\n",
        "\n",
        "def XORData(dim):\n",
        "  X = np.array(list(itertools.product([0, 1], repeat=dim)))\n",
        "  Y = X.sum(axis=1)%2\n",
        "  return X, Y"
      ]
    },
    {
      "cell_type": "markdown",
      "metadata": {
        "id": "JMB99P6LRpwH"
      },
      "source": [
        "Implement the following:\n",
        "\n",
        "1. A linear layer class:`Linear(torch.nn.Module)`\\\n",
        "• You shold inherit from `torch.nn.Module`\\\n",
        "• You can not use `torch.nn.LinearLayer` or any other model implemented by PyTorch, only tensors. Wrap every tensor object with `torch.nn.Parameter` (for the optimizer).\\\n",
        "• Use `torch.randn` to initialize the parameter tensors (weights matrix and biases vector)\\\n",
        "• Implement the `forward` method according to the linear model $y = Wx + b$\\\n",
        "• The number of parameters should be defined by `in_features` and `out_features` \\\n",
        "• Make sure to enable gradient computation!"
      ]
    },
    {
      "cell_type": "code",
      "source": [
        "import torch.nn as nn\n",
        "\n",
        "class Linear(nn.Module):\n",
        "  def __init__(self, in_features, out_features):\n",
        "    # Implement here\n",
        "    super(Linear, self).__init__()\n",
        "    self.weights = torch.nn.Parameter(torch.randn(size=(in_features,out_features)))\n",
        "    self.bias = torch.nn.Parameter(torch.randn(out_features))\n",
        "  def forward(self, x):\n",
        "    # Implement here\n",
        "    return torch.add(torch.matmul(x, self.weights),self.bias)"
      ],
      "metadata": {
        "id": "jQx-t3oqCufo"
      },
      "execution_count": 3,
      "outputs": []
    },
    {
      "cell_type": "code",
      "source": [
        "Linear(5,3).forward(torch.Tensor([1,2,3,4,5]))"
      ],
      "metadata": {
        "colab": {
          "base_uri": "https://localhost:8080/"
        },
        "id": "-VSKEkQOlQE4",
        "outputId": "ebcd7a1d-259b-4c03-c397-1f9fb3e70383"
      },
      "execution_count": 4,
      "outputs": [
        {
          "output_type": "execute_result",
          "data": {
            "text/plain": [
              "tensor([  6.9230, -14.9908,   9.6588], grad_fn=<AddBackward0>)"
            ]
          },
          "metadata": {},
          "execution_count": 4
        }
      ]
    },
    {
      "cell_type": "markdown",
      "source": [
        "2. A feedforward neural network:`FFNet(torch.nn.module)`\\\n",
        "• Use the `Linear` class you implemented to construct a network with `in_features` input size, `out_features` output size, and one hidden layer with `hidden_size` neurons.\\\n",
        "• Use the sigmoid activation function on top of the hidden layer neurons.\\\n",
        "• The XOR example we saw in class should help you."
      ],
      "metadata": {
        "id": "FgTJametDVQE"
      }
    },
    {
      "cell_type": "code",
      "source": [
        "class FFNet(nn.Module):\n",
        "  def __init__(self, in_features, out_features, hidden_size):\n",
        "    # Implement here\n",
        "    super(FFNet, self).__init__()\n",
        "    self.l1 = Linear(in_features, hidden_size)\n",
        "    self.l2 = Linear(hidden_size, out_features)\n",
        "  def forward(self, x):\n",
        "    # Implement here\n",
        "    x = self.l1.forward(x)\n",
        "    x = torch.sigmoid(x)\n",
        "    x = self.l2.forward(x)\n",
        "    return x"
      ],
      "metadata": {
        "id": "UGgjgsZEDe2w"
      },
      "execution_count": 5,
      "outputs": []
    },
    {
      "cell_type": "code",
      "source": [
        "model = FFNet(3,2,2)\n",
        "model.forward(torch.Tensor([2,3,4]))"
      ],
      "metadata": {
        "colab": {
          "base_uri": "https://localhost:8080/"
        },
        "id": "ZoX9nQzFjUxv",
        "outputId": "0220e9cd-cc11-42c0-b884-61aca7029c10"
      },
      "execution_count": 6,
      "outputs": [
        {
          "output_type": "execute_result",
          "data": {
            "text/plain": [
              "tensor([ 0.9262, -1.5844], grad_fn=<AddBackward0>)"
            ]
          },
          "metadata": {},
          "execution_count": 6
        }
      ]
    },
    {
      "cell_type": "markdown",
      "source": [
        "### Exploring the hidden layer\n",
        "In class we talked about the **Universal Approximation Theorem**. The following question will help us to understand how hard is finding the optimal weight that the theorem talks about.\n",
        "\n",
        "You are given a basic training function."
      ],
      "metadata": {
        "id": "5XiNMI6yIDOA"
      }
    },
    {
      "cell_type": "code",
      "source": [
        "import numpy as np\n",
        "import torch.optim as optim\n",
        "\n",
        "loss_func = nn.MSELoss()\n",
        "#optimizer = optim.SGD(model.parameters(), lr=0.02, momentum=0.9)\n",
        "\n",
        "def train(net, X, Y, epochs=3000):\n",
        "  steps = X.shape[0]\n",
        "  for i in range(epochs):\n",
        "      for j in range(steps):\n",
        "          data_point = np.random.randint((X.shape[0]))\n",
        "          x_var = torch.Tensor(X[data_point])\n",
        "          y_var = torch.Tensor([Y[data_point]])        \n",
        "          optimizer.zero_grad()\n",
        "          y_hat = net(x_var)\n",
        "          loss = loss_func(y_hat, y_var)\n",
        "          loss.backward()\n",
        "          optimizer.step()\n",
        "      if(i % 100 == 0):\n",
        "          print(\"Epoch:{}, Loss:{}\".format(i, loss.detach()))"
      ],
      "metadata": {
        "id": "pXPZLgfGHi5Y"
      },
      "execution_count": 7,
      "outputs": []
    },
    {
      "cell_type": "markdown",
      "source": [
        "Using the above, for each of the dimentions: $d = 2, 3, 4, 5$:\n",
        "1. Create the corresponding dataset using `XORData`\n",
        "2. Create models with different hidden layer sizes($1, 2, 3, ..., d,d+const, const*d,...$ etc.) and an optimizer for it using: `optimizer = optim.SGD(model.parameters(), lr=0.02, momentum=0.9)\n",
        "`\n",
        "3. Try to train the different networks on the dataset.\n",
        "\n",
        "Make sure to create a new `FFNet` and optimizer objects each time you call `train`.\n"
      ],
      "metadata": {
        "id": "j6iBEwnPIq88"
      }
    },
    {
      "cell_type": "code",
      "source": [
        "# Implement here\n",
        "### Implement here\n",
        "constant = 2\n",
        "optimizer = optim.SGD(model.parameters(), lr=0.02, momentum=0.9)\n",
        "\n",
        "for d in range(1,5):\n",
        "  print(f\"\\nFor d = {d}\")\n",
        "  X, Y = XORData(d)\n",
        "  X, Y = torch.Tensor(X), torch.Tensor(Y)\n",
        "  print(f\"\\nFFNet parameters: {d,2,d+constant}\")\n",
        "  model = FFNet(d,2,d+constant)\n",
        "  train(model, X, Y, 500)\n",
        "  print(f\"\\nFFNet parameters: {d,2,d*constant}\")\n",
        "  model = FFNet(d,2,d*constant)\n",
        "  train(model, X, Y, 500)\n",
        "  print(f\"\\nFFNet parameters: {d,2,d+1}\")\n",
        "  model = FFNet(d,2,d+1)\n",
        "  train(model, X, Y, 500)"
      ],
      "metadata": {
        "id": "dF_R4pfyNUb7",
        "colab": {
          "base_uri": "https://localhost:8080/"
        },
        "outputId": "33fa64ea-b9ac-48cc-f031-728a4cce7262"
      },
      "execution_count": 8,
      "outputs": [
        {
          "output_type": "stream",
          "name": "stdout",
          "text": [
            "\n",
            "For d = 1\n",
            "\n",
            "FFNet parameters: (1, 2, 3)\n",
            "Epoch:0, Loss:0.30629104375839233\n"
          ]
        },
        {
          "output_type": "stream",
          "name": "stderr",
          "text": [
            "/usr/local/lib/python3.7/dist-packages/torch/nn/modules/loss.py:530: UserWarning: Using a target size (torch.Size([1])) that is different to the input size (torch.Size([2])). This will likely lead to incorrect results due to broadcasting. Please ensure they have the same size.\n",
            "  return F.mse_loss(input, target, reduction=self.reduction)\n"
          ]
        },
        {
          "output_type": "stream",
          "name": "stdout",
          "text": [
            "Epoch:100, Loss:1.9638705253601074\n",
            "Epoch:200, Loss:0.30629104375839233\n",
            "Epoch:300, Loss:1.9638705253601074\n",
            "Epoch:400, Loss:1.9638705253601074\n",
            "\n",
            "FFNet parameters: (1, 2, 2)\n",
            "Epoch:0, Loss:0.1778753697872162\n",
            "Epoch:100, Loss:0.1778753697872162\n",
            "Epoch:200, Loss:0.6073590517044067\n",
            "Epoch:300, Loss:0.1778753697872162\n",
            "Epoch:400, Loss:0.1778753697872162\n",
            "\n",
            "FFNet parameters: (1, 2, 2)\n",
            "Epoch:0, Loss:0.46284937858581543\n",
            "Epoch:100, Loss:0.9943267703056335\n",
            "Epoch:200, Loss:0.9943267703056335\n",
            "Epoch:300, Loss:0.9943267703056335\n",
            "Epoch:400, Loss:0.46284937858581543\n",
            "\n",
            "For d = 2\n",
            "\n",
            "FFNet parameters: (2, 2, 4)\n",
            "Epoch:0, Loss:13.742598533630371\n",
            "Epoch:100, Loss:7.453109264373779\n",
            "Epoch:200, Loss:13.742598533630371\n",
            "Epoch:300, Loss:4.266692161560059\n",
            "Epoch:400, Loss:4.266692161560059\n",
            "\n",
            "FFNet parameters: (2, 2, 4)\n",
            "Epoch:0, Loss:0.2980652153491974\n",
            "Epoch:100, Loss:1.1372003555297852\n",
            "Epoch:200, Loss:1.1372003555297852\n",
            "Epoch:300, Loss:0.2980652153491974\n",
            "Epoch:400, Loss:1.1372003555297852\n",
            "\n",
            "FFNet parameters: (2, 2, 3)\n",
            "Epoch:0, Loss:2.013256311416626\n",
            "Epoch:100, Loss:6.823929786682129\n",
            "Epoch:200, Loss:6.823929786682129\n",
            "Epoch:300, Loss:6.823929786682129\n",
            "Epoch:400, Loss:6.823929786682129\n",
            "\n",
            "For d = 3\n",
            "\n",
            "FFNet parameters: (3, 2, 5)\n",
            "Epoch:0, Loss:1.5206081867218018\n",
            "Epoch:100, Loss:0.4858372211456299\n",
            "Epoch:200, Loss:2.0965850353240967\n",
            "Epoch:300, Loss:2.168898344039917\n",
            "Epoch:400, Loss:2.168898344039917\n",
            "\n",
            "FFNet parameters: (3, 2, 6)\n",
            "Epoch:0, Loss:0.21186797320842743\n",
            "Epoch:100, Loss:1.9076242446899414\n",
            "Epoch:200, Loss:0.5137525200843811\n",
            "Epoch:300, Loss:1.1061867475509644\n",
            "Epoch:400, Loss:1.1061867475509644\n",
            "\n",
            "FFNet parameters: (3, 2, 4)\n",
            "Epoch:0, Loss:0.6950180530548096\n",
            "Epoch:100, Loss:0.5822511911392212\n",
            "Epoch:200, Loss:0.5822511911392212\n",
            "Epoch:300, Loss:0.05664753541350365\n",
            "Epoch:400, Loss:0.029282215982675552\n",
            "\n",
            "For d = 4\n",
            "\n",
            "FFNet parameters: (4, 2, 6)\n",
            "Epoch:0, Loss:5.503493309020996\n",
            "Epoch:100, Loss:0.8538440465927124\n",
            "Epoch:200, Loss:2.765282392501831\n",
            "Epoch:300, Loss:5.505785942077637\n",
            "Epoch:400, Loss:3.7612996101379395\n",
            "\n",
            "FFNet parameters: (4, 2, 8)\n",
            "Epoch:0, Loss:9.771063804626465\n",
            "Epoch:100, Loss:18.93425178527832\n",
            "Epoch:200, Loss:9.798773765563965\n",
            "Epoch:300, Loss:15.289726257324219\n",
            "Epoch:400, Loss:11.843199729919434\n",
            "\n",
            "FFNet parameters: (4, 2, 5)\n",
            "Epoch:0, Loss:0.691325843334198\n",
            "Epoch:100, Loss:0.016659364104270935\n",
            "Epoch:200, Loss:0.5975887775421143\n",
            "Epoch:300, Loss:0.16846352815628052\n",
            "Epoch:400, Loss:0.06072162464261055\n"
          ]
        }
      ]
    },
    {
      "cell_type": "markdown",
      "source": [
        "For which dimensions you were able to reach a model that converges (loss value is geting close to 0)?\\\n",
        "What is the number of hidden neurons in that network and how did you find it?\\\n",
        "What results did you expect and how does it differ from the results you achieved?\n",
        "\n",
        "\n",
        "**Answers:**\n"
      ],
      "metadata": {
        "id": "iN7vL-WwNkkp"
      }
    },
    {
      "cell_type": "markdown",
      "source": [
        "### Backpropagation\n",
        "\n",
        "The following part will focus on the computaion of gradients w.r.t the model parameters, to understand what is happening behind `loss.backward()`.\n",
        "\n",
        "Implement the function:`calc_gradients(net, x, loss)`:\n",
        "\n",
        "Input: instance of `FFNet` with a hidden layer of size 2, input of size 2 and output of size 1, input vector `x` and `loss` value.\n",
        "\n",
        "Output: One dimensional tensor with the gradients of the loss w.r.t each of the parameters, ordered as the corresponding parameters order `net.parameters()` returns (if we would flatten it's output). \n",
        "\n",
        "1. Comute(by hand) the derivatives w.r.t the second linear layer parameters\n",
        "2. Use the chain rule to comute(by hand) the derivatives w.r.t the first linear layer parameters\n",
        "3. Implement the final form computations per parameter.\n",
        "4. Order the gradients as described above\n",
        "\n",
        "Practical number 4 slides 26-28 should be helpful."
      ],
      "metadata": {
        "id": "VQqQ78nHfMUu"
      }
    },
    {
      "cell_type": "code",
      "source": [
        "def calc_gradients(net, x, y_hat, y_var, loss):\n",
        "  #y = y_hat - (loss**.5)\n",
        "  y = y_var\n",
        "  w1_1, w1_2, w1_3, w1_4 = net.l1.weights.flatten()\n",
        "  b1_1, b1_2 = net.l1.bias.flatten()\n",
        "\n",
        "  w2_1, w2_2 = net.l2.weights.flatten()\n",
        "  \n",
        "  z1 = torch.sigmoid(w1_1 * x[0] + w1_3 * x[1] +b1_1)\n",
        "  z2 = torch.sigmoid(w1_2 * x[0] + w1_4 * x[1] +b1_2)\n",
        "\n",
        "  # z = torch.sigmoid(torch.matmul(w, torch.t(x))+torch.t(b))\n",
        "\n",
        "  L_d = 2 * (y_hat - y)\n",
        "  z1_d = z1 * (1-z1)\n",
        "  z2_d = z2 * (1-z2)\n",
        "\n",
        "  dL_w2_1 = L_d * z1\n",
        "  dL_w2_2 = L_d * z2\n",
        "\n",
        "  dL_w1_1 = L_d * w2_1 * z1_d * x[0]\n",
        "  dL_w1_2 = L_d * w2_2 * z2_d * x[0]\n",
        "\n",
        "  dL_w1_3 = L_d * w2_1 * z1_d * x[1]\n",
        "  dL_w1_4 = L_d * w2_2 * z2_d * x[1]\n",
        "\n",
        "  dL_b1_1 = L_d * w2_1 * z1_d\n",
        "  dL_b1_2 = L_d * w2_2 * z2_d\n",
        "\n",
        "  dL_b2 = L_d\n",
        "\n",
        "  return torch.tensor([dL_w1_1, dL_w1_2, dL_w1_3, dL_w1_4, dL_b1_1, dL_b1_2, dL_w2_1, dL_w2_2, dL_b2])"
      ],
      "metadata": {
        "id": "hbsLYK7FrHUy"
      },
      "execution_count": 21,
      "outputs": []
    },
    {
      "cell_type": "markdown",
      "source": [
        "Run the following cell to check the correctness of your computation:"
      ],
      "metadata": {
        "id": "goODSvSxrfoU"
      }
    },
    {
      "cell_type": "code",
      "source": [
        "def equal_gradients(net, x, y_hat, y_var, loss):\n",
        "  grads = []\n",
        "  for param in net.parameters():\n",
        "    grads.append(param.grad.view(-1))\n",
        "  grads = torch.cat(grads)\n",
        "  return True if torch.sum(grads.round(decimals =4) - calc_gradients(net, x, y_hat, y_var, loss).round(decimals =4)) == 0 else False\n",
        "\n",
        "def train_and_compare(net, X, Y, epochs=100):\n",
        "  steps = X.shape[0]\n",
        "  for i in range(epochs):\n",
        "      for j in range(steps):\n",
        "          data_point = np.random.randint(X.shape[0])\n",
        "          x_var = torch.Tensor(X[data_point])\n",
        "          y_var = torch.Tensor([Y[data_point]])        \n",
        "          optimizer.zero_grad()\n",
        "          y_hat = net(x_var)\n",
        "          loss = loss_func(y_hat, y_var)\n",
        "          loss.backward()\n",
        "          if not equal_gradients(net, x_var, y_hat, y_var, loss.item()):\n",
        "            print(\"Wrong gradients computation!\")\n",
        "            return\n",
        "          optimizer.step()\n",
        "  print(\"Correct gradients computation!\")\n",
        "\n",
        "model = FFNet(2, 1, 2)\n",
        "optimizer = optim.SGD(model.parameters(), lr=0.02, momentum=0.9)\n",
        "X, Y = XORData(2)\n",
        "\n",
        "\n",
        "train_and_compare(model, X, Y)"
      ],
      "metadata": {
        "id": "_ryIQU0Eg5Vl",
        "colab": {
          "base_uri": "https://localhost:8080/"
        },
        "outputId": "e7b0a735-3cb4-4fbf-a975-4de313ae551c"
      },
      "execution_count": 22,
      "outputs": [
        {
          "output_type": "stream",
          "name": "stdout",
          "text": [
            "Correct gradients computation!\n"
          ]
        }
      ]
    },
    {
      "cell_type": "markdown",
      "metadata": {
        "id": "0ZizbFrmOGeR"
      },
      "source": [
        "### Question 2: Solving Fashion-MNIST"
      ]
    },
    {
      "cell_type": "markdown",
      "source": [
        "In class we've learned about MNIST data set, which can be loaded from torchvision.datasets.\n",
        "We built a feedforward network for MNIST classification with accuracy of ~96%.\n",
        "In this assignment we will use Fashion-MNIST, which is also a built-in dataset in Pytorch. We'll\n",
        "try different networks and find which one fits better.\n",
        "\n",
        "The code must run on GPU."
      ],
      "metadata": {
        "id": "XJV1UEq9KPyd"
      }
    },
    {
      "cell_type": "code",
      "execution_count": 23,
      "metadata": {
        "id": "St3U3GLlNDkm"
      },
      "outputs": [],
      "source": [
        "import torch\n",
        "import torchvision\n",
        "import torchvision.datasets as datasets\n",
        "from torchvision import transforms\n",
        "from torch.utils.data.sampler import SubsetRandomSampler\n",
        "\n",
        "# Use .to(device) when needed to train on GPU\n",
        "device = torch.device(\"cuda\" if torch.cuda.is_available() else \"cpu\")\n",
        "\n",
        "### Add any additional functions here"
      ]
    },
    {
      "cell_type": "markdown",
      "source": [
        "Please implement the following modules and functions:\n",
        "1. Function 1: `load_dataset()`\\\n",
        "Load the Fashion-MNIST training and test set from Pytorch. Split the training set to\n",
        "training and validation set (80%-20% ratio). Define a DataLoader for each set. In the\n",
        "DataLoader parameters use \"batch_size\"=64.\n"
      ],
      "metadata": {
        "id": "9IwjvOPdHJpF"
      }
    },
    {
      "cell_type": "code",
      "source": [
        "### Implement here\n",
        "def load_dataset(p = 0.2):\n",
        "  normalize = transforms.Normalize((0.2859,), (0.3530,))\n",
        "  totensor = transforms.ToTensor()\n",
        "  mnist_transforms = transforms.Compose([totensor, normalize])\n",
        "\n",
        "  mnist_trainset = datasets.FashionMNIST(root='../data', train=True, download=True, transform=mnist_transforms)\n",
        "  mnist_testset = datasets.FashionMNIST(root='../data', train=False, download=True, transform=mnist_transforms)\n",
        "\n",
        "  indices = list(range(len(mnist_trainset)))\n",
        "  np.random.shuffle(indices)\n",
        "\n",
        "  split = int(np.floor(p * len(mnist_trainset)))\n",
        "  train_sample = SubsetRandomSampler(indices[split:])\n",
        "  val_sample = SubsetRandomSampler(indices[:split])\n",
        "  \n",
        "  train_loader = torch.utils.data.DataLoader(mnist_trainset, sampler = train_sample, batch_size=64)\n",
        "  val_loader = torch.utils.data.DataLoader(mnist_trainset, sampler = val_sample, batch_size=64)\n",
        "  test_loader = torch.utils.data.DataLoader(mnist_testset, batch_size=64, shuffle=False)\n",
        "\n",
        "  print('train set len', len(train_loader.sampler.indices))\n",
        "  print('validation set len', len(val_loader.sampler.indices))\n",
        "  print('test set len', len(test_loader.dataset))\n",
        "  \n",
        "  return train_loader, val_loader, test_loader"
      ],
      "metadata": {
        "id": "0hARGa1FKbOQ"
      },
      "execution_count": 24,
      "outputs": []
    },
    {
      "cell_type": "code",
      "source": [
        "train_loader, val_loader, test_loader = load_dataset()"
      ],
      "metadata": {
        "colab": {
          "base_uri": "https://localhost:8080/",
          "height": 496,
          "referenced_widgets": [
            "83b027e6748a450d942aa25af878f1a2",
            "ed91761c2fc645ed95ad2ef474150060",
            "ec400024120c499ab0d9dbab6f80dc2a",
            "aa1567c1946145dc9954a83742b9ddde",
            "139bf69bbc0a4ce8affc96d516ee4817",
            "3be0bfae64874210a35948a48f80e3a0",
            "0c0f38d6712349619145b6e6e5bdbef6",
            "39ca1f25132e4f8e945c78c3030b3b27",
            "49c5a17ef398453d809324143fff0afc",
            "fab9e90366d34a08ba6df841cfaff0c0",
            "71d492b3d71749bf9fd185814eb37a16",
            "55623c205b3046939e7e89e3f942f95e",
            "fbae653b3f9e493ebf77871697fbf735",
            "e89130bafc1c4f62842267d3afe62861",
            "ba72e29542a54f6d8e033261d4bef8ae",
            "3086263b375a4356860d395564b02d65",
            "0d37b94a2b9f44c19bde9c4890ad9d21",
            "34b3429b129345b48482d2e1c011fe48",
            "f3ad4ca0f9c84f919a17b415e449700a",
            "cec6e523142745bb8dbe9caf592748b7",
            "58450298d7294cfcbad8605b066a59d1",
            "ac2104b30b5a4c08add79ae7fd03f3b3",
            "b5de6d29c7d74c02b1f12a6928a505e2",
            "600d4733f8784f378c256f7ddac9a7a1",
            "d667ab0f496e485da538f05fa975e2e7",
            "04c037580f5840b69cd01b8314f78971",
            "79b6d96a92864a10aeb27413a38ee8e5",
            "ca8136610f5b4e1f9eb21bce77070525",
            "a30af67f70174a9283ab8ecf681f2aaa",
            "f6ffdd608970401995659deccf745557",
            "0e762c20c2864fff932de93e27c2116c",
            "c9682f7b4d28469e873c6040085bcca5",
            "9ed548bd88d747299fad49004085d5dd",
            "8b919eab90ab4c2d80ad83282f96cac1",
            "0a7d26393dd94bbb9d64e3bd73502448",
            "8ea73db349624a10bd313c6739ac0228",
            "058d830ffdb2442eb2c109822e80d8a5",
            "d9a7328dff744e69ad4e124f45ed092e",
            "884bc1447e574eef9dcea307b7cce812",
            "75c810aa3cfe4b76a65553059e017742",
            "a652bfbba5f447578865de5df5155495",
            "5d852b1e83834a008aff5b062db0c973",
            "11934006aa5140ffbe820d7b2e0715e7",
            "39069fa987b14b47accda1557c53ae55"
          ]
        },
        "id": "KTAGx9ZJmLi8",
        "outputId": "c43fc06b-6d7a-4ba8-bbd9-c53c21d3a227"
      },
      "execution_count": 25,
      "outputs": [
        {
          "output_type": "stream",
          "name": "stdout",
          "text": [
            "Downloading http://fashion-mnist.s3-website.eu-central-1.amazonaws.com/train-images-idx3-ubyte.gz\n",
            "Downloading http://fashion-mnist.s3-website.eu-central-1.amazonaws.com/train-images-idx3-ubyte.gz to ../data/FashionMNIST/raw/train-images-idx3-ubyte.gz\n"
          ]
        },
        {
          "output_type": "display_data",
          "data": {
            "text/plain": [
              "  0%|          | 0/26421880 [00:00<?, ?it/s]"
            ],
            "application/vnd.jupyter.widget-view+json": {
              "version_major": 2,
              "version_minor": 0,
              "model_id": "83b027e6748a450d942aa25af878f1a2"
            }
          },
          "metadata": {}
        },
        {
          "output_type": "stream",
          "name": "stdout",
          "text": [
            "Extracting ../data/FashionMNIST/raw/train-images-idx3-ubyte.gz to ../data/FashionMNIST/raw\n",
            "\n",
            "Downloading http://fashion-mnist.s3-website.eu-central-1.amazonaws.com/train-labels-idx1-ubyte.gz\n",
            "Downloading http://fashion-mnist.s3-website.eu-central-1.amazonaws.com/train-labels-idx1-ubyte.gz to ../data/FashionMNIST/raw/train-labels-idx1-ubyte.gz\n"
          ]
        },
        {
          "output_type": "display_data",
          "data": {
            "text/plain": [
              "  0%|          | 0/29515 [00:00<?, ?it/s]"
            ],
            "application/vnd.jupyter.widget-view+json": {
              "version_major": 2,
              "version_minor": 0,
              "model_id": "55623c205b3046939e7e89e3f942f95e"
            }
          },
          "metadata": {}
        },
        {
          "output_type": "stream",
          "name": "stdout",
          "text": [
            "Extracting ../data/FashionMNIST/raw/train-labels-idx1-ubyte.gz to ../data/FashionMNIST/raw\n",
            "\n",
            "Downloading http://fashion-mnist.s3-website.eu-central-1.amazonaws.com/t10k-images-idx3-ubyte.gz\n",
            "Downloading http://fashion-mnist.s3-website.eu-central-1.amazonaws.com/t10k-images-idx3-ubyte.gz to ../data/FashionMNIST/raw/t10k-images-idx3-ubyte.gz\n"
          ]
        },
        {
          "output_type": "display_data",
          "data": {
            "text/plain": [
              "  0%|          | 0/4422102 [00:00<?, ?it/s]"
            ],
            "application/vnd.jupyter.widget-view+json": {
              "version_major": 2,
              "version_minor": 0,
              "model_id": "b5de6d29c7d74c02b1f12a6928a505e2"
            }
          },
          "metadata": {}
        },
        {
          "output_type": "stream",
          "name": "stdout",
          "text": [
            "Extracting ../data/FashionMNIST/raw/t10k-images-idx3-ubyte.gz to ../data/FashionMNIST/raw\n",
            "\n",
            "Downloading http://fashion-mnist.s3-website.eu-central-1.amazonaws.com/t10k-labels-idx1-ubyte.gz\n",
            "Downloading http://fashion-mnist.s3-website.eu-central-1.amazonaws.com/t10k-labels-idx1-ubyte.gz to ../data/FashionMNIST/raw/t10k-labels-idx1-ubyte.gz\n"
          ]
        },
        {
          "output_type": "display_data",
          "data": {
            "text/plain": [
              "  0%|          | 0/5148 [00:00<?, ?it/s]"
            ],
            "application/vnd.jupyter.widget-view+json": {
              "version_major": 2,
              "version_minor": 0,
              "model_id": "8b919eab90ab4c2d80ad83282f96cac1"
            }
          },
          "metadata": {}
        },
        {
          "output_type": "stream",
          "name": "stdout",
          "text": [
            "Extracting ../data/FashionMNIST/raw/t10k-labels-idx1-ubyte.gz to ../data/FashionMNIST/raw\n",
            "\n",
            "train set len 48000\n",
            "validation set len 12000\n",
            "test set len 10000\n"
          ]
        }
      ]
    },
    {
      "cell_type": "code",
      "source": [
        "import matplotlib.pyplot as plt\n",
        "\n",
        "image, label = next(iter(train_loader))\n",
        "print('img size', image[0].size())\n",
        "print('label', label[0])\n",
        "plt.imshow(image[0].reshape(28,28), cmap=\"gray\")"
      ],
      "metadata": {
        "colab": {
          "base_uri": "https://localhost:8080/",
          "height": 320
        },
        "id": "Fb4jCBSZnCT4",
        "outputId": "fcb909a1-d1f3-489b-8676-7131f287fe77"
      },
      "execution_count": 26,
      "outputs": [
        {
          "output_type": "stream",
          "name": "stdout",
          "text": [
            "img size torch.Size([1, 28, 28])\n",
            "label tensor(9)\n"
          ]
        },
        {
          "output_type": "execute_result",
          "data": {
            "text/plain": [
              "<matplotlib.image.AxesImage at 0x7f4a184aead0>"
            ]
          },
          "metadata": {},
          "execution_count": 26
        },
        {
          "output_type": "display_data",
          "data": {
            "text/plain": [
              "<Figure size 432x288 with 1 Axes>"
            ],
            "image/png": "[encoded data removed]"
          },
          "metadata": {
            "needs_background": "light"
          }
        }
      ]
    },
    {
      "cell_type": "markdown",
      "source": [
        "2. Function 2: `one_hidden_layer_no_activation(number_of_neurons)`\\\n",
        "For this function, you should implement the following steps:\\\n",
        "• Define the model: feed-forward network with one hidden layer, no activation\n",
        "functions are applied on the hidden layer (linear). The number of neurons in the\n",
        "hidden layer is given by the parameter “number_of_neurons”. The output layer\n",
        "activation function is log softmax (recall what should be the dim of the output\n",
        "layer as we learned in class).\\\n",
        "• Train the network on the Fashion-MNIST training set for 50 epochs\\\n",
        "• Use [cross entropy](https://pytorch.org/docs/stable/generated/torch.nn.CrossEntropyLoss.html) as a cost function\\\n",
        "• Use the optimizer:\\\n",
        "learning_rate = 0.01\\\n",
        "optimizer = torch.optim.SGD(model.parameters(),lr=learning_rate)\\\n",
        "• Plot a figure with the accuracy on the training set and validation set for each\n",
        "epoch\\\n",
        "• Plot the accuracy on the test set of the final model"
      ],
      "metadata": {
        "id": "USi815epKaWX"
      }
    },
    {
      "cell_type": "code",
      "source": [
        "import torch.nn as nn"
      ],
      "metadata": {
        "id": "e9RRUacKwqOQ"
      },
      "execution_count": null,
      "outputs": []
    },
    {
      "cell_type": "code",
      "source": [
        "class ohlna(nn.Module):\n",
        "  def __init__(self, input_dim):\n",
        "    super(ohlna, self).__init__()\n",
        "    self.fc = nn.Linear(input_dim, 10, bias = True)\n",
        "  def forward(self, x):\n",
        "    x = self.fc(x)\n",
        "    return x"
      ],
      "metadata": {
        "id": "ZF3w8Xj3ww12"
      },
      "execution_count": 27,
      "outputs": []
    },
    {
      "cell_type": "code",
      "source": [
        "### Implement here\n",
        "def one_hidden_layer_no_activation(number_of_neurons):\n",
        "  \n",
        "  model = ohlna(number_of_neurons)\n",
        "\n",
        "  lr = 0.01\n",
        "  optimizer = torch.optim.SGD(model.parameters(),lr=lr)\n",
        "  loss_fn = nn.CrossEntropyLoss()\n",
        "\n",
        "  epochs = 50\n",
        "  losses = []\n",
        "  for i in range(epochs):\n",
        "    losses_batch = []\n",
        "    for j,(data,label) in enumerate(train_loader):   \n",
        "        optimizer.zero_grad()\n",
        "        #flatten the image to vector of size 28*28\n",
        "        data = data.view(-1,28*28)\n",
        "        #calculate output    \n",
        "        y_hat = model(data) \n",
        "        #calculate loss\n",
        "        loss = loss_fn(y_hat,label)  \n",
        "        #backprop    \n",
        "        loss.backward()\n",
        "        optimizer.step()\n",
        "        losses_batch.append(loss.detach())\n",
        "    losses.append(np.mean(losses_batch))       \n",
        "    print(\"epoch {} | train loss : {} \".format(i,np.mean(losses_batch)))\n",
        "  return losses"
      ],
      "metadata": {
        "id": "Cvypa2q2Kb-F"
      },
      "execution_count": null,
      "outputs": []
    },
    {
      "cell_type": "code",
      "source": [
        "one_hidden_layer_no_activation(28*28)"
      ],
      "metadata": {
        "colab": {
          "base_uri": "https://localhost:8080/",
          "height": 467
        },
        "id": "gFScRBWKyh6c",
        "outputId": "fecc78e7-fa32-429d-af5b-ac179bded273"
      },
      "execution_count": null,
      "outputs": [
        {
          "output_type": "stream",
          "name": "stdout",
          "text": [
            "epoch 0 | train loss : 0.6311885714530945 \n",
            "epoch 1 | train loss : 0.49285778403282166 \n",
            "epoch 2 | train loss : 0.46479377150535583 \n",
            "epoch 3 | train loss : 0.4501993954181671 \n",
            "epoch 4 | train loss : 0.4393625557422638 \n",
            "epoch 5 | train loss : 0.43204066157341003 \n",
            "epoch 6 | train loss : 0.42599427700042725 \n",
            "epoch 7 | train loss : 0.42175424098968506 \n",
            "epoch 8 | train loss : 0.41800257563591003 \n"
          ]
        },
        {
          "output_type": "error",
          "ename": "KeyboardInterrupt",
          "evalue": "ignored",
          "traceback": [
            "\u001b[0;31m---------------------------------------------------------------------------\u001b[0m",
            "\u001b[0;31mKeyboardInterrupt\u001b[0m                         Traceback (most recent call last)",
            "\u001b[0;32m<ipython-input-154-8f97b3d905be>\u001b[0m in \u001b[0;36m<module>\u001b[0;34m\u001b[0m\n\u001b[0;32m----> 1\u001b[0;31m \u001b[0mone_hidden_layer_no_activation\u001b[0m\u001b[0;34m(\u001b[0m\u001b[0;36m28\u001b[0m\u001b[0;34m*\u001b[0m\u001b[0;36m28\u001b[0m\u001b[0;34m)\u001b[0m\u001b[0;34m\u001b[0m\u001b[0;34m\u001b[0m\u001b[0m\n\u001b[0m",
            "\u001b[0;32m<ipython-input-153-d08bc61ca5dd>\u001b[0m in \u001b[0;36mone_hidden_layer_no_activation\u001b[0;34m(number_of_neurons)\u001b[0m\n\u001b[1;32m     12\u001b[0m   \u001b[0;32mfor\u001b[0m \u001b[0mi\u001b[0m \u001b[0;32min\u001b[0m \u001b[0mrange\u001b[0m\u001b[0;34m(\u001b[0m\u001b[0mepochs\u001b[0m\u001b[0;34m)\u001b[0m\u001b[0;34m:\u001b[0m\u001b[0;34m\u001b[0m\u001b[0;34m\u001b[0m\u001b[0m\n\u001b[1;32m     13\u001b[0m     \u001b[0mlosses_batch\u001b[0m \u001b[0;34m=\u001b[0m \u001b[0;34m[\u001b[0m\u001b[0;34m]\u001b[0m\u001b[0;34m\u001b[0m\u001b[0;34m\u001b[0m\u001b[0m\n\u001b[0;32m---> 14\u001b[0;31m     \u001b[0;32mfor\u001b[0m \u001b[0mj\u001b[0m\u001b[0;34m,\u001b[0m\u001b[0;34m(\u001b[0m\u001b[0mdata\u001b[0m\u001b[0;34m,\u001b[0m\u001b[0mlabel\u001b[0m\u001b[0;34m)\u001b[0m \u001b[0;32min\u001b[0m \u001b[0menumerate\u001b[0m\u001b[0;34m(\u001b[0m\u001b[0mtrain_loader\u001b[0m\u001b[0;34m)\u001b[0m\u001b[0;34m:\u001b[0m\u001b[0;34m\u001b[0m\u001b[0;34m\u001b[0m\u001b[0m\n\u001b[0m\u001b[1;32m     15\u001b[0m         \u001b[0moptimizer\u001b[0m\u001b[0;34m.\u001b[0m\u001b[0mzero_grad\u001b[0m\u001b[0;34m(\u001b[0m\u001b[0;34m)\u001b[0m\u001b[0;34m\u001b[0m\u001b[0;34m\u001b[0m\u001b[0m\n\u001b[1;32m     16\u001b[0m         \u001b[0;31m#flatten the image to vector of size 28*28\u001b[0m\u001b[0;34m\u001b[0m\u001b[0;34m\u001b[0m\u001b[0;34m\u001b[0m\u001b[0m\n",
            "\u001b[0;32m/usr/local/lib/python3.7/dist-packages/torch/utils/data/dataloader.py\u001b[0m in \u001b[0;36m__next__\u001b[0;34m(self)\u001b[0m\n\u001b[1;32m    679\u001b[0m                 \u001b[0;31m# TODO(https://github.com/pytorch/pytorch/issues/76750)\u001b[0m\u001b[0;34m\u001b[0m\u001b[0;34m\u001b[0m\u001b[0;34m\u001b[0m\u001b[0m\n\u001b[1;32m    680\u001b[0m                 \u001b[0mself\u001b[0m\u001b[0;34m.\u001b[0m\u001b[0m_reset\u001b[0m\u001b[0;34m(\u001b[0m\u001b[0;34m)\u001b[0m  \u001b[0;31m# type: ignore[call-arg]\u001b[0m\u001b[0;34m\u001b[0m\u001b[0;34m\u001b[0m\u001b[0m\n\u001b[0;32m--> 681\u001b[0;31m             \u001b[0mdata\u001b[0m \u001b[0;34m=\u001b[0m \u001b[0mself\u001b[0m\u001b[0;34m.\u001b[0m\u001b[0m_next_data\u001b[0m\u001b[0;34m(\u001b[0m\u001b[0;34m)\u001b[0m\u001b[0;34m\u001b[0m\u001b[0;34m\u001b[0m\u001b[0m\n\u001b[0m\u001b[1;32m    682\u001b[0m             \u001b[0mself\u001b[0m\u001b[0;34m.\u001b[0m\u001b[0m_num_yielded\u001b[0m \u001b[0;34m+=\u001b[0m \u001b[0;36m1\u001b[0m\u001b[0;34m\u001b[0m\u001b[0;34m\u001b[0m\u001b[0m\n\u001b[1;32m    683\u001b[0m             \u001b[0;32mif\u001b[0m \u001b[0mself\u001b[0m\u001b[0;34m.\u001b[0m\u001b[0m_dataset_kind\u001b[0m \u001b[0;34m==\u001b[0m \u001b[0m_DatasetKind\u001b[0m\u001b[0;34m.\u001b[0m\u001b[0mIterable\u001b[0m \u001b[0;32mand\u001b[0m\u001b[0;31m \u001b[0m\u001b[0;31m\\\u001b[0m\u001b[0;34m\u001b[0m\u001b[0;34m\u001b[0m\u001b[0m\n",
            "\u001b[0;32m/usr/local/lib/python3.7/dist-packages/torch/utils/data/dataloader.py\u001b[0m in \u001b[0;36m_next_data\u001b[0;34m(self)\u001b[0m\n\u001b[1;32m    719\u001b[0m     \u001b[0;32mdef\u001b[0m \u001b[0m_next_data\u001b[0m\u001b[0;34m(\u001b[0m\u001b[0mself\u001b[0m\u001b[0;34m)\u001b[0m\u001b[0;34m:\u001b[0m\u001b[0;34m\u001b[0m\u001b[0;34m\u001b[0m\u001b[0m\n\u001b[1;32m    720\u001b[0m         \u001b[0mindex\u001b[0m \u001b[0;34m=\u001b[0m \u001b[0mself\u001b[0m\u001b[0;34m.\u001b[0m\u001b[0m_next_index\u001b[0m\u001b[0;34m(\u001b[0m\u001b[0;34m)\u001b[0m  \u001b[0;31m# may raise StopIteration\u001b[0m\u001b[0;34m\u001b[0m\u001b[0;34m\u001b[0m\u001b[0m\n\u001b[0;32m--> 721\u001b[0;31m         \u001b[0mdata\u001b[0m \u001b[0;34m=\u001b[0m \u001b[0mself\u001b[0m\u001b[0;34m.\u001b[0m\u001b[0m_dataset_fetcher\u001b[0m\u001b[0;34m.\u001b[0m\u001b[0mfetch\u001b[0m\u001b[0;34m(\u001b[0m\u001b[0mindex\u001b[0m\u001b[0;34m)\u001b[0m  \u001b[0;31m# may raise StopIteration\u001b[0m\u001b[0;34m\u001b[0m\u001b[0;34m\u001b[0m\u001b[0m\n\u001b[0m\u001b[1;32m    722\u001b[0m         \u001b[0;32mif\u001b[0m \u001b[0mself\u001b[0m\u001b[0;34m.\u001b[0m\u001b[0m_pin_memory\u001b[0m\u001b[0;34m:\u001b[0m\u001b[0;34m\u001b[0m\u001b[0;34m\u001b[0m\u001b[0m\n\u001b[1;32m    723\u001b[0m             \u001b[0mdata\u001b[0m \u001b[0;34m=\u001b[0m \u001b[0m_utils\u001b[0m\u001b[0;34m.\u001b[0m\u001b[0mpin_memory\u001b[0m\u001b[0;34m.\u001b[0m\u001b[0mpin_memory\u001b[0m\u001b[0;34m(\u001b[0m\u001b[0mdata\u001b[0m\u001b[0;34m,\u001b[0m \u001b[0mself\u001b[0m\u001b[0;34m.\u001b[0m\u001b[0m_pin_memory_device\u001b[0m\u001b[0;34m)\u001b[0m\u001b[0;34m\u001b[0m\u001b[0;34m\u001b[0m\u001b[0m\n",
            "\u001b[0;32m/usr/local/lib/python3.7/dist-packages/torch/utils/data/_utils/fetch.py\u001b[0m in \u001b[0;36mfetch\u001b[0;34m(self, possibly_batched_index)\u001b[0m\n\u001b[1;32m     47\u001b[0m     \u001b[0;32mdef\u001b[0m \u001b[0mfetch\u001b[0m\u001b[0;34m(\u001b[0m\u001b[0mself\u001b[0m\u001b[0;34m,\u001b[0m \u001b[0mpossibly_batched_index\u001b[0m\u001b[0;34m)\u001b[0m\u001b[0;34m:\u001b[0m\u001b[0;34m\u001b[0m\u001b[0;34m\u001b[0m\u001b[0m\n\u001b[1;32m     48\u001b[0m         \u001b[0;32mif\u001b[0m \u001b[0mself\u001b[0m\u001b[0;34m.\u001b[0m\u001b[0mauto_collation\u001b[0m\u001b[0;34m:\u001b[0m\u001b[0;34m\u001b[0m\u001b[0;34m\u001b[0m\u001b[0m\n\u001b[0;32m---> 49\u001b[0;31m             \u001b[0mdata\u001b[0m \u001b[0;34m=\u001b[0m \u001b[0;34m[\u001b[0m\u001b[0mself\u001b[0m\u001b[0;34m.\u001b[0m\u001b[0mdataset\u001b[0m\u001b[0;34m[\u001b[0m\u001b[0midx\u001b[0m\u001b[0;34m]\u001b[0m \u001b[0;32mfor\u001b[0m \u001b[0midx\u001b[0m \u001b[0;32min\u001b[0m \u001b[0mpossibly_batched_index\u001b[0m\u001b[0;34m]\u001b[0m\u001b[0;34m\u001b[0m\u001b[0;34m\u001b[0m\u001b[0m\n\u001b[0m\u001b[1;32m     50\u001b[0m         \u001b[0;32melse\u001b[0m\u001b[0;34m:\u001b[0m\u001b[0;34m\u001b[0m\u001b[0;34m\u001b[0m\u001b[0m\n\u001b[1;32m     51\u001b[0m             \u001b[0mdata\u001b[0m \u001b[0;34m=\u001b[0m \u001b[0mself\u001b[0m\u001b[0;34m.\u001b[0m\u001b[0mdataset\u001b[0m\u001b[0;34m[\u001b[0m\u001b[0mpossibly_batched_index\u001b[0m\u001b[0;34m]\u001b[0m\u001b[0;34m\u001b[0m\u001b[0;34m\u001b[0m\u001b[0m\n",
            "\u001b[0;32m/usr/local/lib/python3.7/dist-packages/torch/utils/data/_utils/fetch.py\u001b[0m in \u001b[0;36m<listcomp>\u001b[0;34m(.0)\u001b[0m\n\u001b[1;32m     47\u001b[0m     \u001b[0;32mdef\u001b[0m \u001b[0mfetch\u001b[0m\u001b[0;34m(\u001b[0m\u001b[0mself\u001b[0m\u001b[0;34m,\u001b[0m \u001b[0mpossibly_batched_index\u001b[0m\u001b[0;34m)\u001b[0m\u001b[0;34m:\u001b[0m\u001b[0;34m\u001b[0m\u001b[0;34m\u001b[0m\u001b[0m\n\u001b[1;32m     48\u001b[0m         \u001b[0;32mif\u001b[0m \u001b[0mself\u001b[0m\u001b[0;34m.\u001b[0m\u001b[0mauto_collation\u001b[0m\u001b[0;34m:\u001b[0m\u001b[0;34m\u001b[0m\u001b[0;34m\u001b[0m\u001b[0m\n\u001b[0;32m---> 49\u001b[0;31m             \u001b[0mdata\u001b[0m \u001b[0;34m=\u001b[0m \u001b[0;34m[\u001b[0m\u001b[0mself\u001b[0m\u001b[0;34m.\u001b[0m\u001b[0mdataset\u001b[0m\u001b[0;34m[\u001b[0m\u001b[0midx\u001b[0m\u001b[0;34m]\u001b[0m \u001b[0;32mfor\u001b[0m \u001b[0midx\u001b[0m \u001b[0;32min\u001b[0m \u001b[0mpossibly_batched_index\u001b[0m\u001b[0;34m]\u001b[0m\u001b[0;34m\u001b[0m\u001b[0;34m\u001b[0m\u001b[0m\n\u001b[0m\u001b[1;32m     50\u001b[0m         \u001b[0;32melse\u001b[0m\u001b[0;34m:\u001b[0m\u001b[0;34m\u001b[0m\u001b[0;34m\u001b[0m\u001b[0m\n\u001b[1;32m     51\u001b[0m             \u001b[0mdata\u001b[0m \u001b[0;34m=\u001b[0m \u001b[0mself\u001b[0m\u001b[0;34m.\u001b[0m\u001b[0mdataset\u001b[0m\u001b[0;34m[\u001b[0m\u001b[0mpossibly_batched_index\u001b[0m\u001b[0;34m]\u001b[0m\u001b[0;34m\u001b[0m\u001b[0;34m\u001b[0m\u001b[0m\n",
            "\u001b[0;32m/usr/local/lib/python3.7/dist-packages/torchvision/datasets/mnist.py\u001b[0m in \u001b[0;36m__getitem__\u001b[0;34m(self, index)\u001b[0m\n\u001b[1;32m    143\u001b[0m \u001b[0;34m\u001b[0m\u001b[0m\n\u001b[1;32m    144\u001b[0m         \u001b[0;32mif\u001b[0m \u001b[0mself\u001b[0m\u001b[0;34m.\u001b[0m\u001b[0mtransform\u001b[0m \u001b[0;32mis\u001b[0m \u001b[0;32mnot\u001b[0m \u001b[0;32mNone\u001b[0m\u001b[0;34m:\u001b[0m\u001b[0;34m\u001b[0m\u001b[0;34m\u001b[0m\u001b[0m\n\u001b[0;32m--> 145\u001b[0;31m             \u001b[0mimg\u001b[0m \u001b[0;34m=\u001b[0m \u001b[0mself\u001b[0m\u001b[0;34m.\u001b[0m\u001b[0mtransform\u001b[0m\u001b[0;34m(\u001b[0m\u001b[0mimg\u001b[0m\u001b[0;34m)\u001b[0m\u001b[0;34m\u001b[0m\u001b[0;34m\u001b[0m\u001b[0m\n\u001b[0m\u001b[1;32m    146\u001b[0m \u001b[0;34m\u001b[0m\u001b[0m\n\u001b[1;32m    147\u001b[0m         \u001b[0;32mif\u001b[0m \u001b[0mself\u001b[0m\u001b[0;34m.\u001b[0m\u001b[0mtarget_transform\u001b[0m \u001b[0;32mis\u001b[0m \u001b[0;32mnot\u001b[0m \u001b[0;32mNone\u001b[0m\u001b[0;34m:\u001b[0m\u001b[0;34m\u001b[0m\u001b[0;34m\u001b[0m\u001b[0m\n",
            "\u001b[0;32m/usr/local/lib/python3.7/dist-packages/torchvision/transforms/transforms.py\u001b[0m in \u001b[0;36m__call__\u001b[0;34m(self, img)\u001b[0m\n\u001b[1;32m     92\u001b[0m     \u001b[0;32mdef\u001b[0m \u001b[0m__call__\u001b[0m\u001b[0;34m(\u001b[0m\u001b[0mself\u001b[0m\u001b[0;34m,\u001b[0m \u001b[0mimg\u001b[0m\u001b[0;34m)\u001b[0m\u001b[0;34m:\u001b[0m\u001b[0;34m\u001b[0m\u001b[0;34m\u001b[0m\u001b[0m\n\u001b[1;32m     93\u001b[0m         \u001b[0;32mfor\u001b[0m \u001b[0mt\u001b[0m \u001b[0;32min\u001b[0m \u001b[0mself\u001b[0m\u001b[0;34m.\u001b[0m\u001b[0mtransforms\u001b[0m\u001b[0;34m:\u001b[0m\u001b[0;34m\u001b[0m\u001b[0;34m\u001b[0m\u001b[0m\n\u001b[0;32m---> 94\u001b[0;31m             \u001b[0mimg\u001b[0m \u001b[0;34m=\u001b[0m \u001b[0mt\u001b[0m\u001b[0;34m(\u001b[0m\u001b[0mimg\u001b[0m\u001b[0;34m)\u001b[0m\u001b[0;34m\u001b[0m\u001b[0;34m\u001b[0m\u001b[0m\n\u001b[0m\u001b[1;32m     95\u001b[0m         \u001b[0;32mreturn\u001b[0m \u001b[0mimg\u001b[0m\u001b[0;34m\u001b[0m\u001b[0;34m\u001b[0m\u001b[0m\n\u001b[1;32m     96\u001b[0m \u001b[0;34m\u001b[0m\u001b[0m\n",
            "\u001b[0;32m/usr/local/lib/python3.7/dist-packages/torch/nn/modules/module.py\u001b[0m in \u001b[0;36m_call_impl\u001b[0;34m(self, *input, **kwargs)\u001b[0m\n\u001b[1;32m   1128\u001b[0m         if not (self._backward_hooks or self._forward_hooks or self._forward_pre_hooks or _global_backward_hooks\n\u001b[1;32m   1129\u001b[0m                 or _global_forward_hooks or _global_forward_pre_hooks):\n\u001b[0;32m-> 1130\u001b[0;31m             \u001b[0;32mreturn\u001b[0m \u001b[0mforward_call\u001b[0m\u001b[0;34m(\u001b[0m\u001b[0;34m*\u001b[0m\u001b[0minput\u001b[0m\u001b[0;34m,\u001b[0m \u001b[0;34m**\u001b[0m\u001b[0mkwargs\u001b[0m\u001b[0;34m)\u001b[0m\u001b[0;34m\u001b[0m\u001b[0;34m\u001b[0m\u001b[0m\n\u001b[0m\u001b[1;32m   1131\u001b[0m         \u001b[0;31m# Do not call functions when jit is used\u001b[0m\u001b[0;34m\u001b[0m\u001b[0;34m\u001b[0m\u001b[0;34m\u001b[0m\u001b[0m\n\u001b[1;32m   1132\u001b[0m         \u001b[0mfull_backward_hooks\u001b[0m\u001b[0;34m,\u001b[0m \u001b[0mnon_full_backward_hooks\u001b[0m \u001b[0;34m=\u001b[0m \u001b[0;34m[\u001b[0m\u001b[0;34m]\u001b[0m\u001b[0;34m,\u001b[0m \u001b[0;34m[\u001b[0m\u001b[0;34m]\u001b[0m\u001b[0;34m\u001b[0m\u001b[0;34m\u001b[0m\u001b[0m\n",
            "\u001b[0;32m/usr/local/lib/python3.7/dist-packages/torchvision/transforms/transforms.py\u001b[0m in \u001b[0;36mforward\u001b[0;34m(self, tensor)\u001b[0m\n\u001b[1;32m    267\u001b[0m             \u001b[0mTensor\u001b[0m\u001b[0;34m:\u001b[0m \u001b[0mNormalized\u001b[0m \u001b[0mTensor\u001b[0m \u001b[0mimage\u001b[0m\u001b[0;34m.\u001b[0m\u001b[0;34m\u001b[0m\u001b[0;34m\u001b[0m\u001b[0m\n\u001b[1;32m    268\u001b[0m         \"\"\"\n\u001b[0;32m--> 269\u001b[0;31m         \u001b[0;32mreturn\u001b[0m \u001b[0mF\u001b[0m\u001b[0;34m.\u001b[0m\u001b[0mnormalize\u001b[0m\u001b[0;34m(\u001b[0m\u001b[0mtensor\u001b[0m\u001b[0;34m,\u001b[0m \u001b[0mself\u001b[0m\u001b[0;34m.\u001b[0m\u001b[0mmean\u001b[0m\u001b[0;34m,\u001b[0m \u001b[0mself\u001b[0m\u001b[0;34m.\u001b[0m\u001b[0mstd\u001b[0m\u001b[0;34m,\u001b[0m \u001b[0mself\u001b[0m\u001b[0;34m.\u001b[0m\u001b[0minplace\u001b[0m\u001b[0;34m)\u001b[0m\u001b[0;34m\u001b[0m\u001b[0;34m\u001b[0m\u001b[0m\n\u001b[0m\u001b[1;32m    270\u001b[0m \u001b[0;34m\u001b[0m\u001b[0m\n\u001b[1;32m    271\u001b[0m     \u001b[0;32mdef\u001b[0m \u001b[0m__repr__\u001b[0m\u001b[0;34m(\u001b[0m\u001b[0mself\u001b[0m\u001b[0;34m)\u001b[0m \u001b[0;34m->\u001b[0m \u001b[0mstr\u001b[0m\u001b[0;34m:\u001b[0m\u001b[0;34m\u001b[0m\u001b[0;34m\u001b[0m\u001b[0m\n",
            "\u001b[0;32m/usr/local/lib/python3.7/dist-packages/torchvision/transforms/functional.py\u001b[0m in \u001b[0;36mnormalize\u001b[0;34m(tensor, mean, std, inplace)\u001b[0m\n\u001b[1;32m    358\u001b[0m         \u001b[0;32mraise\u001b[0m \u001b[0mTypeError\u001b[0m\u001b[0;34m(\u001b[0m\u001b[0;34mf\"img should be Tensor Image. Got {type(tensor)}\"\u001b[0m\u001b[0;34m)\u001b[0m\u001b[0;34m\u001b[0m\u001b[0;34m\u001b[0m\u001b[0m\n\u001b[1;32m    359\u001b[0m \u001b[0;34m\u001b[0m\u001b[0m\n\u001b[0;32m--> 360\u001b[0;31m     \u001b[0;32mreturn\u001b[0m \u001b[0mF_t\u001b[0m\u001b[0;34m.\u001b[0m\u001b[0mnormalize\u001b[0m\u001b[0;34m(\u001b[0m\u001b[0mtensor\u001b[0m\u001b[0;34m,\u001b[0m \u001b[0mmean\u001b[0m\u001b[0;34m=\u001b[0m\u001b[0mmean\u001b[0m\u001b[0;34m,\u001b[0m \u001b[0mstd\u001b[0m\u001b[0;34m=\u001b[0m\u001b[0mstd\u001b[0m\u001b[0;34m,\u001b[0m \u001b[0minplace\u001b[0m\u001b[0;34m=\u001b[0m\u001b[0minplace\u001b[0m\u001b[0;34m)\u001b[0m\u001b[0;34m\u001b[0m\u001b[0;34m\u001b[0m\u001b[0m\n\u001b[0m\u001b[1;32m    361\u001b[0m \u001b[0;34m\u001b[0m\u001b[0m\n\u001b[1;32m    362\u001b[0m \u001b[0;34m\u001b[0m\u001b[0m\n",
            "\u001b[0;32m/usr/local/lib/python3.7/dist-packages/torchvision/transforms/functional_tensor.py\u001b[0m in \u001b[0;36mnormalize\u001b[0;34m(tensor, mean, std, inplace)\u001b[0m\n\u001b[1;32m    949\u001b[0m \u001b[0;34m\u001b[0m\u001b[0m\n\u001b[1;32m    950\u001b[0m     \u001b[0mdtype\u001b[0m \u001b[0;34m=\u001b[0m \u001b[0mtensor\u001b[0m\u001b[0;34m.\u001b[0m\u001b[0mdtype\u001b[0m\u001b[0;34m\u001b[0m\u001b[0;34m\u001b[0m\u001b[0m\n\u001b[0;32m--> 951\u001b[0;31m     \u001b[0mmean\u001b[0m \u001b[0;34m=\u001b[0m \u001b[0mtorch\u001b[0m\u001b[0;34m.\u001b[0m\u001b[0mas_tensor\u001b[0m\u001b[0;34m(\u001b[0m\u001b[0mmean\u001b[0m\u001b[0;34m,\u001b[0m \u001b[0mdtype\u001b[0m\u001b[0;34m=\u001b[0m\u001b[0mdtype\u001b[0m\u001b[0;34m,\u001b[0m \u001b[0mdevice\u001b[0m\u001b[0;34m=\u001b[0m\u001b[0mtensor\u001b[0m\u001b[0;34m.\u001b[0m\u001b[0mdevice\u001b[0m\u001b[0;34m)\u001b[0m\u001b[0;34m\u001b[0m\u001b[0;34m\u001b[0m\u001b[0m\n\u001b[0m\u001b[1;32m    952\u001b[0m     \u001b[0mstd\u001b[0m \u001b[0;34m=\u001b[0m \u001b[0mtorch\u001b[0m\u001b[0;34m.\u001b[0m\u001b[0mas_tensor\u001b[0m\u001b[0;34m(\u001b[0m\u001b[0mstd\u001b[0m\u001b[0;34m,\u001b[0m \u001b[0mdtype\u001b[0m\u001b[0;34m=\u001b[0m\u001b[0mdtype\u001b[0m\u001b[0;34m,\u001b[0m \u001b[0mdevice\u001b[0m\u001b[0;34m=\u001b[0m\u001b[0mtensor\u001b[0m\u001b[0;34m.\u001b[0m\u001b[0mdevice\u001b[0m\u001b[0;34m)\u001b[0m\u001b[0;34m\u001b[0m\u001b[0;34m\u001b[0m\u001b[0m\n\u001b[1;32m    953\u001b[0m     \u001b[0;32mif\u001b[0m \u001b[0;34m(\u001b[0m\u001b[0mstd\u001b[0m \u001b[0;34m==\u001b[0m \u001b[0;36m0\u001b[0m\u001b[0;34m)\u001b[0m\u001b[0;34m.\u001b[0m\u001b[0many\u001b[0m\u001b[0;34m(\u001b[0m\u001b[0;34m)\u001b[0m\u001b[0;34m:\u001b[0m\u001b[0;34m\u001b[0m\u001b[0;34m\u001b[0m\u001b[0m\n",
            "\u001b[0;31mKeyboardInterrupt\u001b[0m: "
          ]
        }
      ]
    },
    {
      "cell_type": "markdown",
      "source": [
        "3. Function 3: `two_hidden_layers_sigmoid(number_of_neurons)`\\\n",
        "• Same as Function 2, with 2 hidden layers\\\n",
        "• Use sigmoid as activation function\\\n",
        "• Train for 20 epochs with lr = 0.1\\\n",
        "• Plot a figure with the accuracy on the training set and validation set for each\n",
        "epoch\\\n",
        "• Plot the accuracy on the test set of the final model\n"
      ],
      "metadata": {
        "id": "TW0g0WQtKcVb"
      }
    },
    {
      "cell_type": "code",
      "source": [
        "### Implement here"
      ],
      "metadata": {
        "id": "o06LGu_xKcxf"
      },
      "execution_count": null,
      "outputs": []
    },
    {
      "cell_type": "markdown",
      "source": [
        "4. Function 4: `two_hidden_layers_relu(number_of_neurons)`\\\n",
        "• Same as Function 2, with 2 hidden layers\\\n",
        "• Use relu as activation function\\\n",
        "• Train for 20 epochs\\\n",
        "• Train the network with different learning rates, plot a figure with the validation\n",
        "accuracy for each learning rate you tried\\\n",
        "• Use the learning rate that yields the best accuracy on the validation set and\n",
        "report the accuracy on the test set\\\n",
        "• Plot a figure with the accuracy on the training set and validation set for each\n",
        "epoch\\\n",
        "• Plot the accuracy on the test set of the final model"
      ],
      "metadata": {
        "id": "yAQfk8ruKdIL"
      }
    },
    {
      "cell_type": "code",
      "source": [
        "### Implement here"
      ],
      "metadata": {
        "id": "EIb2XwWsKd-J"
      },
      "execution_count": null,
      "outputs": []
    },
    {
      "cell_type": "markdown",
      "source": [
        "5. Function 5: `two_hidden_layers_relu_SGD_decreasing_lr(number_of_neurons)`\\\n",
        "• Same as Function 4\\\n",
        "• Use lr = 0.01\\\n",
        "• Use decreasing learning rate\\\n",
        "• Plot a figure with the accuracy on the training set and validation set for each\n",
        "epoch\\\n",
        "• Plot the accuracy on the test set of the final model\\\n"
      ],
      "metadata": {
        "id": "4fmqqqcAKek7"
      }
    },
    {
      "cell_type": "code",
      "source": [
        "### Implement here"
      ],
      "metadata": {
        "id": "beofR99mKfSL"
      },
      "execution_count": null,
      "outputs": []
    },
    {
      "cell_type": "markdown",
      "source": [
        "6. Function 6: `two_hidden_layers_relu_adam(number_of_neurons)`\\\n",
        "• Same as Function 4\\\n",
        "• Use Adam as optimizer with lr=0.001\\\n",
        "• Train for 30 epochs\\\n",
        "• Plot a figure with the accuracy on the training set and validation set for each\n",
        "epoch\\\n",
        "• Plot the accuracy on the test set of the final model\n"
      ],
      "metadata": {
        "id": "djK1YXF5KgGc"
      }
    },
    {
      "cell_type": "code",
      "source": [
        "### Implement here"
      ],
      "metadata": {
        "id": "Vz1bI9ShKru6"
      },
      "execution_count": null,
      "outputs": []
    },
    {
      "cell_type": "markdown",
      "source": [
        "7. Function 7: `four_hidden_layers_adam(number_of_neurons)`\\\n",
        "• Same as Function 6, but use 4 hidden layers instead of 2\\\n",
        "• Train for 30 epochs\\\n",
        "• Use Adam as optimizer\\\n",
        "• Plot a figure with the accuracy on the training set and validation set for each\n",
        "epoch\\\n",
        "• Plot the accuracy on the test set of the final model\n"
      ],
      "metadata": {
        "id": "NK0_l63UKrUq"
      }
    },
    {
      "cell_type": "code",
      "source": [
        "### Implement here"
      ],
      "metadata": {
        "id": "Df4r0b3pKswm"
      },
      "execution_count": null,
      "outputs": []
    },
    {
      "cell_type": "markdown",
      "source": [
        "8. Function 8: `four_hidden_layers_adam_weight_decay(number_of_neurons)`\\\n",
        "• Same as Function 6, but use 4 hidden layers instead of 2\\\n",
        "• Use only 10% of the training set for training\\\n",
        "• Train for 250 epochs\\\n",
        "• Use Adam as optimizer with weight decay as regularization method\\\n",
        "• Plot a figure of the training and validation loss function during the training\n",
        "process. Write in your report what's the difference between training with and\n",
        "without weight decay? Based your answer on the plots.\\\n",
        "• Plot a figure with the accuracy on the training set and validation set for each\n",
        "epoch\\\n",
        "• Plot the accuracy on the test set of the final model\n"
      ],
      "metadata": {
        "id": "mFIQBO--KtRa"
      }
    },
    {
      "cell_type": "code",
      "source": [
        "### Implement here"
      ],
      "metadata": {
        "id": "4-Cmo5ykKtxF"
      },
      "execution_count": null,
      "outputs": []
    },
    {
      "cell_type": "markdown",
      "source": [
        "9. Function 9: `four_hidden_layers_adam_early_stopping(number_of_neurons)`\\\n",
        "• Same as Function 6, but use 4 hidden layers instead of 2\\\n",
        "• Use Adam as optimizer\\\n",
        "• Use only 10% of the training set for training\\\n",
        "• Train for 250 epochs\\\n",
        "• Use early stopping regularization (on the validation set) to prevent overfitting with\n",
        "patience=20.\\\n",
        "• Plot a figure of the training and validation loss function during the training\n",
        "process. Show on your figure the early stopping point.\\\n",
        "• Plot a figure with the accuracy on the training set and validation set for each\n",
        "epoch\\\n",
        "• Plot the accuracy on the test set of the final model"
      ],
      "metadata": {
        "id": "rLVffyXuKuFR"
      }
    },
    {
      "cell_type": "code",
      "source": [
        "### Implement here"
      ],
      "metadata": {
        "id": "hUJK8uHZKupC"
      },
      "execution_count": null,
      "outputs": []
    },
    {
      "cell_type": "markdown",
      "source": [
        "Run the following commands:"
      ],
      "metadata": {
        "id": "XrHdxBhdLvrg"
      }
    },
    {
      "cell_type": "code",
      "execution_count": null,
      "metadata": {
        "id": "kDLgwN-NNdVE"
      },
      "outputs": [],
      "source": [
        "load_dataset()\n",
        "# 4 neurons per layer\n",
        "number_of_neurons = 4\n",
        "one_hidden_layer_no_activation(number_of_neurons)\n",
        "two_hidden_layers_sigmoid(number_of_neurons)\n",
        "two_hidden_layers_relu(number_of_neurons)\n",
        "two_hidden_layers_relu_adam(number_of_neurons)\n",
        "# 32 neurons per layer\n",
        "number_of_neurons = 32\n",
        "one_hidden_layer_no_activation(number_of_neurons)\n",
        "two_hidden_layers_sigmoid(number_of_neurons)\n",
        "two_hidden_layers_relu(number_of_neurons)\n",
        "two_hidden_layers_relu_adam(number_of_neurons)\n",
        "four_hidden_layers_adam(number_of_neurons)\n"
      ]
    },
    {
      "cell_type": "markdown",
      "source": [
        "After implementing, running and getting the results Answer the following below:\n",
        "1. The networks sorted according to their test results from the worst to the best.\n",
        "2. Give intuitive explanation why we got such order after sorting.\n",
        "3. Is there any difference between the test and the training accuracy? Why?\n",
        "4. Don't forget to keep all the function plots in the notebook"
      ],
      "metadata": {
        "id": "Z568VESPGEPv"
      }
    },
    {
      "cell_type": "markdown",
      "source": [
        "Answers:"
      ],
      "metadata": {
        "id": "1kFyx9VRMp9c"
      }
    }
  ],
  "metadata": {
    "accelerator": "GPU",
    "colab": {
      "provenance": [],
      "include_colab_link": true
    },
    "kernelspec": {
      "display_name": "Python 3",
      "name": "python3"
    },
    "language_info": {
      "name": "python"
    },
    "widgets": {
      "application/vnd.jupyter.widget-state+json": {
        "83b027e6748a450d942aa25af878f1a2": {
          "model_module": "@jupyter-widgets/controls",
          "model_name": "HBoxModel",
          "model_module_version": "1.5.0",
          "state": {
            "_dom_classes": [],
            "_model_module": "@jupyter-widgets/controls",
            "_model_module_version": "1.5.0",
            "_model_name": "HBoxModel",
            "_view_count": null,
            "_view_module": "@jupyter-widgets/controls",
            "_view_module_version": "1.5.0",
            "_view_name": "HBoxView",
            "box_style": "",
            "children": [
              "IPY_MODEL_ed91761c2fc645ed95ad2ef474150060",
              "IPY_MODEL_ec400024120c499ab0d9dbab6f80dc2a",
              "IPY_MODEL_aa1567c1946145dc9954a83742b9ddde"
            ],
            "layout": "IPY_MODEL_139bf69bbc0a4ce8affc96d516ee4817"
          }
        },
        "ed91761c2fc645ed95ad2ef474150060": {
          "model_module": "@jupyter-widgets/controls",
          "model_name": "HTMLModel",
          "model_module_version": "1.5.0",
          "state": {
            "_dom_classes": [],
            "_model_module": "@jupyter-widgets/controls",
            "_model_module_version": "1.5.0",
            "_model_name": "HTMLModel",
            "_view_count": null,
            "_view_module": "@jupyter-widgets/controls",
            "_view_module_version": "1.5.0",
            "_view_name": "HTMLView",
            "description": "",
            "description_tooltip": null,
            "layout": "IPY_MODEL_3be0bfae64874210a35948a48f80e3a0",
            "placeholder": "​",
            "style": "IPY_MODEL_0c0f38d6712349619145b6e6e5bdbef6",
            "value": "100%"
          }
        },
        "ec400024120c499ab0d9dbab6f80dc2a": {
          "model_module": "@jupyter-widgets/controls",
          "model_name": "FloatProgressModel",
          "model_module_version": "1.5.0",
          "state": {
            "_dom_classes": [],
            "_model_module": "@jupyter-widgets/controls",
            "_model_module_version": "1.5.0",
            "_model_name": "FloatProgressModel",
            "_view_count": null,
            "_view_module": "@jupyter-widgets/controls",
            "_view_module_version": "1.5.0",
            "_view_name": "ProgressView",
            "bar_style": "success",
            "description": "",
            "description_tooltip": null,
            "layout": "IPY_MODEL_39ca1f25132e4f8e945c78c3030b3b27",
            "max": 26421880,
            "min": 0,
            "orientation": "horizontal",
            "style": "IPY_MODEL_49c5a17ef398453d809324143fff0afc",
            "value": 26421880
          }
        },
        "aa1567c1946145dc9954a83742b9ddde": {
          "model_module": "@jupyter-widgets/controls",
          "model_name": "HTMLModel",
          "model_module_version": "1.5.0",
          "state": {
            "_dom_classes": [],
            "_model_module": "@jupyter-widgets/controls",
            "_model_module_version": "1.5.0",
            "_model_name": "HTMLModel",
            "_view_count": null,
            "_view_module": "@jupyter-widgets/controls",
            "_view_module_version": "1.5.0",
            "_view_name": "HTMLView",
            "description": "",
            "description_tooltip": null,
            "layout": "IPY_MODEL_fab9e90366d34a08ba6df841cfaff0c0",
            "placeholder": "​",
            "style": "IPY_MODEL_71d492b3d71749bf9fd185814eb37a16",
            "value": " 26421880/26421880 [00:01&lt;00:00, 25647988.72it/s]"
          }
        },
        "139bf69bbc0a4ce8affc96d516ee4817": {
          "model_module": "@jupyter-widgets/base",
          "model_name": "LayoutModel",
          "model_module_version": "1.2.0",
          "state": {
            "_model_module": "@jupyter-widgets/base",
            "_model_module_version": "1.2.0",
            "_model_name": "LayoutModel",
            "_view_count": null,
            "_view_module": "@jupyter-widgets/base",
            "_view_module_version": "1.2.0",
            "_view_name": "LayoutView",
            "align_content": null,
            "align_items": null,
            "align_self": null,
            "border": null,
            "bottom": null,
            "display": null,
            "flex": null,
            "flex_flow": null,
            "grid_area": null,
            "grid_auto_columns": null,
            "grid_auto_flow": null,
            "grid_auto_rows": null,
            "grid_column": null,
            "grid_gap": null,
            "grid_row": null,
            "grid_template_areas": null,
            "grid_template_columns": null,
            "grid_template_rows": null,
            "height": null,
            "justify_content": null,
            "justify_items": null,
            "left": null,
            "margin": null,
            "max_height": null,
            "max_width": null,
            "min_height": null,
            "min_width": null,
            "object_fit": null,
            "object_position": null,
            "order": null,
            "overflow": null,
            "overflow_x": null,
            "overflow_y": null,
            "padding": null,
            "right": null,
            "top": null,
            "visibility": null,
            "width": null
          }
        },
        "3be0bfae64874210a35948a48f80e3a0": {
          "model_module": "@jupyter-widgets/base",
          "model_name": "LayoutModel",
          "model_module_version": "1.2.0",
          "state": {
            "_model_module": "@jupyter-widgets/base",
            "_model_module_version": "1.2.0",
            "_model_name": "LayoutModel",
            "_view_count": null,
            "_view_module": "@jupyter-widgets/base",
            "_view_module_version": "1.2.0",
            "_view_name": "LayoutView",
            "align_content": null,
            "align_items": null,
            "align_self": null,
            "border": null,
            "bottom": null,
            "display": null,
            "flex": null,
            "flex_flow": null,
            "grid_area": null,
            "grid_auto_columns": null,
            "grid_auto_flow": null,
            "grid_auto_rows": null,
            "grid_column": null,
            "grid_gap": null,
            "grid_row": null,
            "grid_template_areas": null,
            "grid_template_columns": null,
            "grid_template_rows": null,
            "height": null,
            "justify_content": null,
            "justify_items": null,
            "left": null,
            "margin": null,
            "max_height": null,
            "max_width": null,
            "min_height": null,
            "min_width": null,
            "object_fit": null,
            "object_position": null,
            "order": null,
            "overflow": null,
            "overflow_x": null,
            "overflow_y": null,
            "padding": null,
            "right": null,
            "top": null,
            "visibility": null,
            "width": null
          }
        },
        "0c0f38d6712349619145b6e6e5bdbef6": {
          "model_module": "@jupyter-widgets/controls",
          "model_name": "DescriptionStyleModel",
          "model_module_version": "1.5.0",
          "state": {
            "_model_module": "@jupyter-widgets/controls",
            "_model_module_version": "1.5.0",
            "_model_name": "DescriptionStyleModel",
            "_view_count": null,
            "_view_module": "@jupyter-widgets/base",
            "_view_module_version": "1.2.0",
            "_view_name": "StyleView",
            "description_width": ""
          }
        },
        "39ca1f25132e4f8e945c78c3030b3b27": {
          "model_module": "@jupyter-widgets/base",
          "model_name": "LayoutModel",
          "model_module_version": "1.2.0",
          "state": {
            "_model_module": "@jupyter-widgets/base",
            "_model_module_version": "1.2.0",
            "_model_name": "LayoutModel",
            "_view_count": null,
            "_view_module": "@jupyter-widgets/base",
            "_view_module_version": "1.2.0",
            "_view_name": "LayoutView",
            "align_content": null,
            "align_items": null,
            "align_self": null,
            "border": null,
            "bottom": null,
            "display": null,
            "flex": null,
            "flex_flow": null,
            "grid_area": null,
            "grid_auto_columns": null,
            "grid_auto_flow": null,
            "grid_auto_rows": null,
            "grid_column": null,
            "grid_gap": null,
            "grid_row": null,
            "grid_template_areas": null,
            "grid_template_columns": null,
            "grid_template_rows": null,
            "height": null,
            "justify_content": null,
            "justify_items": null,
            "left": null,
            "margin": null,
            "max_height": null,
            "max_width": null,
            "min_height": null,
            "min_width": null,
            "object_fit": null,
            "object_position": null,
            "order": null,
            "overflow": null,
            "overflow_x": null,
            "overflow_y": null,
            "padding": null,
            "right": null,
            "top": null,
            "visibility": null,
            "width": null
          }
        },
        "49c5a17ef398453d809324143fff0afc": {
          "model_module": "@jupyter-widgets/controls",
          "model_name": "ProgressStyleModel",
          "model_module_version": "1.5.0",
          "state": {
            "_model_module": "@jupyter-widgets/controls",
            "_model_module_version": "1.5.0",
            "_model_name": "ProgressStyleModel",
            "_view_count": null,
            "_view_module": "@jupyter-widgets/base",
            "_view_module_version": "1.2.0",
            "_view_name": "StyleView",
            "bar_color": null,
            "description_width": ""
          }
        },
        "fab9e90366d34a08ba6df841cfaff0c0": {
          "model_module": "@jupyter-widgets/base",
          "model_name": "LayoutModel",
          "model_module_version": "1.2.0",
          "state": {
            "_model_module": "@jupyter-widgets/base",
            "_model_module_version": "1.2.0",
            "_model_name": "LayoutModel",
            "_view_count": null,
            "_view_module": "@jupyter-widgets/base",
            "_view_module_version": "1.2.0",
            "_view_name": "LayoutView",
            "align_content": null,
            "align_items": null,
            "align_self": null,
            "border": null,
            "bottom": null,
            "display": null,
            "flex": null,
            "flex_flow": null,
            "grid_area": null,
            "grid_auto_columns": null,
            "grid_auto_flow": null,
            "grid_auto_rows": null,
            "grid_column": null,
            "grid_gap": null,
            "grid_row": null,
            "grid_template_areas": null,
            "grid_template_columns": null,
            "grid_template_rows": null,
            "height": null,
            "justify_content": null,
            "justify_items": null,
            "left": null,
            "margin": null,
            "max_height": null,
            "max_width": null,
            "min_height": null,
            "min_width": null,
            "object_fit": null,
            "object_position": null,
            "order": null,
            "overflow": null,
            "overflow_x": null,
            "overflow_y": null,
            "padding": null,
            "right": null,
            "top": null,
            "visibility": null,
            "width": null
          }
        },
        "71d492b3d71749bf9fd185814eb37a16": {
          "model_module": "@jupyter-widgets/controls",
          "model_name": "DescriptionStyleModel",
          "model_module_version": "1.5.0",
          "state": {
            "_model_module": "@jupyter-widgets/controls",
            "_model_module_version": "1.5.0",
            "_model_name": "DescriptionStyleModel",
            "_view_count": null,
            "_view_module": "@jupyter-widgets/base",
            "_view_module_version": "1.2.0",
            "_view_name": "StyleView",
            "description_width": ""
          }
        },
        "55623c205b3046939e7e89e3f942f95e": {
          "model_module": "@jupyter-widgets/controls",
          "model_name": "HBoxModel",
          "model_module_version": "1.5.0",
          "state": {
            "_dom_classes": [],
            "_model_module": "@jupyter-widgets/controls",
            "_model_module_version": "1.5.0",
            "_model_name": "HBoxModel",
            "_view_count": null,
            "_view_module": "@jupyter-widgets/controls",
            "_view_module_version": "1.5.0",
            "_view_name": "HBoxView",
            "box_style": "",
            "children": [
              "IPY_MODEL_fbae653b3f9e493ebf77871697fbf735",
              "IPY_MODEL_e89130bafc1c4f62842267d3afe62861",
              "IPY_MODEL_ba72e29542a54f6d8e033261d4bef8ae"
            ],
            "layout": "IPY_MODEL_3086263b375a4356860d395564b02d65"
          }
        },
        "fbae653b3f9e493ebf77871697fbf735": {
          "model_module": "@jupyter-widgets/controls",
          "model_name": "HTMLModel",
          "model_module_version": "1.5.0",
          "state": {
            "_dom_classes": [],
            "_model_module": "@jupyter-widgets/controls",
            "_model_module_version": "1.5.0",
            "_model_name": "HTMLModel",
            "_view_count": null,
            "_view_module": "@jupyter-widgets/controls",
            "_view_module_version": "1.5.0",
            "_view_name": "HTMLView",
            "description": "",
            "description_tooltip": null,
            "layout": "IPY_MODEL_0d37b94a2b9f44c19bde9c4890ad9d21",
            "placeholder": "​",
            "style": "IPY_MODEL_34b3429b129345b48482d2e1c011fe48",
            "value": "100%"
          }
        },
        "e89130bafc1c4f62842267d3afe62861": {
          "model_module": "@jupyter-widgets/controls",
          "model_name": "FloatProgressModel",
          "model_module_version": "1.5.0",
          "state": {
            "_dom_classes": [],
            "_model_module": "@jupyter-widgets/controls",
            "_model_module_version": "1.5.0",
            "_model_name": "FloatProgressModel",
            "_view_count": null,
            "_view_module": "@jupyter-widgets/controls",
            "_view_module_version": "1.5.0",
            "_view_name": "ProgressView",
            "bar_style": "success",
            "description": "",
            "description_tooltip": null,
            "layout": "IPY_MODEL_f3ad4ca0f9c84f919a17b415e449700a",
            "max": 29515,
            "min": 0,
            "orientation": "horizontal",
            "style": "IPY_MODEL_cec6e523142745bb8dbe9caf592748b7",
            "value": 29515
          }
        },
        "ba72e29542a54f6d8e033261d4bef8ae": {
          "model_module": "@jupyter-widgets/controls",
          "model_name": "HTMLModel",
          "model_module_version": "1.5.0",
          "state": {
            "_dom_classes": [],
            "_model_module": "@jupyter-widgets/controls",
            "_model_module_version": "1.5.0",
            "_model_name": "HTMLModel",
            "_view_count": null,
            "_view_module": "@jupyter-widgets/controls",
            "_view_module_version": "1.5.0",
            "_view_name": "HTMLView",
            "description": "",
            "description_tooltip": null,
            "layout": "IPY_MODEL_58450298d7294cfcbad8605b066a59d1",
            "placeholder": "​",
            "style": "IPY_MODEL_ac2104b30b5a4c08add79ae7fd03f3b3",
            "value": " 29515/29515 [00:00&lt;00:00, 269568.79it/s]"
          }
        },
        "3086263b375a4356860d395564b02d65": {
          "model_module": "@jupyter-widgets/base",
          "model_name": "LayoutModel",
          "model_module_version": "1.2.0",
          "state": {
            "_model_module": "@jupyter-widgets/base",
            "_model_module_version": "1.2.0",
            "_model_name": "LayoutModel",
            "_view_count": null,
            "_view_module": "@jupyter-widgets/base",
            "_view_module_version": "1.2.0",
            "_view_name": "LayoutView",
            "align_content": null,
            "align_items": null,
            "align_self": null,
            "border": null,
            "bottom": null,
            "display": null,
            "flex": null,
            "flex_flow": null,
            "grid_area": null,
            "grid_auto_columns": null,
            "grid_auto_flow": null,
            "grid_auto_rows": null,
            "grid_column": null,
            "grid_gap": null,
            "grid_row": null,
            "grid_template_areas": null,
            "grid_template_columns": null,
            "grid_template_rows": null,
            "height": null,
            "justify_content": null,
            "justify_items": null,
            "left": null,
            "margin": null,
            "max_height": null,
            "max_width": null,
            "min_height": null,
            "min_width": null,
            "object_fit": null,
            "object_position": null,
            "order": null,
            "overflow": null,
            "overflow_x": null,
            "overflow_y": null,
            "padding": null,
            "right": null,
            "top": null,
            "visibility": null,
            "width": null
          }
        },
        "0d37b94a2b9f44c19bde9c4890ad9d21": {
          "model_module": "@jupyter-widgets/base",
          "model_name": "LayoutModel",
          "model_module_version": "1.2.0",
          "state": {
            "_model_module": "@jupyter-widgets/base",
            "_model_module_version": "1.2.0",
            "_model_name": "LayoutModel",
            "_view_count": null,
            "_view_module": "@jupyter-widgets/base",
            "_view_module_version": "1.2.0",
            "_view_name": "LayoutView",
            "align_content": null,
            "align_items": null,
            "align_self": null,
            "border": null,
            "bottom": null,
            "display": null,
            "flex": null,
            "flex_flow": null,
            "grid_area": null,
            "grid_auto_columns": null,
            "grid_auto_flow": null,
            "grid_auto_rows": null,
            "grid_column": null,
            "grid_gap": null,
            "grid_row": null,
            "grid_template_areas": null,
            "grid_template_columns": null,
            "grid_template_rows": null,
            "height": null,
            "justify_content": null,
            "justify_items": null,
            "left": null,
            "margin": null,
            "max_height": null,
            "max_width": null,
            "min_height": null,
            "min_width": null,
            "object_fit": null,
            "object_position": null,
            "order": null,
            "overflow": null,
            "overflow_x": null,
            "overflow_y": null,
            "padding": null,
            "right": null,
            "top": null,
            "visibility": null,
            "width": null
          }
        },
        "34b3429b129345b48482d2e1c011fe48": {
          "model_module": "@jupyter-widgets/controls",
          "model_name": "DescriptionStyleModel",
          "model_module_version": "1.5.0",
          "state": {
            "_model_module": "@jupyter-widgets/controls",
            "_model_module_version": "1.5.0",
            "_model_name": "DescriptionStyleModel",
            "_view_count": null,
            "_view_module": "@jupyter-widgets/base",
            "_view_module_version": "1.2.0",
            "_view_name": "StyleView",
            "description_width": ""
          }
        },
        "f3ad4ca0f9c84f919a17b415e449700a": {
          "model_module": "@jupyter-widgets/base",
          "model_name": "LayoutModel",
          "model_module_version": "1.2.0",
          "state": {
            "_model_module": "@jupyter-widgets/base",
            "_model_module_version": "1.2.0",
            "_model_name": "LayoutModel",
            "_view_count": null,
            "_view_module": "@jupyter-widgets/base",
            "_view_module_version": "1.2.0",
            "_view_name": "LayoutView",
            "align_content": null,
            "align_items": null,
            "align_self": null,
            "border": null,
            "bottom": null,
            "display": null,
            "flex": null,
            "flex_flow": null,
            "grid_area": null,
            "grid_auto_columns": null,
            "grid_auto_flow": null,
            "grid_auto_rows": null,
            "grid_column": null,
            "grid_gap": null,
            "grid_row": null,
            "grid_template_areas": null,
            "grid_template_columns": null,
            "grid_template_rows": null,
            "height": null,
            "justify_content": null,
            "justify_items": null,
            "left": null,
            "margin": null,
            "max_height": null,
            "max_width": null,
            "min_height": null,
            "min_width": null,
            "object_fit": null,
            "object_position": null,
            "order": null,
            "overflow": null,
            "overflow_x": null,
            "overflow_y": null,
            "padding": null,
            "right": null,
            "top": null,
            "visibility": null,
            "width": null
          }
        },
        "cec6e523142745bb8dbe9caf592748b7": {
          "model_module": "@jupyter-widgets/controls",
          "model_name": "ProgressStyleModel",
          "model_module_version": "1.5.0",
          "state": {
            "_model_module": "@jupyter-widgets/controls",
            "_model_module_version": "1.5.0",
            "_model_name": "ProgressStyleModel",
            "_view_count": null,
            "_view_module": "@jupyter-widgets/base",
            "_view_module_version": "1.2.0",
            "_view_name": "StyleView",
            "bar_color": null,
            "description_width": ""
          }
        },
        "58450298d7294cfcbad8605b066a59d1": {
          "model_module": "@jupyter-widgets/base",
          "model_name": "LayoutModel",
          "model_module_version": "1.2.0",
          "state": {
            "_model_module": "@jupyter-widgets/base",
            "_model_module_version": "1.2.0",
            "_model_name": "LayoutModel",
            "_view_count": null,
            "_view_module": "@jupyter-widgets/base",
            "_view_module_version": "1.2.0",
            "_view_name": "LayoutView",
            "align_content": null,
            "align_items": null,
            "align_self": null,
            "border": null,
            "bottom": null,
            "display": null,
            "flex": null,
            "flex_flow": null,
            "grid_area": null,
            "grid_auto_columns": null,
            "grid_auto_flow": null,
            "grid_auto_rows": null,
            "grid_column": null,
            "grid_gap": null,
            "grid_row": null,
            "grid_template_areas": null,
            "grid_template_columns": null,
            "grid_template_rows": null,
            "height": null,
            "justify_content": null,
            "justify_items": null,
            "left": null,
            "margin": null,
            "max_height": null,
            "max_width": null,
            "min_height": null,
            "min_width": null,
            "object_fit": null,
            "object_position": null,
            "order": null,
            "overflow": null,
            "overflow_x": null,
            "overflow_y": null,
            "padding": null,
            "right": null,
            "top": null,
            "visibility": null,
            "width": null
          }
        },
        "ac2104b30b5a4c08add79ae7fd03f3b3": {
          "model_module": "@jupyter-widgets/controls",
          "model_name": "DescriptionStyleModel",
          "model_module_version": "1.5.0",
          "state": {
            "_model_module": "@jupyter-widgets/controls",
            "_model_module_version": "1.5.0",
            "_model_name": "DescriptionStyleModel",
            "_view_count": null,
            "_view_module": "@jupyter-widgets/base",
            "_view_module_version": "1.2.0",
            "_view_name": "StyleView",
            "description_width": ""
          }
        },
        "b5de6d29c7d74c02b1f12a6928a505e2": {
          "model_module": "@jupyter-widgets/controls",
          "model_name": "HBoxModel",
          "model_module_version": "1.5.0",
          "state": {
            "_dom_classes": [],
            "_model_module": "@jupyter-widgets/controls",
            "_model_module_version": "1.5.0",
            "_model_name": "HBoxModel",
            "_view_count": null,
            "_view_module": "@jupyter-widgets/controls",
            "_view_module_version": "1.5.0",
            "_view_name": "HBoxView",
            "box_style": "",
            "children": [
              "IPY_MODEL_600d4733f8784f378c256f7ddac9a7a1",
              "IPY_MODEL_d667ab0f496e485da538f05fa975e2e7",
              "IPY_MODEL_04c037580f5840b69cd01b8314f78971"
            ],
            "layout": "IPY_MODEL_79b6d96a92864a10aeb27413a38ee8e5"
          }
        },
        "600d4733f8784f378c256f7ddac9a7a1": {
          "model_module": "@jupyter-widgets/controls",
          "model_name": "HTMLModel",
          "model_module_version": "1.5.0",
          "state": {
            "_dom_classes": [],
            "_model_module": "@jupyter-widgets/controls",
            "_model_module_version": "1.5.0",
            "_model_name": "HTMLModel",
            "_view_count": null,
            "_view_module": "@jupyter-widgets/controls",
            "_view_module_version": "1.5.0",
            "_view_name": "HTMLView",
            "description": "",
            "description_tooltip": null,
            "layout": "IPY_MODEL_ca8136610f5b4e1f9eb21bce77070525",
            "placeholder": "​",
            "style": "IPY_MODEL_a30af67f70174a9283ab8ecf681f2aaa",
            "value": "100%"
          }
        },
        "d667ab0f496e485da538f05fa975e2e7": {
          "model_module": "@jupyter-widgets/controls",
          "model_name": "FloatProgressModel",
          "model_module_version": "1.5.0",
          "state": {
            "_dom_classes": [],
            "_model_module": "@jupyter-widgets/controls",
            "_model_module_version": "1.5.0",
            "_model_name": "FloatProgressModel",
            "_view_count": null,
            "_view_module": "@jupyter-widgets/controls",
            "_view_module_version": "1.5.0",
            "_view_name": "ProgressView",
            "bar_style": "success",
            "description": "",
            "description_tooltip": null,
            "layout": "IPY_MODEL_f6ffdd608970401995659deccf745557",
            "max": 4422102,
            "min": 0,
            "orientation": "horizontal",
            "style": "IPY_MODEL_0e762c20c2864fff932de93e27c2116c",
            "value": 4422102
          }
        },
        "04c037580f5840b69cd01b8314f78971": {
          "model_module": "@jupyter-widgets/controls",
          "model_name": "HTMLModel",
          "model_module_version": "1.5.0",
          "state": {
            "_dom_classes": [],
            "_model_module": "@jupyter-widgets/controls",
            "_model_module_version": "1.5.0",
            "_model_name": "HTMLModel",
            "_view_count": null,
            "_view_module": "@jupyter-widgets/controls",
            "_view_module_version": "1.5.0",
            "_view_name": "HTMLView",
            "description": "",
            "description_tooltip": null,
            "layout": "IPY_MODEL_c9682f7b4d28469e873c6040085bcca5",
            "placeholder": "​",
            "style": "IPY_MODEL_9ed548bd88d747299fad49004085d5dd",
            "value": " 4422102/4422102 [00:00&lt;00:00, 8414398.92it/s]"
          }
        },
        "79b6d96a92864a10aeb27413a38ee8e5": {
          "model_module": "@jupyter-widgets/base",
          "model_name": "LayoutModel",
          "model_module_version": "1.2.0",
          "state": {
            "_model_module": "@jupyter-widgets/base",
            "_model_module_version": "1.2.0",
            "_model_name": "LayoutModel",
            "_view_count": null,
            "_view_module": "@jupyter-widgets/base",
            "_view_module_version": "1.2.0",
            "_view_name": "LayoutView",
            "align_content": null,
            "align_items": null,
            "align_self": null,
            "border": null,
            "bottom": null,
            "display": null,
            "flex": null,
            "flex_flow": null,
            "grid_area": null,
            "grid_auto_columns": null,
            "grid_auto_flow": null,
            "grid_auto_rows": null,
            "grid_column": null,
            "grid_gap": null,
            "grid_row": null,
            "grid_template_areas": null,
            "grid_template_columns": null,
            "grid_template_rows": null,
            "height": null,
            "justify_content": null,
            "justify_items": null,
            "left": null,
            "margin": null,
            "max_height": null,
            "max_width": null,
            "min_height": null,
            "min_width": null,
            "object_fit": null,
            "object_position": null,
            "order": null,
            "overflow": null,
            "overflow_x": null,
            "overflow_y": null,
            "padding": null,
            "right": null,
            "top": null,
            "visibility": null,
            "width": null
          }
        },
        "ca8136610f5b4e1f9eb21bce77070525": {
          "model_module": "@jupyter-widgets/base",
          "model_name": "LayoutModel",
          "model_module_version": "1.2.0",
          "state": {
            "_model_module": "@jupyter-widgets/base",
            "_model_module_version": "1.2.0",
            "_model_name": "LayoutModel",
            "_view_count": null,
            "_view_module": "@jupyter-widgets/base",
            "_view_module_version": "1.2.0",
            "_view_name": "LayoutView",
            "align_content": null,
            "align_items": null,
            "align_self": null,
            "border": null,
            "bottom": null,
            "display": null,
            "flex": null,
            "flex_flow": null,
            "grid_area": null,
            "grid_auto_columns": null,
            "grid_auto_flow": null,
            "grid_auto_rows": null,
            "grid_column": null,
            "grid_gap": null,
            "grid_row": null,
            "grid_template_areas": null,
            "grid_template_columns": null,
            "grid_template_rows": null,
            "height": null,
            "justify_content": null,
            "justify_items": null,
            "left": null,
            "margin": null,
            "max_height": null,
            "max_width": null,
            "min_height": null,
            "min_width": null,
            "object_fit": null,
            "object_position": null,
            "order": null,
            "overflow": null,
            "overflow_x": null,
            "overflow_y": null,
            "padding": null,
            "right": null,
            "top": null,
            "visibility": null,
            "width": null
          }
        },
        "a30af67f70174a9283ab8ecf681f2aaa": {
          "model_module": "@jupyter-widgets/controls",
          "model_name": "DescriptionStyleModel",
          "model_module_version": "1.5.0",
          "state": {
            "_model_module": "@jupyter-widgets/controls",
            "_model_module_version": "1.5.0",
            "_model_name": "DescriptionStyleModel",
            "_view_count": null,
            "_view_module": "@jupyter-widgets/base",
            "_view_module_version": "1.2.0",
            "_view_name": "StyleView",
            "description_width": ""
          }
        },
        "f6ffdd608970401995659deccf745557": {
          "model_module": "@jupyter-widgets/base",
          "model_name": "LayoutModel",
          "model_module_version": "1.2.0",
          "state": {
            "_model_module": "@jupyter-widgets/base",
            "_model_module_version": "1.2.0",
            "_model_name": "LayoutModel",
            "_view_count": null,
            "_view_module": "@jupyter-widgets/base",
            "_view_module_version": "1.2.0",
            "_view_name": "LayoutView",
            "align_content": null,
            "align_items": null,
            "align_self": null,
            "border": null,
            "bottom": null,
            "display": null,
            "flex": null,
            "flex_flow": null,
            "grid_area": null,
            "grid_auto_columns": null,
            "grid_auto_flow": null,
            "grid_auto_rows": null,
            "grid_column": null,
            "grid_gap": null,
            "grid_row": null,
            "grid_template_areas": null,
            "grid_template_columns": null,
            "grid_template_rows": null,
            "height": null,
            "justify_content": null,
            "justify_items": null,
            "left": null,
            "margin": null,
            "max_height": null,
            "max_width": null,
            "min_height": null,
            "min_width": null,
            "object_fit": null,
            "object_position": null,
            "order": null,
            "overflow": null,
            "overflow_x": null,
            "overflow_y": null,
            "padding": null,
            "right": null,
            "top": null,
            "visibility": null,
            "width": null
          }
        },
        "0e762c20c2864fff932de93e27c2116c": {
          "model_module": "@jupyter-widgets/controls",
          "model_name": "ProgressStyleModel",
          "model_module_version": "1.5.0",
          "state": {
            "_model_module": "@jupyter-widgets/controls",
            "_model_module_version": "1.5.0",
            "_model_name": "ProgressStyleModel",
            "_view_count": null,
            "_view_module": "@jupyter-widgets/base",
            "_view_module_version": "1.2.0",
            "_view_name": "StyleView",
            "bar_color": null,
            "description_width": ""
          }
        },
        "c9682f7b4d28469e873c6040085bcca5": {
          "model_module": "@jupyter-widgets/base",
          "model_name": "LayoutModel",
          "model_module_version": "1.2.0",
          "state": {
            "_model_module": "@jupyter-widgets/base",
            "_model_module_version": "1.2.0",
            "_model_name": "LayoutModel",
            "_view_count": null,
            "_view_module": "@jupyter-widgets/base",
            "_view_module_version": "1.2.0",
            "_view_name": "LayoutView",
            "align_content": null,
            "align_items": null,
            "align_self": null,
            "border": null,
            "bottom": null,
            "display": null,
            "flex": null,
            "flex_flow": null,
            "grid_area": null,
            "grid_auto_columns": null,
            "grid_auto_flow": null,
            "grid_auto_rows": null,
            "grid_column": null,
            "grid_gap": null,
            "grid_row": null,
            "grid_template_areas": null,
            "grid_template_columns": null,
            "grid_template_rows": null,
            "height": null,
            "justify_content": null,
            "justify_items": null,
            "left": null,
            "margin": null,
            "max_height": null,
            "max_width": null,
            "min_height": null,
            "min_width": null,
            "object_fit": null,
            "object_position": null,
            "order": null,
            "overflow": null,
            "overflow_x": null,
            "overflow_y": null,
            "padding": null,
            "right": null,
            "top": null,
            "visibility": null,
            "width": null
          }
        },
        "9ed548bd88d747299fad49004085d5dd": {
          "model_module": "@jupyter-widgets/controls",
          "model_name": "DescriptionStyleModel",
          "model_module_version": "1.5.0",
          "state": {
            "_model_module": "@jupyter-widgets/controls",
            "_model_module_version": "1.5.0",
            "_model_name": "DescriptionStyleModel",
            "_view_count": null,
            "_view_module": "@jupyter-widgets/base",
            "_view_module_version": "1.2.0",
            "_view_name": "StyleView",
            "description_width": ""
          }
        },
        "8b919eab90ab4c2d80ad83282f96cac1": {
          "model_module": "@jupyter-widgets/controls",
          "model_name": "HBoxModel",
          "model_module_version": "1.5.0",
          "state": {
            "_dom_classes": [],
            "_model_module": "@jupyter-widgets/controls",
            "_model_module_version": "1.5.0",
            "_model_name": "HBoxModel",
            "_view_count": null,
            "_view_module": "@jupyter-widgets/controls",
            "_view_module_version": "1.5.0",
            "_view_name": "HBoxView",
            "box_style": "",
            "children": [
              "IPY_MODEL_0a7d26393dd94bbb9d64e3bd73502448",
              "IPY_MODEL_8ea73db349624a10bd313c6739ac0228",
              "IPY_MODEL_058d830ffdb2442eb2c109822e80d8a5"
            ],
            "layout": "IPY_MODEL_d9a7328dff744e69ad4e124f45ed092e"
          }
        },
        "0a7d26393dd94bbb9d64e3bd73502448": {
          "model_module": "@jupyter-widgets/controls",
          "model_name": "HTMLModel",
          "model_module_version": "1.5.0",
          "state": {
            "_dom_classes": [],
            "_model_module": "@jupyter-widgets/controls",
            "_model_module_version": "1.5.0",
            "_model_name": "HTMLModel",
            "_view_count": null,
            "_view_module": "@jupyter-widgets/controls",
            "_view_module_version": "1.5.0",
            "_view_name": "HTMLView",
            "description": "",
            "description_tooltip": null,
            "layout": "IPY_MODEL_884bc1447e574eef9dcea307b7cce812",
            "placeholder": "​",
            "style": "IPY_MODEL_75c810aa3cfe4b76a65553059e017742",
            "value": "100%"
          }
        },
        "8ea73db349624a10bd313c6739ac0228": {
          "model_module": "@jupyter-widgets/controls",
          "model_name": "FloatProgressModel",
          "model_module_version": "1.5.0",
          "state": {
            "_dom_classes": [],
            "_model_module": "@jupyter-widgets/controls",
            "_model_module_version": "1.5.0",
            "_model_name": "FloatProgressModel",
            "_view_count": null,
            "_view_module": "@jupyter-widgets/controls",
            "_view_module_version": "1.5.0",
            "_view_name": "ProgressView",
            "bar_style": "success",
            "description": "",
            "description_tooltip": null,
            "layout": "IPY_MODEL_a652bfbba5f447578865de5df5155495",
            "max": 5148,
            "min": 0,
            "orientation": "horizontal",
            "style": "IPY_MODEL_5d852b1e83834a008aff5b062db0c973",
            "value": 5148
          }
        },
        "058d830ffdb2442eb2c109822e80d8a5": {
          "model_module": "@jupyter-widgets/controls",
          "model_name": "HTMLModel",
          "model_module_version": "1.5.0",
          "state": {
            "_dom_classes": [],
            "_model_module": "@jupyter-widgets/controls",
            "_model_module_version": "1.5.0",
            "_model_name": "HTMLModel",
            "_view_count": null,
            "_view_module": "@jupyter-widgets/controls",
            "_view_module_version": "1.5.0",
            "_view_name": "HTMLView",
            "description": "",
            "description_tooltip": null,
            "layout": "IPY_MODEL_11934006aa5140ffbe820d7b2e0715e7",
            "placeholder": "​",
            "style": "IPY_MODEL_39069fa987b14b47accda1557c53ae55",
            "value": " 5148/5148 [00:00&lt;00:00, 173023.36it/s]"
          }
        },
        "d9a7328dff744e69ad4e124f45ed092e": {
          "model_module": "@jupyter-widgets/base",
          "model_name": "LayoutModel",
          "model_module_version": "1.2.0",
          "state": {
            "_model_module": "@jupyter-widgets/base",
            "_model_module_version": "1.2.0",
            "_model_name": "LayoutModel",
            "_view_count": null,
            "_view_module": "@jupyter-widgets/base",
            "_view_module_version": "1.2.0",
            "_view_name": "LayoutView",
            "align_content": null,
            "align_items": null,
            "align_self": null,
            "border": null,
            "bottom": null,
            "display": null,
            "flex": null,
            "flex_flow": null,
            "grid_area": null,
            "grid_auto_columns": null,
            "grid_auto_flow": null,
            "grid_auto_rows": null,
            "grid_column": null,
            "grid_gap": null,
            "grid_row": null,
            "grid_template_areas": null,
            "grid_template_columns": null,
            "grid_template_rows": null,
            "height": null,
            "justify_content": null,
            "justify_items": null,
            "left": null,
            "margin": null,
            "max_height": null,
            "max_width": null,
            "min_height": null,
            "min_width": null,
            "object_fit": null,
            "object_position": null,
            "order": null,
            "overflow": null,
            "overflow_x": null,
            "overflow_y": null,
            "padding": null,
            "right": null,
            "top": null,
            "visibility": null,
            "width": null
          }
        },
        "884bc1447e574eef9dcea307b7cce812": {
          "model_module": "@jupyter-widgets/base",
          "model_name": "LayoutModel",
          "model_module_version": "1.2.0",
          "state": {
            "_model_module": "@jupyter-widgets/base",
            "_model_module_version": "1.2.0",
            "_model_name": "LayoutModel",
            "_view_count": null,
            "_view_module": "@jupyter-widgets/base",
            "_view_module_version": "1.2.0",
            "_view_name": "LayoutView",
            "align_content": null,
            "align_items": null,
            "align_self": null,
            "border": null,
            "bottom": null,
            "display": null,
            "flex": null,
            "flex_flow": null,
            "grid_area": null,
            "grid_auto_columns": null,
            "grid_auto_flow": null,
            "grid_auto_rows": null,
            "grid_column": null,
            "grid_gap": null,
            "grid_row": null,
            "grid_template_areas": null,
            "grid_template_columns": null,
            "grid_template_rows": null,
            "height": null,
            "justify_content": null,
            "justify_items": null,
            "left": null,
            "margin": null,
            "max_height": null,
            "max_width": null,
            "min_height": null,
            "min_width": null,
            "object_fit": null,
            "object_position": null,
            "order": null,
            "overflow": null,
            "overflow_x": null,
            "overflow_y": null,
            "padding": null,
            "right": null,
            "top": null,
            "visibility": null,
            "width": null
          }
        },
        "75c810aa3cfe4b76a65553059e017742": {
          "model_module": "@jupyter-widgets/controls",
          "model_name": "DescriptionStyleModel",
          "model_module_version": "1.5.0",
          "state": {
            "_model_module": "@jupyter-widgets/controls",
            "_model_module_version": "1.5.0",
            "_model_name": "DescriptionStyleModel",
            "_view_count": null,
            "_view_module": "@jupyter-widgets/base",
            "_view_module_version": "1.2.0",
            "_view_name": "StyleView",
            "description_width": ""
          }
        },
        "a652bfbba5f447578865de5df5155495": {
          "model_module": "@jupyter-widgets/base",
          "model_name": "LayoutModel",
          "model_module_version": "1.2.0",
          "state": {
            "_model_module": "@jupyter-widgets/base",
            "_model_module_version": "1.2.0",
            "_model_name": "LayoutModel",
            "_view_count": null,
            "_view_module": "@jupyter-widgets/base",
            "_view_module_version": "1.2.0",
            "_view_name": "LayoutView",
            "align_content": null,
            "align_items": null,
            "align_self": null,
            "border": null,
            "bottom": null,
            "display": null,
            "flex": null,
            "flex_flow": null,
            "grid_area": null,
            "grid_auto_columns": null,
            "grid_auto_flow": null,
            "grid_auto_rows": null,
            "grid_column": null,
            "grid_gap": null,
            "grid_row": null,
            "grid_template_areas": null,
            "grid_template_columns": null,
            "grid_template_rows": null,
            "height": null,
            "justify_content": null,
            "justify_items": null,
            "left": null,
            "margin": null,
            "max_height": null,
            "max_width": null,
            "min_height": null,
            "min_width": null,
            "object_fit": null,
            "object_position": null,
            "order": null,
            "overflow": null,
            "overflow_x": null,
            "overflow_y": null,
            "padding": null,
            "right": null,
            "top": null,
            "visibility": null,
            "width": null
          }
        },
        "5d852b1e83834a008aff5b062db0c973": {
          "model_module": "@jupyter-widgets/controls",
          "model_name": "ProgressStyleModel",
          "model_module_version": "1.5.0",
          "state": {
            "_model_module": "@jupyter-widgets/controls",
            "_model_module_version": "1.5.0",
            "_model_name": "ProgressStyleModel",
            "_view_count": null,
            "_view_module": "@jupyter-widgets/base",
            "_view_module_version": "1.2.0",
            "_view_name": "StyleView",
            "bar_color": null,
            "description_width": ""
          }
        },
        "11934006aa5140ffbe820d7b2e0715e7": {
          "model_module": "@jupyter-widgets/base",
          "model_name": "LayoutModel",
          "model_module_version": "1.2.0",
          "state": {
            "_model_module": "@jupyter-widgets/base",
            "_model_module_version": "1.2.0",
            "_model_name": "LayoutModel",
            "_view_count": null,
            "_view_module": "@jupyter-widgets/base",
            "_view_module_version": "1.2.0",
            "_view_name": "LayoutView",
            "align_content": null,
            "align_items": null,
            "align_self": null,
            "border": null,
            "bottom": null,
            "display": null,
            "flex": null,
            "flex_flow": null,
            "grid_area": null,
            "grid_auto_columns": null,
            "grid_auto_flow": null,
            "grid_auto_rows": null,
            "grid_column": null,
            "grid_gap": null,
            "grid_row": null,
            "grid_template_areas": null,
            "grid_template_columns": null,
            "grid_template_rows": null,
            "height": null,
            "justify_content": null,
            "justify_items": null,
            "left": null,
            "margin": null,
            "max_height": null,
            "max_width": null,
            "min_height": null,
            "min_width": null,
            "object_fit": null,
            "object_position": null,
            "order": null,
            "overflow": null,
            "overflow_x": null,
            "overflow_y": null,
            "padding": null,
            "right": null,
            "top": null,
            "visibility": null,
            "width": null
          }
        },
        "39069fa987b14b47accda1557c53ae55": {
          "model_module": "@jupyter-widgets/controls",
          "model_name": "DescriptionStyleModel",
          "model_module_version": "1.5.0",
          "state": {
            "_model_module": "@jupyter-widgets/controls",
            "_model_module_version": "1.5.0",
            "_model_name": "DescriptionStyleModel",
            "_view_count": null,
            "_view_module": "@jupyter-widgets/base",
            "_view_module_version": "1.2.0",
            "_view_name": "StyleView",
            "description_width": ""
          }
        }
      }
    }
  },
  "nbformat": 4,
  "nbformat_minor": 0
}