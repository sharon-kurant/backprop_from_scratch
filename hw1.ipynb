{
  "cells": [
    {
      "cell_type": "markdown",
      "metadata": {
        "id": "view-in-github",
        "colab_type": "text"
      },
      "source": [
        "<a href=\"https://colab.research.google.com/github/sharon-kurant/backprop_from_scratch/blob/main/hw1.ipynb\" target=\"_parent\"><img src=\"https://colab.research.google.com/assets/colab-badge.svg\" alt=\"Open In Colab\"/></a>"
      ]
    },
    {
      "cell_type": "markdown",
      "metadata": {
        "id": "0juniUa_PrVG"
      },
      "source": [
        "# Deep Learning Course: Assignment #1 "
      ]
    },
    {
      "cell_type": "markdown",
      "metadata": {
        "id": "A_814P4gQOm0"
      },
      "source": [
        "Submitted by:\n",
        "\n",
        " **Student 1 Name+ID\n",
        "\n",
        " **Student 2 Name+ID"
      ]
    },
    {
      "cell_type": "markdown",
      "source": [
        "**Assignment Instruction:**\n",
        "\n",
        "· Submissions in pairs only.\n",
        "\n",
        "· The code must be written in Python 3.7+\n",
        "\n",
        "· You are allowed to use only Pytorch, numpy and matplotlib as external libraries\n",
        "\n",
        "· The code must be reasonably documented\n",
        "\n",
        "· You should save a copy of the notebook to your Drive and answer all the questions inside the notebook, at the designated cells. Only the notebook will be submitted in moodle (in `.ipynb` format).\n",
        "\n",
        "· If you wish to work in your IDE, make a `.py` copy of the notebook, but as you finish insert the script back to the matching cells of the notebook.\n",
        "\n",
        "**Important:** All plots, results and outputs should be included in the notebook as the cells' outputs (run all cells and do not clear the output).\n"
      ],
      "metadata": {
        "id": "HwDreLGTEczJ"
      }
    },
    {
      "cell_type": "code",
      "execution_count": 1,
      "metadata": {
        "id": "_CcHPDc8Qsdh"
      },
      "outputs": [],
      "source": [
        "%matplotlib inline"
      ]
    },
    {
      "cell_type": "markdown",
      "metadata": {
        "id": "2V5qkLuMPhvZ"
      },
      "source": [
        "## Question 1:  Multidimentional XOR and backpropagation\n"
      ]
    },
    {
      "cell_type": "markdown",
      "source": [
        "Given $ d $ bits $b=(b_1, b_2, ... , b_d) \\in \\{0, 1\\}^d$, we define $$XOR(b) = Σ_{i=1}^db_i\\ mod\\ 2$$\n",
        "\n",
        "You will train a feedforward neural network to model the multidimentional XOR problem.\n",
        "\n",
        "The following function returns the labeled XOR \"dataset\" for any given $d$ (`dim`)"
      ],
      "metadata": {
        "id": "X17YTJ7GEFCn"
      }
    },
    {
      "cell_type": "code",
      "execution_count": 2,
      "metadata": {
        "id": "0dRV1G40Rly1"
      },
      "outputs": [],
      "source": [
        "import itertools\n",
        "\n",
        "def XORData(dim):\n",
        "  X = np.array(list(itertools.product([0, 1], repeat=dim)))\n",
        "  Y = X.sum(axis=1)%2\n",
        "  return X, Y"
      ]
    },
    {
      "cell_type": "markdown",
      "metadata": {
        "id": "JMB99P6LRpwH"
      },
      "source": [
        "Implement the following:\n",
        "\n",
        "1. A linear layer class:`Linear(torch.nn.Module)`\\\n",
        "• You shold inherit from `torch.nn.Module`\\\n",
        "• You can not use `torch.nn.LinearLayer` or any other model implemented by PyTorch, only tensors. Wrap every tensor object with `torch.nn.Parameter` (for the optimizer).\\\n",
        "• Use `torch.randn` to initialize the parameter tensors (weights matrix and biases vector)\\\n",
        "• Implement the `forward` method according to the linear model $y = Wx + b$\\\n",
        "• The number of parameters should be defined by `in_features` and `out_features` \\\n",
        "• Make sure to enable gradient computation!"
      ]
    },
    {
      "cell_type": "code",
      "source": [
        "import torch\n",
        "import torch.nn as nn\n",
        "\n",
        "class Linear(nn.Module):\n",
        "  def __init__(self, in_features, out_features):\n",
        "    # Implement here\n",
        "    super(Linear, self).__init__()\n",
        "    self.weights = nn.Parameter(torch.randn(in_features, out_features))\n",
        "    self.bias = nn.Parameter(torch.randn(out_features))\n",
        "  def forward(self, x):\n",
        "    # Implement here\n",
        "    x = torch.matmul(x, self.weights) + self.bias\n",
        "    return x"
      ],
      "metadata": {
        "id": "jQx-t3oqCufo"
      },
      "execution_count": 3,
      "outputs": []
    },
    {
      "cell_type": "code",
      "source": [
        "l = Linear(3, 2)\n",
        "l.forward(torch.Tensor([1,2,3]))"
      ],
      "metadata": {
        "colab": {
          "base_uri": "https://localhost:8080/"
        },
        "id": "AMRc-s5aY6kj",
        "outputId": "92eddf7b-efe8-4a42-f0e0-ccf48cb857dd"
      },
      "execution_count": 4,
      "outputs": [
        {
          "output_type": "execute_result",
          "data": {
            "text/plain": [
              "tensor([-0.3869,  7.7957], grad_fn=<AddBackward0>)"
            ]
          },
          "metadata": {},
          "execution_count": 4
        }
      ]
    },
    {
      "cell_type": "markdown",
      "source": [
        "2. A feedforward neural network:`FFNet(torch.nn.module)`\\\n",
        "• Use the `Linear` class you implemented to construct a network with `in_features` input size, `out_features` output size, and one hidden layer with `hidden_size` neurons.\\\n",
        "• Use the sigmoid activation function on top of the hidden layer neurons.\\\n",
        "• The XOR example we saw in class should help you."
      ],
      "metadata": {
        "id": "FgTJametDVQE"
      }
    },
    {
      "cell_type": "code",
      "source": [
        "class FFNet(nn.Module):\n",
        "  def __init__(self, in_features, out_features, hidden_size):\n",
        "    # Implement here\n",
        "    super(FFNet, self).__init__()\n",
        "    self.input_layer = Linear(in_features, hidden_size)\n",
        "    self.hidden_layer = Linear(hidden_size, out_features)\n",
        "  def forward(self, x):\n",
        "    # Implement here\n",
        "    x = self.input_layer.forward(x)\n",
        "    x = torch.sigmoid(x)\n",
        "    x = self.hidden_layer.forward(x)\n",
        "    return x"
      ],
      "metadata": {
        "id": "UGgjgsZEDe2w"
      },
      "execution_count": 5,
      "outputs": []
    },
    {
      "cell_type": "code",
      "source": [
        "net = FFNet(3,5,2)\n",
        "net.forward(torch.Tensor([1,100,20]))"
      ],
      "metadata": {
        "colab": {
          "base_uri": "https://localhost:8080/"
        },
        "id": "lbVejdD5h1bt",
        "outputId": "7942af10-aa0b-4583-c913-97a5bf882496"
      },
      "execution_count": 6,
      "outputs": [
        {
          "output_type": "execute_result",
          "data": {
            "text/plain": [
              "tensor([-2.3811,  0.2928,  2.3253, -0.9274, -0.7379], grad_fn=<AddBackward0>)"
            ]
          },
          "metadata": {},
          "execution_count": 6
        }
      ]
    },
    {
      "cell_type": "markdown",
      "source": [
        "### Exploring the hidden layer\n",
        "In class we talked about the **Universal Approximation Theorem**. The following question will help us to understand how hard is finding the optimal weight that the theorem talks about.\n",
        "\n",
        "You are given a basic training function."
      ],
      "metadata": {
        "id": "5XiNMI6yIDOA"
      }
    },
    {
      "cell_type": "code",
      "source": [
        "import numpy as np\n",
        "import torch.optim as optim\n",
        "\n",
        "loss_func = nn.MSELoss()\n",
        "\n",
        "def train(net, X, Y, epochs=3000):\n",
        "  steps = X.shape[0]\n",
        "  for i in range(epochs):\n",
        "      for j in range(steps):\n",
        "          data_point = np.random.randint((X.shape[0]))\n",
        "          x_var = torch.Tensor(X[data_point])\n",
        "          y_var = torch.Tensor([Y[data_point]])        \n",
        "          optimizer.zero_grad()\n",
        "          y_hat = net(x_var)\n",
        "          loss = loss_func(y_hat, y_var)\n",
        "          loss.backward()\n",
        "          optimizer.step()\n",
        "      if(i % 100 == 0):\n",
        "          print(\"Epoch:{}, Loss:{}\".format(i, loss.detach()))"
      ],
      "metadata": {
        "id": "pXPZLgfGHi5Y"
      },
      "execution_count": 7,
      "outputs": []
    },
    {
      "cell_type": "markdown",
      "source": [
        "Using the above, for each of the dimentions: $d = 2, 3, 4, 5$:\n",
        "1. Create the corresponding dataset using `XORData`\n",
        "2. Create models with different hidden layer sizes($1, 2, 3, ..., d,d+const, const*d,...$ etc.) and an optimizer for it using: `optimizer = optim.SGD(model.parameters(), lr=0.02, momentum=0.9)\n",
        "`\n",
        "3. Try to train the different networks on the dataset.\n",
        "\n",
        "Make sure to create a new `FFNet` and optimizer objects each time you call `train`.\n"
      ],
      "metadata": {
        "id": "j6iBEwnPIq88"
      }
    },
    {
      "cell_type": "code",
      "source": [
        "# Implement here\n",
        "constant = 3\n",
        "\n",
        "for d in range(2,6):\n",
        "\n",
        "  print(f\"\\nFFNet dimension: input: {d}, hidden layer: {d}, output: 2\")\n",
        "  X, Y = XORData(d)\n",
        "  model = FFNet(d, 1, d)\n",
        "  optimizer = optim.SGD(model.parameters(), lr=0.02, momentum=0.9)\n",
        "  train(model, X, Y, epochs = 1000)\n",
        "  print(\"\")"
      ],
      "metadata": {
        "id": "dF_R4pfyNUb7",
        "colab": {
          "base_uri": "https://localhost:8080/"
        },
        "outputId": "d3976f44-ce4e-48d1-de6e-89da541a9d66"
      },
      "execution_count": 8,
      "outputs": [
        {
          "output_type": "stream",
          "name": "stdout",
          "text": [
            "\n",
            "FFNet dimension: input: 2, hidden layer: 2, output: 2\n",
            "Epoch:0, Loss:0.01935473456978798\n",
            "Epoch:100, Loss:0.10451086610555649\n",
            "Epoch:200, Loss:0.002070530317723751\n",
            "Epoch:300, Loss:0.15102773904800415\n",
            "Epoch:400, Loss:0.22874027490615845\n",
            "Epoch:500, Loss:0.0009426436154171824\n",
            "Epoch:600, Loss:0.04238468036055565\n",
            "Epoch:700, Loss:0.018090128898620605\n",
            "Epoch:800, Loss:0.0014263277407735586\n",
            "Epoch:900, Loss:0.0013773755636066198\n",
            "\n",
            "\n",
            "FFNet dimension: input: 3, hidden layer: 3, output: 2\n",
            "Epoch:0, Loss:0.3013974130153656\n",
            "Epoch:100, Loss:0.19434787333011627\n",
            "Epoch:200, Loss:0.10927517712116241\n",
            "Epoch:300, Loss:0.22007784247398376\n",
            "Epoch:400, Loss:0.030227230861783028\n",
            "Epoch:500, Loss:0.3278599977493286\n",
            "Epoch:600, Loss:1.109175205230713\n",
            "Epoch:700, Loss:0.4137619733810425\n",
            "Epoch:800, Loss:0.02425495535135269\n",
            "Epoch:900, Loss:0.03412343189120293\n",
            "\n",
            "\n",
            "FFNet dimension: input: 4, hidden layer: 4, output: 2\n",
            "Epoch:0, Loss:0.5370469689369202\n",
            "Epoch:100, Loss:0.5822028517723083\n",
            "Epoch:200, Loss:0.09914544224739075\n",
            "Epoch:300, Loss:0.1215599849820137\n",
            "Epoch:400, Loss:0.011088468134403229\n",
            "Epoch:500, Loss:0.05184384062886238\n",
            "Epoch:600, Loss:0.1899382770061493\n",
            "Epoch:700, Loss:0.008573295548558235\n",
            "Epoch:800, Loss:0.3167726695537567\n",
            "Epoch:900, Loss:0.0786493718624115\n",
            "\n",
            "\n",
            "FFNet dimension: input: 5, hidden layer: 5, output: 2\n",
            "Epoch:0, Loss:0.007234737277030945\n",
            "Epoch:100, Loss:0.3596602976322174\n",
            "Epoch:200, Loss:0.6399996280670166\n",
            "Epoch:300, Loss:0.2576386630535126\n",
            "Epoch:400, Loss:0.3867061734199524\n",
            "Epoch:500, Loss:0.0743831917643547\n",
            "Epoch:600, Loss:0.0401756577193737\n",
            "Epoch:700, Loss:0.19628402590751648\n",
            "Epoch:800, Loss:0.2913026809692383\n",
            "Epoch:900, Loss:0.3726208508014679\n",
            "\n"
          ]
        }
      ]
    },
    {
      "cell_type": "markdown",
      "source": [
        "For which dimensions you were able to reach a model that converges (loss value is geting close to 0)?\\\n",
        "What is the number of hidden neurons in that network and how did you find it?\\\n",
        "What results did you expect and how does it differ from the results you achieved?\n",
        "\n",
        "\n",
        "**Answers:**\n"
      ],
      "metadata": {
        "id": "iN7vL-WwNkkp"
      }
    },
    {
      "cell_type": "markdown",
      "source": [
        "### Backpropagation\n",
        "\n",
        "The following part will focus on the computaion of gradients w.r.t the model parameters, to understand what is happening behind `loss.backward()`.\n",
        "\n",
        "Implement the function:`calc_gradients(net, x, loss)`:\n",
        "\n",
        "Input: instance of `FFNet` with a hidden layer of size 2, input of size 2 and output of size 1, input vector `x` and `loss` value.\n",
        "\n",
        "Output: One dimensional tensor with the gradients of the loss w.r.t each of the parameters, ordered as the corresponding parameters order `net.parameters()` returns (if we would flatten it's output). \n",
        "\n",
        "1. Comute(by hand) the derivatives w.r.t the second linear layer parameters\n",
        "2. Use the chain rule to comute(by hand) the derivatives w.r.t the first linear layer parameters\n",
        "3. Implement the final form computations per parameter.\n",
        "4. Order the gradients as described above\n",
        "\n",
        "Practical number 4 slides 26-28 should be helpful."
      ],
      "metadata": {
        "id": "VQqQ78nHfMUu"
      }
    },
    {
      "cell_type": "code",
      "source": [
        "def calc_gradients(net, x, y_hat, y_var, loss):\n",
        "  \n",
        "  w1_1, w1_2, w1_3, w1_4 = net.input_layer.weights.flatten()\n",
        "  b1_1, b1_2 = net.input_layer.bias.flatten()\n",
        "\n",
        "  w2_1, w2_2 = net.hidden_layer.weights.flatten()\n",
        "  \n",
        "  z1 = torch.sigmoid(w1_1 * x[0] + w1_3 * x[1] +b1_1)\n",
        "  z2 = torch.sigmoid(w1_2 * x[0] + w1_4 * x[1] +b1_2)\n",
        "\n",
        "  # z = torch.sigmoid(torch.matmul(w, torch.t(x))+torch.t(b))\n",
        "\n",
        "  L_d = 2 * (y_hat - y_var)\n",
        "  z1_d = z1 * (1-z1)\n",
        "  z2_d = z2 * (1-z2)\n",
        "\n",
        "  dL_w2_1 = L_d * z1\n",
        "  dL_w2_2 = L_d * z2\n",
        "\n",
        "  dL_w1_1 = L_d * w2_1 * z1_d * x[0]\n",
        "  dL_w1_2 = L_d * w2_2 * z2_d * x[0]\n",
        "\n",
        "  dL_w1_3 = L_d * w2_1 * z1_d * x[1]\n",
        "  dL_w1_4 = L_d * w2_2 * z2_d * x[1]\n",
        "\n",
        "  dL_b1_1 = L_d * w2_1 * z1_d\n",
        "  dL_b1_2 = L_d * w2_2 * z2_d\n",
        "\n",
        "  dL_b2 = L_d\n",
        "\n",
        "  return torch.tensor([dL_w1_1, dL_w1_2, dL_w1_3, dL_w1_4, dL_b1_1, dL_b1_2, dL_w2_1, dL_w2_2, dL_b2])"
      ],
      "metadata": {
        "id": "hbsLYK7FrHUy"
      },
      "execution_count": 9,
      "outputs": []
    },
    {
      "cell_type": "markdown",
      "source": [
        "Run the following cell to check the correctness of your computation:"
      ],
      "metadata": {
        "id": "goODSvSxrfoU"
      }
    },
    {
      "cell_type": "code",
      "source": [
        "def equal_gradients(net, x, y_hat, y_var, loss):\n",
        "  grads = []\n",
        "  for param in net.parameters():\n",
        "    grads.append(param.grad.view(-1))\n",
        "  grads = torch.cat(grads)\n",
        "  return True if torch.sum(grads.round(decimals = 4) - calc_gradients(net, x, y_hat, y_var, loss).round(decimals = 4)) == 0 else False\n",
        "\n",
        "def train_and_compare(net, X, Y, epochs=100):\n",
        "  steps = X.shape[0]\n",
        "  for i in range(epochs):\n",
        "      for j in range(steps):\n",
        "          data_point = np.random.randint(X.shape[0])\n",
        "          x_var = torch.Tensor(X[data_point])\n",
        "          y_var = torch.Tensor([Y[data_point]])        \n",
        "          optimizer.zero_grad()\n",
        "          y_hat = net(x_var)\n",
        "          loss = loss_func(y_hat, y_var)\n",
        "          loss.backward()\n",
        "          if not equal_gradients(net, x_var, y_hat, y_var, loss.item()):\n",
        "            print(\"Wrong gradients computation!\")\n",
        "            return\n",
        "          optimizer.step()\n",
        "  print(\"Correct gradients computation!\")\n",
        "\n",
        "model = FFNet(2, 1, 2)\n",
        "optimizer = optim.SGD(model.parameters(), lr=0.02, momentum=0.9)\n",
        "X, Y = XORData(2)\n",
        "\n",
        "\n",
        "train_and_compare(model, X, Y)"
      ],
      "metadata": {
        "id": "_ryIQU0Eg5Vl",
        "colab": {
          "base_uri": "https://localhost:8080/"
        },
        "outputId": "9acd5c9d-4604-4bfb-ca86-86b3948e83d4"
      },
      "execution_count": 10,
      "outputs": [
        {
          "output_type": "stream",
          "name": "stdout",
          "text": [
            "Correct gradients computation!\n"
          ]
        }
      ]
    },
    {
      "cell_type": "markdown",
      "metadata": {
        "id": "0ZizbFrmOGeR"
      },
      "source": [
        "### Question 2: Solving Fashion-MNIST"
      ]
    },
    {
      "cell_type": "markdown",
      "source": [
        "In class we've learned about MNIST data set, which can be loaded from torchvision.datasets.\n",
        "We built a feedforward network for MNIST classification with accuracy of ~96%.\n",
        "In this assignment we will use Fashion-MNIST, which is also a built-in dataset in Pytorch. We'll\n",
        "try different networks and find which one fits better.\n",
        "\n",
        "The code must run on GPU."
      ],
      "metadata": {
        "id": "XJV1UEq9KPyd"
      }
    },
    {
      "cell_type": "code",
      "execution_count": 11,
      "metadata": {
        "id": "St3U3GLlNDkm"
      },
      "outputs": [],
      "source": [
        "import torch\n",
        "import torchvision.datasets as datasets\n",
        "from torchvision import transforms\n",
        "from torch.utils.data.sampler import SubsetRandomSampler\n",
        "import matplotlib.pyplot as plt\n",
        "\n",
        "# Use .to(device) when needed to train on GPU\n",
        "device = torch.device(\"cuda\" if torch.cuda.is_available() else \"cpu\")\n",
        "\n",
        "### Add any additional functions here"
      ]
    },
    {
      "cell_type": "markdown",
      "source": [
        "Please implement the following modules and functions:\n",
        "1. Function 1: `load_dataset()`\\\n",
        "Load the Fashion-MNIST training and test set from Pytorch. Split the training set to\n",
        "training and validation set (80%-20% ratio). Define a DataLoader for each set. In the\n",
        "DataLoader parameters use \"batch_size\"=64.\n"
      ],
      "metadata": {
        "id": "9IwjvOPdHJpF"
      }
    },
    {
      "cell_type": "code",
      "source": [
        "### Implement here\n",
        "def load_dataset(p = 0.2):\n",
        "  normalize = transforms.Normalize((0.2859,), (0.3530,))\n",
        "  totensor = transforms.ToTensor()\n",
        "  mnist_transforms = transforms.Compose([totensor, normalize])\n",
        "\n",
        "  mnist_trainset = datasets.FashionMNIST(root='../data', train=True, download=True, transform=mnist_transforms)\n",
        "  mnist_testset = datasets.FashionMNIST(root='../data', train=False, download=True, transform=mnist_transforms)\n",
        "\n",
        "  indices = list(range(len(mnist_trainset))) # 60K\n",
        "  np.random.shuffle(indices)\n",
        "\n",
        "  split = int(np.floor(p * len(mnist_trainset))) # 12K\n",
        "  train_sample = SubsetRandomSampler(indices[split:])\n",
        "  val_sample = SubsetRandomSampler(indices[:split])\n",
        "  \n",
        "  train_loader = torch.utils.data.DataLoader(mnist_trainset, sampler = train_sample, batch_size=64)\n",
        "  val_loader = torch.utils.data.DataLoader(mnist_trainset, sampler = val_sample, batch_size=64)\n",
        "  test_loader = torch.utils.data.DataLoader(mnist_testset, batch_size=64, shuffle=False)\n",
        "\n",
        "  k_choices = int(np.floor(len(indices[split:])*0.1)) # 4.8K\n",
        "  train_sample_small = SubsetRandomSampler(np.random.choice(indices[split:],size=k_choices))\n",
        "  train_loader_small = torch.utils.data.DataLoader(mnist_trainset, sampler = train_sample_small, batch_size=64)\n",
        "\n",
        "  print('train set len', len(train_loader.sampler.indices))\n",
        "  print('validation set len', len(val_loader.sampler.indices))\n",
        "  print('test set len', len(test_loader.dataset))\n",
        "  print('train_small set len', len(train_loader_small.sampler.indices))\n",
        "\n",
        "\n",
        "  # SAVE TO CURRENT WORKING DIR!!!!!!!!!!!!!!!!!!!!\n",
        "  loaders = {'train_loader': train_loader,\n",
        "              'val_loader': val_loader,\n",
        "              'test_loader': test_loader,\n",
        "              'train_loader_small': train_loader_small}\n",
        "  torch.save(loaders, '/data/loaders')"
      ],
      "metadata": {
        "id": "0hARGa1FKbOQ"
      },
      "execution_count": 35,
      "outputs": []
    },
    {
      "cell_type": "code",
      "source": [
        "load_dataset()"
      ],
      "metadata": {
        "colab": {
          "base_uri": "https://localhost:8080/"
        },
        "id": "sQEuVlAsd-Yy",
        "outputId": "2d5dc78e-14c1-469a-80f5-b5e1aebe6b94"
      },
      "execution_count": 36,
      "outputs": [
        {
          "output_type": "stream",
          "name": "stdout",
          "text": [
            "train set len 48000\n",
            "validation set len 12000\n",
            "test set len 10000\n",
            "train_small set len 4800\n"
          ]
        }
      ]
    },
    {
      "cell_type": "code",
      "source": [
        "n_features = 28*28\n",
        "n_classes = 10\n",
        "\n",
        "class GenericFeedForwardNet(nn.Module):\n",
        "\n",
        "  activation_func_map = {'relu': nn.ReLU, 'tanh': nn.Tanh, 'sigmoid': nn.Sigmoid}\n",
        "\n",
        "  def __init__(self, n_features, n_hidden_units_per_layer, n_outputs, activation_func):\n",
        "    super().__init__()\n",
        "\n",
        "    if isinstance(n_hidden_units_per_layer, list):\n",
        "      dim_list = [n_features, *n_hidden_units_per_layer, n_outputs]\n",
        "    else:\n",
        "      dim_list = [n_features, n_hidden_units_per_layer, n_outputs]\n",
        "\n",
        "    layers = []\n",
        "    for in_dim, out_dim in zip(dim_list[:-1], dim_list[1:]):\n",
        "      layers += [\n",
        "          nn.Linear(in_dim, out_dim)\n",
        "      ]\n",
        "      if activation_func in GenericFeedForwardNet.activation_func_map.keys():\n",
        "        layers += [\n",
        "            GenericFeedForwardNet.activation_func_map[activation_func]()\n",
        "        ]\n",
        "        \n",
        "    self.fc = nn.Sequential(*layers[:-1])\n",
        "    self.log_softmax = nn.LogSoftmax(dim = 1)\n",
        "    \n",
        "  def forward(self, x):\n",
        "    h = self.fc(x)\n",
        "    y_pred = self.log_softmax(h)\n",
        "    return y_pred"
      ],
      "metadata": {
        "id": "3cL7D-1t3HNr"
      },
      "execution_count": 16,
      "outputs": []
    },
    {
      "cell_type": "code",
      "source": [
        "model = GenericFeedForwardNet(n_features, [32,64,128], n_classes, 'tanh')\n",
        "print(model)"
      ],
      "metadata": {
        "colab": {
          "base_uri": "https://localhost:8080/"
        },
        "id": "dHGO-Fki7WnY",
        "outputId": "a80b49d9-db23-419b-9670-b235b84cddcc"
      },
      "execution_count": 17,
      "outputs": [
        {
          "output_type": "stream",
          "name": "stdout",
          "text": [
            "GenericFeedForwardNet(\n",
            "  (fc): Sequential(\n",
            "    (0): Linear(in_features=784, out_features=32, bias=True)\n",
            "    (1): Tanh()\n",
            "    (2): Linear(in_features=32, out_features=64, bias=True)\n",
            "    (3): Tanh()\n",
            "    (4): Linear(in_features=64, out_features=128, bias=True)\n",
            "    (5): Tanh()\n",
            "    (6): Linear(in_features=128, out_features=10, bias=True)\n",
            "  )\n",
            "  (log_softmax): LogSoftmax(dim=1)\n",
            ")\n"
          ]
        }
      ]
    },
    {
      "cell_type": "code",
      "source": [
        "def plot_train_val(train_losses,val_losses,train_accuracies,val_accuracies):\n",
        "  plt.plot(train_losses)\n",
        "  plt.plot(val_losses)\n",
        "  plt.grid()\n",
        "  plt.title('Model Loss')\n",
        "  plt.ylabel('Loss')\n",
        "  plt.xlabel('Epochs')\n",
        "  plt.legend(['train', 'validation'])\n",
        "  plt.show()\n",
        "\n",
        "  print('')\n",
        "  \n",
        "  plt.plot(train_accuracies)\n",
        "  plt.plot(val_accuracies)\n",
        "  plt.grid()\n",
        "  plt.title('Model Accuracy')\n",
        "  plt.ylabel('Accuracy')\n",
        "  plt.xlabel('Epochs')\n",
        "  plt.legend(['train', 'validation'])\n",
        "  plt.show()"
      ],
      "metadata": {
        "id": "1R9ym6Yb6gCo"
      },
      "execution_count": 18,
      "outputs": []
    },
    {
      "cell_type": "code",
      "source": [
        "def train_model(model, optimizer, loss_func, train_loader):\n",
        "  train_loss = 0.0\n",
        "  train_accuracy = 0.0\n",
        "\n",
        "  for data, labels in train_loader:\n",
        "    # Transfer Data to GPU if available\n",
        "    data = data.view(-1,28*28)\n",
        "\n",
        "    if torch.cuda.is_available():\n",
        "        data, labels = data.cuda(), labels.cuda()\n",
        "    \n",
        "    # Clear the gradients\n",
        "    optimizer.zero_grad()\n",
        "    # Forward Pass\n",
        "    predictions = model(data)\n",
        "    # Find the Loss\n",
        "    loss = loss_func(predictions,labels)\n",
        "    # Calculate gradients\n",
        "    loss.backward()\n",
        "    # Update Weights\n",
        "    optimizer.step()\n",
        "    # Calculate Loss\n",
        "    train_loss += loss.item()\n",
        "    train_accuracy += torch.sum(labels == predictions.argmax(axis=1)).item()\n",
        "\n",
        "  train_accuracy = train_accuracy/len(train_loader.sampler.indices)\n",
        "  train_loss = train_loss / len(train_loader)\n",
        "\n",
        "  return train_loss, train_accuracy"
      ],
      "metadata": {
        "id": "tluPDjoTI0n4"
      },
      "execution_count": 37,
      "outputs": []
    },
    {
      "cell_type": "code",
      "source": [
        "def val_model(model, loss_func, val_loader):\n",
        "  val_loss = 0.0\n",
        "  val_accuracy = 0.0\n",
        "  model.eval()     # Optional when not using Model Specific layer\n",
        "  for data, labels in val_loader:\n",
        "\n",
        "    data = data.view(-1,28*28)\n",
        "    # Transfer Data to GPU if available\n",
        "    \n",
        "    if torch.cuda.is_available():\n",
        "        data, labels = data.cuda(), labels.cuda()\n",
        "    \n",
        "    # Forward Pass\n",
        "    predictions = model(data)\n",
        "    # Find the Loss\n",
        "    loss = loss_func(predictions,labels)\n",
        "    # Calculate Loss\n",
        "    val_loss += loss.item()\n",
        "    val_accuracy += torch.sum(labels == predictions.argmax(axis=1)).item()\n",
        "\n",
        "  val_accuracy = val_accuracy/len(val_loader.sampler.indices)\n",
        "  val_loss = val_loss / len(val_loader)\n",
        "\n",
        "  return val_loss, val_accuracy"
      ],
      "metadata": {
        "id": "t0BargqXKfks"
      },
      "execution_count": 38,
      "outputs": []
    },
    {
      "cell_type": "code",
      "source": [
        "import time"
      ],
      "metadata": {
        "id": "kaauOjPCNDrg"
      },
      "execution_count": 39,
      "outputs": []
    },
    {
      "cell_type": "code",
      "source": [
        "def test(model):\n",
        "  n_correct = 0\n",
        "  n_total = 0\n",
        "\n",
        "  test_loader = torch.load('/data/loaders')['test_loader']\n",
        "\n",
        "  for j, (data, labels) in enumerate(test_loader):\n",
        "\n",
        "    if torch.cuda.is_available():\n",
        "          data, labels = data.cuda(), labels.cuda()\n",
        "    \n",
        "    data = data.view(-1, n_features)\n",
        "\n",
        "    y_hat = model(data)\n",
        "\n",
        "    predictions = torch.argmax(y_hat, dim=1)\n",
        "\n",
        "    n_correct += torch.sum(predictions==labels).type(torch.float32)\n",
        "    n_total+= data.shape[0]\n",
        "  \n",
        "  acc = (n_correct/n_total).item()\n",
        "  return acc"
      ],
      "metadata": {
        "id": "wEGn1jC3NkkZ"
      },
      "execution_count": 52,
      "outputs": []
    },
    {
      "cell_type": "code",
      "source": [
        "def train_val(model, epochs, optimizer, loss_func, lr_scheduler = None, small_train=False, early_stopping = False, patience = None):\n",
        "  if torch.cuda.is_available():\n",
        "    model = model.cuda()\n",
        "\n",
        "  ## Check small train flag\n",
        "  if small_train:\n",
        "    train_loader = torch.load('/data/loaders')['train_loader_small']\n",
        "  else:\n",
        "    train_loader = torch.load('/data/loaders')['train_loader']\n",
        "  \n",
        "  val_loader = torch.load('/data/loaders')['val_loader']\n",
        "\n",
        "  train_losses = []\n",
        "  val_losses = []\n",
        "  train_accuracies = []\n",
        "  val_accuracies = []\n",
        "\n",
        "  models = [] \n",
        "\n",
        "  ## Utility variable used for early stopping\n",
        "  best_val_loss = np.Inf\n",
        "  triggers = 0 \n",
        "\n",
        "  # min_loss = np.Inf\n",
        "  for e in range(epochs):\n",
        "    \n",
        "    train_loss, train_accuracy = train_model(model, optimizer, loss_func, train_loader)\n",
        "\n",
        "    val_loss, val_accuracy = val_model(model, loss_func, val_loader)\n",
        "\n",
        "    train_accuracies.append(train_accuracy)\n",
        "    train_losses.append(train_loss)\n",
        "\n",
        "    val_accuracies.append(val_accuracy)\n",
        "    val_losses.append(val_loss)\n",
        "\n",
        "    # If early stopping flag is true\n",
        "    if early_stopping:\n",
        "      \n",
        "      if best_val_loss>val_loss:\n",
        "        best_val_loss = val_loss\n",
        "        checkpoint = {'epoch': e,\n",
        "                      'model_state_dict': model.state_dict(),\n",
        "                      'optimizer_state_dict': optimizer.state_dict(),\n",
        "                      'loss': best_val_loss,\n",
        "                      }\n",
        "        torch.save(checkpoint, '\\data\\early_stopping_model')\n",
        "        print('triggers reset')\n",
        "        triggers = 0\n",
        "      \n",
        "      else:\n",
        "        triggers+=1\n",
        "        print(f'triggers is {triggers}')\n",
        "        if patience == triggers:\n",
        "          print(f'model lost its patience!')\n",
        "          checkpoint = torch.load('\\data\\early_stopping_model')\n",
        "          model.load_state_dict(checkpoint['model_state_dict'])\n",
        "          optimizer.load_state_dict(checkpoint['optimizer_state_dict'])\n",
        "          epoch = checkpoint['epoch']\n",
        "          loss = checkpoint['loss']\n",
        "          return model, train_losses,val_losses,train_accuracies,val_accuracies\n",
        "\n",
        "    if lr_scheduler:\n",
        "      lr_scheduler.step()\n",
        "\n",
        "    print(f'Epoch {e+1} \\n\\t|\\t Training Loss: {train_losses[e]} \\t|\\t Validation Loss: {val_losses[e]} \\n\\t|\\t Training Acc: {train_accuracies[e]} \\t|\\t Validation Acc: {val_accuracies[e]}')\n",
        "\n",
        "  return model, train_losses,val_losses,train_accuracies,val_accuracies\n",
        "  \n",
        "  #if (plot):\n",
        "  #  plot_train_val(train_losses,val_losses,train_accuracies,val_accuracies)\n",
        "  \n",
        "  \n",
        "  #test(model, test_loader)"
      ],
      "metadata": {
        "id": "cjXkCIJRmIHu"
      },
      "execution_count": 85,
      "outputs": []
    },
    {
      "cell_type": "code",
      "source": [
        "torch.save({\n",
        "            'epoch': e,\n",
        "            'model_state_dict': model.state_dict(),\n",
        "            'optimizer_state_dict': optimizer.state_dict(),\n",
        "            'loss': best_val_loss,\n",
        "            }, '\\data\\early_stopping_model')"
      ],
      "metadata": {
        "id": "M3XznZMVtguG"
      },
      "execution_count": null,
      "outputs": []
    },
    {
      "cell_type": "markdown",
      "source": [
        "2. Function 2: `one_hidden_layer_no_activation(number_of_neurons)`\\\n",
        "For this function, you should implement the following steps:\\\n",
        "• Define the model: feed-forward network with one hidden layer, no activation\n",
        "functions are applied on the hidden layer (linear). The number of neurons in the\n",
        "hidden layer is given by the parameter “number_of_neurons”. The output layer\n",
        "activation function is log softmax (recall what should be the dim of the output\n",
        "layer as we learned in class).\\\n",
        "• Train the network on the Fashion-MNIST training set for 50 epochs\\\n",
        "• Use [cross entropy](https://pytorch.org/docs/stable/generated/torch.nn.CrossEntropyLoss.html) as a cost function\\\n",
        "• Use the optimizer:\\\n",
        "learning_rate = 0.01\\\n",
        "optimizer = torch.optim.SGD(model.parameters(),lr=learning_rate)\\\n",
        "• Plot a figure with the accuracy on the training set and validation set for each\n",
        "epoch\\\n",
        "• Plot the accuracy on the test set of the final model"
      ],
      "metadata": {
        "id": "USi815epKaWX"
      }
    },
    {
      "cell_type": "code",
      "source": [
        "def one_hidden_layer_no_activation(number_of_neurons):\n",
        "\n",
        "  epochs = 50\n",
        "\n",
        "  model = GenericFeedForwardNet(n_features, number_of_neurons, n_classes, \"None\")\n",
        "  loss_fn = nn.CrossEntropyLoss()\n",
        "  learning_rate = 0.01\n",
        "  optimizer = torch.optim.SGD(model.parameters(), lr = learning_rate)\n",
        "\n",
        "  model, train_losses,val_losses,train_accuracies,val_accuracies = train_val(model, epochs, optimizer, loss_fn)\n",
        "  plot_train_val(train_losses,val_losses,train_accuracies,val_accuracies)\n",
        "  test_acc = test(model)\n",
        "  print(\"Test accuracy:\",test_acc)  \n",
        "  # letsgo(model, optimizer, loss_fn, train_loader, val_loader, test_loader, 3)\n",
        "one_hidden_layer_no_activation(32)"
      ],
      "metadata": {
        "colab": {
          "base_uri": "https://localhost:8080/",
          "height": 1000
        },
        "id": "OUNoUjoJm8wN",
        "outputId": "41f13865-d245-43f0-df30-9901177a9448"
      },
      "execution_count": 88,
      "outputs": [
        {
          "output_type": "stream",
          "name": "stdout",
          "text": [
            "Epoch 1 \n",
            "\t|\t Training Loss: 0.6505553713639577 \t|\t Validation Loss: 0.5101493157921954 \n",
            "\t|\t Training Acc: 0.7863125 \t|\t Validation Acc: 0.8271666666666667\n",
            "Epoch 2 \n",
            "\t|\t Training Loss: 0.4941622625986735 \t|\t Validation Loss: 0.475013053163569 \n",
            "\t|\t Training Acc: 0.8295625 \t|\t Validation Acc: 0.83475\n",
            "Epoch 3 \n",
            "\t|\t Training Loss: 0.46583659797906873 \t|\t Validation Loss: 0.4670387939252752 \n",
            "\t|\t Training Acc: 0.8399583333333334 \t|\t Validation Acc: 0.8395\n",
            "Epoch 4 \n",
            "\t|\t Training Loss: 0.45059229381879173 \t|\t Validation Loss: 0.44910866212337575 \n",
            "\t|\t Training Acc: 0.8458125 \t|\t Validation Acc: 0.8409166666666666\n",
            "Epoch 5 \n",
            "\t|\t Training Loss: 0.44038057388861973 \t|\t Validation Loss: 0.44544963784357333 \n",
            "\t|\t Training Acc: 0.8481666666666666 \t|\t Validation Acc: 0.8449166666666666\n",
            "Epoch 6 \n",
            "\t|\t Training Loss: 0.4322250169912974 \t|\t Validation Loss: 0.4409998591910017 \n",
            "\t|\t Training Acc: 0.8521875 \t|\t Validation Acc: 0.8475833333333334\n",
            "Epoch 7 \n",
            "\t|\t Training Loss: 0.4266670181353887 \t|\t Validation Loss: 0.4322279033825753 \n",
            "\t|\t Training Acc: 0.8535416666666666 \t|\t Validation Acc: 0.8489166666666667\n",
            "Epoch 8 \n",
            "\t|\t Training Loss: 0.42165292642513913 \t|\t Validation Loss: 0.4307518495207137 \n",
            "\t|\t Training Acc: 0.8547708333333334 \t|\t Validation Acc: 0.8469166666666667\n",
            "Epoch 9 \n",
            "\t|\t Training Loss: 0.41807445460557935 \t|\t Validation Loss: 0.4281624993111225 \n",
            "\t|\t Training Acc: 0.8565 \t|\t Validation Acc: 0.8489166666666667\n",
            "Epoch 10 \n",
            "\t|\t Training Loss: 0.41478813527027764 \t|\t Validation Loss: 0.42787193237467014 \n",
            "\t|\t Training Acc: 0.858125 \t|\t Validation Acc: 0.8506666666666667\n",
            "Epoch 11 \n",
            "\t|\t Training Loss: 0.41131982082128526 \t|\t Validation Loss: 0.42233771418637417 \n",
            "\t|\t Training Acc: 0.8576875 \t|\t Validation Acc: 0.8529166666666667\n",
            "Epoch 12 \n",
            "\t|\t Training Loss: 0.40945386668046313 \t|\t Validation Loss: 0.4278112711741569 \n",
            "\t|\t Training Acc: 0.8585208333333333 \t|\t Validation Acc: 0.8473333333333334\n",
            "Epoch 13 \n",
            "\t|\t Training Loss: 0.4064559342265129 \t|\t Validation Loss: 0.4183992803730863 \n",
            "\t|\t Training Acc: 0.8605625 \t|\t Validation Acc: 0.8521666666666666\n",
            "Epoch 14 \n",
            "\t|\t Training Loss: 0.4042242293357849 \t|\t Validation Loss: 0.42687914393683696 \n",
            "\t|\t Training Acc: 0.8614166666666667 \t|\t Validation Acc: 0.8520833333333333\n",
            "Epoch 15 \n",
            "\t|\t Training Loss: 0.40227931505441666 \t|\t Validation Loss: 0.4186673160404601 \n",
            "\t|\t Training Acc: 0.8605208333333333 \t|\t Validation Acc: 0.8565\n",
            "Epoch 16 \n",
            "\t|\t Training Loss: 0.40056097048521044 \t|\t Validation Loss: 0.41664596456796565 \n",
            "\t|\t Training Acc: 0.8615208333333333 \t|\t Validation Acc: 0.8555833333333334\n",
            "Epoch 17 \n",
            "\t|\t Training Loss: 0.39893774553140005 \t|\t Validation Loss: 0.42119700374438407 \n",
            "\t|\t Training Acc: 0.8628958333333333 \t|\t Validation Acc: 0.8508333333333333\n",
            "Epoch 18 \n",
            "\t|\t Training Loss: 0.3970030125975609 \t|\t Validation Loss: 0.4226738449106825 \n",
            "\t|\t Training Acc: 0.8633541666666666 \t|\t Validation Acc: 0.8499166666666667\n",
            "Epoch 19 \n",
            "\t|\t Training Loss: 0.396378143509229 \t|\t Validation Loss: 0.4169315153614004 \n",
            "\t|\t Training Acc: 0.8632916666666667 \t|\t Validation Acc: 0.8540833333333333\n",
            "Epoch 20 \n",
            "\t|\t Training Loss: 0.3944365728298823 \t|\t Validation Loss: 0.4198653928618482 \n",
            "\t|\t Training Acc: 0.8644791666666667 \t|\t Validation Acc: 0.8521666666666666\n",
            "Epoch 21 \n",
            "\t|\t Training Loss: 0.3926500736474991 \t|\t Validation Loss: 0.41522959389902175 \n",
            "\t|\t Training Acc: 0.8652291666666667 \t|\t Validation Acc: 0.85375\n",
            "Epoch 22 \n",
            "\t|\t Training Loss: 0.3921378242770831 \t|\t Validation Loss: 0.41498547071155084 \n",
            "\t|\t Training Acc: 0.8636458333333333 \t|\t Validation Acc: 0.8564166666666667\n",
            "Epoch 23 \n",
            "\t|\t Training Loss: 0.3908404948314031 \t|\t Validation Loss: 0.42529966333445085 \n",
            "\t|\t Training Acc: 0.86525 \t|\t Validation Acc: 0.84725\n",
            "Epoch 24 \n",
            "\t|\t Training Loss: 0.38971959074338275 \t|\t Validation Loss: 0.41363839377114114 \n",
            "\t|\t Training Acc: 0.8651458333333333 \t|\t Validation Acc: 0.85475\n",
            "Epoch 25 \n",
            "\t|\t Training Loss: 0.38893334609270097 \t|\t Validation Loss: 0.41791204347255384 \n",
            "\t|\t Training Acc: 0.8669583333333334 \t|\t Validation Acc: 0.8541666666666666\n",
            "Epoch 26 \n",
            "\t|\t Training Loss: 0.38763658141096435 \t|\t Validation Loss: 0.4205784804801992 \n",
            "\t|\t Training Acc: 0.8657708333333334 \t|\t Validation Acc: 0.8541666666666666\n",
            "Epoch 27 \n",
            "\t|\t Training Loss: 0.3861583471596241 \t|\t Validation Loss: 0.4136256649297603 \n",
            "\t|\t Training Acc: 0.8662083333333334 \t|\t Validation Acc: 0.8543333333333333\n",
            "Epoch 28 \n",
            "\t|\t Training Loss: 0.38555664926767347 \t|\t Validation Loss: 0.4185083418926026 \n",
            "\t|\t Training Acc: 0.8663958333333334 \t|\t Validation Acc: 0.8501666666666666\n",
            "Epoch 29 \n",
            "\t|\t Training Loss: 0.3859951723217964 \t|\t Validation Loss: 0.41441420362667836 \n",
            "\t|\t Training Acc: 0.8667291666666667 \t|\t Validation Acc: 0.8545833333333334\n",
            "Epoch 30 \n",
            "\t|\t Training Loss: 0.3842022959391276 \t|\t Validation Loss: 0.41313563636008727 \n",
            "\t|\t Training Acc: 0.8667708333333334 \t|\t Validation Acc: 0.8524166666666667\n",
            "Epoch 31 \n",
            "\t|\t Training Loss: 0.3838550092577934 \t|\t Validation Loss: 0.4159319075022606 \n",
            "\t|\t Training Acc: 0.867125 \t|\t Validation Acc: 0.85075\n",
            "Epoch 32 \n",
            "\t|\t Training Loss: 0.3828544687430064 \t|\t Validation Loss: 0.42011061009574446 \n",
            "\t|\t Training Acc: 0.8672916666666667 \t|\t Validation Acc: 0.8546666666666667\n",
            "Epoch 33 \n",
            "\t|\t Training Loss: 0.3820817010800044 \t|\t Validation Loss: 0.4142457933184948 \n",
            "\t|\t Training Acc: 0.8684583333333333 \t|\t Validation Acc: 0.8520833333333333\n",
            "Epoch 34 \n",
            "\t|\t Training Loss: 0.38100965090592703 \t|\t Validation Loss: 0.4133579043790381 \n",
            "\t|\t Training Acc: 0.8675208333333333 \t|\t Validation Acc: 0.8551666666666666\n",
            "Epoch 35 \n",
            "\t|\t Training Loss: 0.3805901043613752 \t|\t Validation Loss: 0.41077442522695723 \n",
            "\t|\t Training Acc: 0.8676666666666667 \t|\t Validation Acc: 0.8555833333333334\n",
            "Epoch 36 \n",
            "\t|\t Training Loss: 0.3795404232144356 \t|\t Validation Loss: 0.4145562303985687 \n",
            "\t|\t Training Acc: 0.8679791666666666 \t|\t Validation Acc: 0.8555\n",
            "Epoch 37 \n",
            "\t|\t Training Loss: 0.3793310964504878 \t|\t Validation Loss: 0.4146891156251126 \n",
            "\t|\t Training Acc: 0.8688541666666667 \t|\t Validation Acc: 0.8538333333333333\n",
            "Epoch 38 \n",
            "\t|\t Training Loss: 0.37941127945979436 \t|\t Validation Loss: 0.4101882887647507 \n",
            "\t|\t Training Acc: 0.8687916666666666 \t|\t Validation Acc: 0.8554166666666667\n",
            "Epoch 39 \n",
            "\t|\t Training Loss: 0.3786231739123662 \t|\t Validation Loss: 0.4113920132847542 \n",
            "\t|\t Training Acc: 0.8689791666666666 \t|\t Validation Acc: 0.85475\n",
            "Epoch 40 \n",
            "\t|\t Training Loss: 0.377522858997186 \t|\t Validation Loss: 0.41572305647299646 \n",
            "\t|\t Training Acc: 0.8693333333333333 \t|\t Validation Acc: 0.85525\n",
            "Epoch 41 \n",
            "\t|\t Training Loss: 0.3774615478515625 \t|\t Validation Loss: 0.4115921216125184 \n",
            "\t|\t Training Acc: 0.8681875 \t|\t Validation Acc: 0.8556666666666667\n",
            "Epoch 42 \n",
            "\t|\t Training Loss: 0.37676939721902214 \t|\t Validation Loss: 0.4129969899324661 \n",
            "\t|\t Training Acc: 0.8694791666666667 \t|\t Validation Acc: 0.8565833333333334\n",
            "Epoch 43 \n",
            "\t|\t Training Loss: 0.3756679566701253 \t|\t Validation Loss: 0.41347453592622535 \n",
            "\t|\t Training Acc: 0.8700208333333334 \t|\t Validation Acc: 0.8548333333333333\n",
            "Epoch 44 \n",
            "\t|\t Training Loss: 0.3757155333360036 \t|\t Validation Loss: 0.41425663597406226 \n",
            "\t|\t Training Acc: 0.8693125 \t|\t Validation Acc: 0.85375\n",
            "Epoch 45 \n",
            "\t|\t Training Loss: 0.375277967274189 \t|\t Validation Loss: 0.4141118788814291 \n",
            "\t|\t Training Acc: 0.8700833333333333 \t|\t Validation Acc: 0.85475\n",
            "Epoch 46 \n",
            "\t|\t Training Loss: 0.3743526988228162 \t|\t Validation Loss: 0.4132218562225078 \n",
            "\t|\t Training Acc: 0.8702916666666667 \t|\t Validation Acc: 0.8558333333333333\n",
            "Epoch 47 \n",
            "\t|\t Training Loss: 0.37419790581862133 \t|\t Validation Loss: 0.41524499369428514 \n",
            "\t|\t Training Acc: 0.8701875 \t|\t Validation Acc: 0.8521666666666666\n",
            "Epoch 48 \n",
            "\t|\t Training Loss: 0.37357688816388446 \t|\t Validation Loss: 0.4112982649276865 \n",
            "\t|\t Training Acc: 0.869375 \t|\t Validation Acc: 0.8548333333333333\n",
            "Epoch 49 \n",
            "\t|\t Training Loss: 0.37366193582614265 \t|\t Validation Loss: 0.4130992394812564 \n",
            "\t|\t Training Acc: 0.8702708333333333 \t|\t Validation Acc: 0.8540833333333333\n",
            "Epoch 50 \n",
            "\t|\t Training Loss: 0.372724825779597 \t|\t Validation Loss: 0.42103684392381224 \n",
            "\t|\t Training Acc: 0.87 \t|\t Validation Acc: 0.8480833333333333\n"
          ]
        },
        {
          "output_type": "display_data",
          "data": {
            "text/plain": [
              "<Figure size 432x288 with 1 Axes>"
            ],
            "image/png": "[encoded data removed]"
          },
          "metadata": {
            "needs_background": "light"
          }
        },
        {
          "output_type": "stream",
          "name": "stdout",
          "text": [
            "\n"
          ]
        },
        {
          "output_type": "display_data",
          "data": {
            "text/plain": [
              "<Figure size 432x288 with 1 Axes>"
            ],
            "image/png": "[encoded data removed]"
          },
          "metadata": {
            "needs_background": "light"
          }
        },
        {
          "output_type": "stream",
          "name": "stdout",
          "text": [
            "0.8374999761581421\n"
          ]
        }
      ]
    },
    {
      "cell_type": "markdown",
      "source": [
        "3. Function 3: `two_hidden_layers_sigmoid(number_of_neurons)`\\\n",
        "• Same as Function 2, with 2 hidden layers\\\n",
        "• Use sigmoid as activation function\\\n",
        "• Train for 20 epochs with lr = 0.1\\\n",
        "• Plot a figure with the accuracy on the training set and validation set for each\n",
        "epoch\\\n",
        "• Plot the accuracy on the test set of the final model\n"
      ],
      "metadata": {
        "id": "TW0g0WQtKcVb"
      }
    },
    {
      "cell_type": "code",
      "source": [
        "def two_hidden_layers_sigmoid(number_of_neurons):\n",
        "  \n",
        "  epochs = 20\n",
        "\n",
        "  model = GenericFeedForwardNet(n_features, [number_of_neurons]*2, n_classes, 'sigmoid')\n",
        "\n",
        "  loss_fn = nn.CrossEntropyLoss()\n",
        "  learning_rate = 0.1\n",
        "\n",
        "  optimizer = torch.optim.SGD(model.parameters(), lr = learning_rate)\n",
        "\n",
        "  model, train_losses,val_losses,train_accuracies,val_accuracies = train_val(model, epochs, optimizer, loss_fn)\n",
        "  plot_train_val(train_losses,val_losses,train_accuracies,val_accuracies)\n",
        "  test_acc = test(model)\n",
        "  print(\"Test accuracy:\",test_acc)  \n",
        "\n",
        "two_hidden_layers_sigmoid(32)"
      ],
      "metadata": {
        "id": "o06LGu_xKcxf",
        "colab": {
          "base_uri": "https://localhost:8080/",
          "height": 1000
        },
        "outputId": "9d2a599d-69d3-4d44-96b0-22a0bf43424a"
      },
      "execution_count": 89,
      "outputs": [
        {
          "output_type": "stream",
          "name": "stdout",
          "text": [
            "Epoch 1 \n",
            "\t|\t Training Loss: 1.5382804151376088 \t|\t Validation Loss: 1.0015298055207476 \n",
            "\t|\t Training Acc: 0.4710416666666667 \t|\t Validation Acc: 0.6793333333333333\n",
            "Epoch 2 \n",
            "\t|\t Training Loss: 0.8016776694456736 \t|\t Validation Loss: 0.6553638607580611 \n",
            "\t|\t Training Acc: 0.7166458333333333 \t|\t Validation Acc: 0.7601666666666667\n",
            "Epoch 3 \n",
            "\t|\t Training Loss: 0.6017216968139013 \t|\t Validation Loss: 0.5449240672144484 \n",
            "\t|\t Training Acc: 0.7773333333333333 \t|\t Validation Acc: 0.8061666666666667\n",
            "Epoch 4 \n",
            "\t|\t Training Loss: 0.5122037216822306 \t|\t Validation Loss: 0.48758591806634943 \n",
            "\t|\t Training Acc: 0.8208958333333334 \t|\t Validation Acc: 0.8293333333333334\n",
            "Epoch 5 \n",
            "\t|\t Training Loss: 0.4606812689900398 \t|\t Validation Loss: 0.44737201675455623 \n",
            "\t|\t Training Acc: 0.8401041666666667 \t|\t Validation Acc: 0.844\n",
            "Epoch 6 \n",
            "\t|\t Training Loss: 0.4270485291481018 \t|\t Validation Loss: 0.4301655249709779 \n",
            "\t|\t Training Acc: 0.8515 \t|\t Validation Acc: 0.84525\n",
            "Epoch 7 \n",
            "\t|\t Training Loss: 0.4038288641969363 \t|\t Validation Loss: 0.4039543384408697 \n",
            "\t|\t Training Acc: 0.8582708333333333 \t|\t Validation Acc: 0.8545833333333334\n",
            "Epoch 8 \n",
            "\t|\t Training Loss: 0.3836366047461828 \t|\t Validation Loss: 0.40448055638277786 \n",
            "\t|\t Training Acc: 0.8648333333333333 \t|\t Validation Acc: 0.8488333333333333\n",
            "Epoch 9 \n",
            "\t|\t Training Loss: 0.37074175000190734 \t|\t Validation Loss: 0.3916499849329603 \n",
            "\t|\t Training Acc: 0.8680416666666667 \t|\t Validation Acc: 0.8609166666666667\n",
            "Epoch 10 \n",
            "\t|\t Training Loss: 0.3585836964448293 \t|\t Validation Loss: 0.3781001442607413 \n",
            "\t|\t Training Acc: 0.8720208333333334 \t|\t Validation Acc: 0.866\n",
            "Epoch 11 \n",
            "\t|\t Training Loss: 0.34874133217334746 \t|\t Validation Loss: 0.3720195544685455 \n",
            "\t|\t Training Acc: 0.8752708333333333 \t|\t Validation Acc: 0.8675\n",
            "Epoch 12 \n",
            "\t|\t Training Loss: 0.3404064043958982 \t|\t Validation Loss: 0.37249764094644405 \n",
            "\t|\t Training Acc: 0.8784166666666666 \t|\t Validation Acc: 0.8670833333333333\n",
            "Epoch 13 \n",
            "\t|\t Training Loss: 0.33228197625279426 \t|\t Validation Loss: 0.3890355030431392 \n",
            "\t|\t Training Acc: 0.8806041666666666 \t|\t Validation Acc: 0.8594166666666667\n",
            "Epoch 14 \n",
            "\t|\t Training Loss: 0.32532225393255554 \t|\t Validation Loss: 0.363665381565373 \n",
            "\t|\t Training Acc: 0.8841041666666667 \t|\t Validation Acc: 0.86775\n",
            "Epoch 15 \n",
            "\t|\t Training Loss: 0.3177746794124444 \t|\t Validation Loss: 0.3604298832410194 \n",
            "\t|\t Training Acc: 0.8851875 \t|\t Validation Acc: 0.8703333333333333\n",
            "Epoch 16 \n",
            "\t|\t Training Loss: 0.31123271669944125 \t|\t Validation Loss: 0.36097349511816146 \n",
            "\t|\t Training Acc: 0.88825 \t|\t Validation Acc: 0.86825\n",
            "Epoch 17 \n",
            "\t|\t Training Loss: 0.30635525365670524 \t|\t Validation Loss: 0.35963876814918316 \n",
            "\t|\t Training Acc: 0.8905416666666667 \t|\t Validation Acc: 0.8700833333333333\n",
            "Epoch 18 \n",
            "\t|\t Training Loss: 0.3009723745882511 \t|\t Validation Loss: 0.35384236331632796 \n",
            "\t|\t Training Acc: 0.8925625 \t|\t Validation Acc: 0.8728333333333333\n",
            "Epoch 19 \n",
            "\t|\t Training Loss: 0.29516406974196435 \t|\t Validation Loss: 0.3566658278094961 \n",
            "\t|\t Training Acc: 0.8936041666666666 \t|\t Validation Acc: 0.8715833333333334\n",
            "Epoch 20 \n",
            "\t|\t Training Loss: 0.29024979642033577 \t|\t Validation Loss: 0.364474434920765 \n",
            "\t|\t Training Acc: 0.8959583333333333 \t|\t Validation Acc: 0.8688333333333333\n"
          ]
        },
        {
          "output_type": "display_data",
          "data": {
            "text/plain": [
              "<Figure size 432x288 with 1 Axes>"
            ],
            "image/png": "[encoded data removed]"
          },
          "metadata": {
            "needs_background": "light"
          }
        },
        {
          "output_type": "stream",
          "name": "stdout",
          "text": [
            "\n"
          ]
        },
        {
          "output_type": "display_data",
          "data": {
            "text/plain": [
              "<Figure size 432x288 with 1 Axes>"
            ],
            "image/png": "[encoded data removed]"
          },
          "metadata": {
            "needs_background": "light"
          }
        },
        {
          "output_type": "stream",
          "name": "stdout",
          "text": [
            "Test accuracy: 0.8585000038146973\n"
          ]
        }
      ]
    },
    {
      "cell_type": "markdown",
      "source": [
        "4. Function 4: `two_hidden_layers_relu(number_of_neurons)`\\\n",
        "• Same as Function 2, with 2 hidden layers\\\n",
        "• Use relu as activation function\\\n",
        "• Train for 20 epochs\\\n",
        "• Train the network with different learning rates, plot a figure with the validation\n",
        "accuracy for each learning rate you tried\\\n",
        "• Use the learning rate that yields the best accuracy on the validation set and\n",
        "report the accuracy on the test set\\\n",
        "• Plot a figure with the accuracy on the training set and validation set for each\n",
        "epoch\\\n",
        "• Plot the accuracy on the test set of the final model"
      ],
      "metadata": {
        "id": "yAQfk8ruKdIL"
      }
    },
    {
      "cell_type": "code",
      "source": [
        "def two_hidden_layers_relu(number_of_neurons):\n",
        "  \n",
        "  epochs = 20\n",
        "  # placeholder for best model\n",
        "  best_model = GenericFeedForwardNet(n_features, [number_of_neurons, number_of_neurons], n_classes, 'relu')\n",
        "  max_val_acc = -np.Inf\n",
        "  best_model_metrics = []\n",
        "  best_lr = 0\n",
        "\n",
        "  for learning_rate in [0.1, 0.01, 0.001]:\n",
        "    \n",
        "    model = GenericFeedForwardNet(n_features, [number_of_neurons, number_of_neurons], n_classes, 'relu')\n",
        "    loss_fn = nn.CrossEntropyLoss()\n",
        "    optimizer = torch.optim.SGD(model.parameters(), lr = learning_rate)\n",
        "    print(f\"Loss & Accuracy for learning rate {learning_rate}:\")\n",
        "    model, train_losses,val_losses,train_accuracies,val_accuracies = train_val(model, epochs, optimizer, loss_fn)\n",
        "    \n",
        "    if val_accuracies[-1] > max_val_acc:\n",
        "      max_val_acc = val_accuracies[-1]\n",
        "      best_model_metrics = [train_losses,val_losses,train_accuracies,val_accuracies]\n",
        "      best_model = model\n",
        "      best_lr = learning_rate\n",
        "\n",
        "  print(f\"Model performed best with {best_lr} learning rate:\")\n",
        "  plot_train_val(*best_model_metrics)\n",
        "  test_acc = test(best_model)\n",
        "  print(\"Test accuracy:\",test_acc)  \n",
        "\n",
        "two_hidden_layers_relu(4)"
      ],
      "metadata": {
        "id": "EIb2XwWsKd-J",
        "colab": {
          "base_uri": "https://localhost:8080/"
        },
        "outputId": "a0ad678f-f1e3-4755-d7fa-61ea687dc7e8"
      },
      "execution_count": null,
      "outputs": [
        {
          "output_type": "stream",
          "name": "stdout",
          "text": [
            "Loss & Accuracy for learning rate 0.1:\n",
            "Epoch 1 \n",
            "\t|\t Training Loss: 1.0004980887969335 \t|\t Validation Loss: 0.7666763043467034 \n",
            "\t|\t Training Acc: 0.6217916666666666 \t|\t Validation Acc: 0.7390833333333333\n",
            "Epoch 2 \n",
            "\t|\t Training Loss: 0.7389482859770456 \t|\t Validation Loss: 0.6744859587955983 \n",
            "\t|\t Training Acc: 0.7399583333333334 \t|\t Validation Acc: 0.76375\n",
            "Epoch 3 \n",
            "\t|\t Training Loss: 0.6750651799440384 \t|\t Validation Loss: 0.6596616349638776 \n",
            "\t|\t Training Acc: 0.7647708333333333 \t|\t Validation Acc: 0.7658333333333334\n",
            "Epoch 4 \n",
            "\t|\t Training Loss: 0.6863660355408986 \t|\t Validation Loss: 0.6335925876777223 \n",
            "\t|\t Training Acc: 0.7625 \t|\t Validation Acc: 0.77925\n",
            "Epoch 5 \n",
            "\t|\t Training Loss: 0.6353077554305394 \t|\t Validation Loss: 0.5985409320986017 \n",
            "\t|\t Training Acc: 0.7787708333333333 \t|\t Validation Acc: 0.7976666666666666\n",
            "Epoch 6 \n",
            "\t|\t Training Loss: 0.630187060713768 \t|\t Validation Loss: 0.6070600034708672 \n",
            "\t|\t Training Acc: 0.7828958333333333 \t|\t Validation Acc: 0.79225\n",
            "Epoch 7 \n",
            "\t|\t Training Loss: 0.610993304491043 \t|\t Validation Loss: 0.6047732465444727 \n",
            "\t|\t Training Acc: 0.7858541666666666 \t|\t Validation Acc: 0.7896666666666666\n",
            "Epoch 8 \n",
            "\t|\t Training Loss: 0.6003285994529725 \t|\t Validation Loss: 0.5748587201567407 \n",
            "\t|\t Training Acc: 0.7925208333333333 \t|\t Validation Acc: 0.79825\n",
            "Epoch 9 \n",
            "\t|\t Training Loss: 0.5903808286587398 \t|\t Validation Loss: 0.5959915433158266 \n",
            "\t|\t Training Acc: 0.7955 \t|\t Validation Acc: 0.7901666666666667\n",
            "Epoch 10 \n",
            "\t|\t Training Loss: 0.5822419527769088 \t|\t Validation Loss: 0.5665519760644182 \n",
            "\t|\t Training Acc: 0.7974791666666666 \t|\t Validation Acc: 0.8080833333333334\n",
            "Epoch 11 \n",
            "\t|\t Training Loss: 0.5735317003329595 \t|\t Validation Loss: 0.6437191525672344 \n",
            "\t|\t Training Acc: 0.8017083333333334 \t|\t Validation Acc: 0.7826666666666666\n",
            "Epoch 12 \n",
            "\t|\t Training Loss: 0.5618416416247686 \t|\t Validation Loss: 0.5506449224466973 \n",
            "\t|\t Training Acc: 0.8041041666666666 \t|\t Validation Acc: 0.8113333333333334\n",
            "Epoch 13 \n",
            "\t|\t Training Loss: 0.5502189298470815 \t|\t Validation Loss: 0.676476850947167 \n",
            "\t|\t Training Acc: 0.8089791666666667 \t|\t Validation Acc: 0.7769166666666667\n",
            "Epoch 14 \n",
            "\t|\t Training Loss: 0.5555637949705123 \t|\t Validation Loss: 0.544333132499076 \n",
            "\t|\t Training Acc: 0.8074375 \t|\t Validation Acc: 0.8169166666666666\n",
            "Epoch 15 \n",
            "\t|\t Training Loss: 0.5428160916368167 \t|\t Validation Loss: 0.5247668718245435 \n",
            "\t|\t Training Acc: 0.8124791666666666 \t|\t Validation Acc: 0.8176666666666667\n",
            "Epoch 16 \n",
            "\t|\t Training Loss: 0.5398256441553434 \t|\t Validation Loss: 0.5188426811327326 \n",
            "\t|\t Training Acc: 0.8130416666666667 \t|\t Validation Acc: 0.8215833333333333\n",
            "Epoch 17 \n",
            "\t|\t Training Loss: 0.5350971579154332 \t|\t Validation Loss: 0.539654422789178 \n",
            "\t|\t Training Acc: 0.8139166666666666 \t|\t Validation Acc: 0.8125\n",
            "Epoch 18 \n",
            "\t|\t Training Loss: 0.5363528838555018 \t|\t Validation Loss: 0.5660141360093939 \n",
            "\t|\t Training Acc: 0.8135833333333333 \t|\t Validation Acc: 0.8080833333333334\n",
            "Epoch 19 \n",
            "\t|\t Training Loss: 0.5287531786958377 \t|\t Validation Loss: 0.5286203946997511 \n",
            "\t|\t Training Acc: 0.8164166666666667 \t|\t Validation Acc: 0.8196666666666667\n",
            "Epoch 20 \n",
            "\t|\t Training Loss: 0.5491547722419103 \t|\t Validation Loss: 0.6023547291121585 \n",
            "\t|\t Training Acc: 0.8095 \t|\t Validation Acc: 0.7873333333333333\n",
            "Loss & Accuracy for learning rate 0.01:\n",
            "Epoch 1 \n",
            "\t|\t Training Loss: 1.9789495226542155 \t|\t Validation Loss: 1.733818955877994 \n",
            "\t|\t Training Acc: 0.21947916666666667 \t|\t Validation Acc: 0.30766666666666664\n",
            "Epoch 2 \n",
            "\t|\t Training Loss: 1.5103618216514587 \t|\t Validation Loss: 1.2463432718464669 \n",
            "\t|\t Training Acc: 0.4440208333333333 \t|\t Validation Acc: 0.5590833333333334\n",
            "Epoch 3 \n",
            "\t|\t Training Loss: 1.1271772311528523 \t|\t Validation Loss: 1.034074030975078 \n",
            "\t|\t Training Acc: 0.5634583333333333 \t|\t Validation Acc: 0.6231666666666666\n",
            "Epoch 4 \n",
            "\t|\t Training Loss: 0.9670089577039083 \t|\t Validation Loss: 0.9135040105023282 \n",
            "\t|\t Training Acc: 0.6347083333333333 \t|\t Validation Acc: 0.6575833333333333\n",
            "Epoch 5 \n",
            "\t|\t Training Loss: 0.8774813737074534 \t|\t Validation Loss: 0.8409426526186314 \n",
            "\t|\t Training Acc: 0.6618333333333334 \t|\t Validation Acc: 0.6740833333333334\n",
            "Epoch 6 \n",
            "\t|\t Training Loss: 0.8206721773147583 \t|\t Validation Loss: 0.800448199218892 \n",
            "\t|\t Training Acc: 0.6788958333333334 \t|\t Validation Acc: 0.6836666666666666\n",
            "Epoch 7 \n",
            "\t|\t Training Loss: 0.77909024365743 \t|\t Validation Loss: 0.7649005645133079 \n",
            "\t|\t Training Acc: 0.6900833333333334 \t|\t Validation Acc: 0.6941666666666667\n",
            "Epoch 8 \n",
            "\t|\t Training Loss: 0.7508884298404058 \t|\t Validation Loss: 0.7448676672387631 \n",
            "\t|\t Training Acc: 0.70025 \t|\t Validation Acc: 0.7018333333333333\n",
            "Epoch 9 \n",
            "\t|\t Training Loss: 0.7302242357333502 \t|\t Validation Loss: 0.7232161619244738 \n",
            "\t|\t Training Acc: 0.7053333333333334 \t|\t Validation Acc: 0.708\n",
            "Epoch 10 \n",
            "\t|\t Training Loss: 0.7149478971958161 \t|\t Validation Loss: 0.7111578043153945 \n",
            "\t|\t Training Acc: 0.7100208333333333 \t|\t Validation Acc: 0.7095833333333333\n",
            "Epoch 11 \n",
            "\t|\t Training Loss: 0.7050980966091156 \t|\t Validation Loss: 0.703379104429103 \n",
            "\t|\t Training Acc: 0.7137291666666666 \t|\t Validation Acc: 0.7125\n"
          ]
        }
      ]
    },
    {
      "cell_type": "markdown",
      "source": [
        "5. Function 5: `two_hidden_layers_relu_SGD_decreasing_lr(number_of_neurons)`\\\n",
        "• Same as Function 4\\\n",
        "• Use lr = 0.01\\\n",
        "• Use decreasing learning rate\\\n",
        "• Plot a figure with the accuracy on the training set and validation set for each\n",
        "epoch\\\n",
        "• Plot the accuracy on the test set of the final model\\\n"
      ],
      "metadata": {
        "id": "4fmqqqcAKek7"
      }
    },
    {
      "cell_type": "code",
      "source": [
        "### Implement here\n",
        "def two_hidden_layers_relu_SGD_decreasing_lr(number_of_neurons):\n",
        "\n",
        "  epochs = 20\n",
        "  model = GenericFeedForwardNet(n_features, [number_of_neurons]*2, n_classes, 'sigmoid')\n",
        "\n",
        "  loss_fn = nn.CrossEntropyLoss()\n",
        "  learning_rate = 0.01\n",
        "\n",
        "  optimizer = torch.optim.SGD(model.parameters(), lr = learning_rate)\n",
        "  lr_scheduler = torch.optim.lr_scheduler.MultiStepLR(optimizer, milestones=[e for e in range(epochs) if e%3==0], gamma=0.1)\n",
        "\n",
        "  model, train_losses,val_losses,train_accuracies,val_accuracies = train_val(model, epochs, optimizer, loss_fn, lr_scheduler = lr_scheduler)\n",
        "  plot_train_val(train_losses,val_losses,train_accuracies,val_accuracies)\n",
        "  test_acc = test(model)\n",
        "  print(\"Test accuracy:\",test_acc)  \n",
        "\n",
        "two_hidden_layers_relu_SGD_decreasing_lr(32)"
      ],
      "metadata": {
        "id": "beofR99mKfSL"
      },
      "execution_count": null,
      "outputs": []
    },
    {
      "cell_type": "markdown",
      "source": [
        "6. Function 6: `two_hidden_layers_relu_adam(number_of_neurons)`\\\n",
        "• Same as Function 4\\\n",
        "• Use Adam as optimizer with lr=0.001\\\n",
        "• Train for 30 epochs\\\n",
        "• Plot a figure with the accuracy on the training set and validation set for each\n",
        "epoch\\\n",
        "• Plot the accuracy on the test set of the final model\n"
      ],
      "metadata": {
        "id": "djK1YXF5KgGc"
      }
    },
    {
      "cell_type": "code",
      "source": [
        "def two_hidden_layers_relu_adam(number_of_neurons):\n",
        "  \n",
        "  epochs = 30\n",
        "  model = GenericFeedForwardNet(n_features, [number_of_neurons]*2, n_classes, 'relu')\n",
        "\n",
        "  # Declaring Criterion and Optimizer\n",
        "  loss_fn = nn.CrossEntropyLoss()\n",
        "  learning_rate = 0.001\n",
        "  optimizer = torch.optim.Adam(model.parameters(), lr = learning_rate)\n",
        "  model, train_losses,val_losses,train_accuracies,val_accuracies = train_val(model, epochs, optimizer, loss_fn)\n",
        "  plot_train_val(train_losses,val_losses,train_accuracies,val_accuracies)\n",
        "  test_acc = test(model)\n",
        "  print(\"Test accuracy:\",test_acc)  \n",
        "  \n",
        "two_hidden_layers_relu_adam(32)"
      ],
      "metadata": {
        "id": "Vz1bI9ShKru6"
      },
      "execution_count": null,
      "outputs": []
    },
    {
      "cell_type": "markdown",
      "source": [
        "7. Function 7: `four_hidden_layers_adam(number_of_neurons)`\\\n",
        "• Same as Function 6, but use 4 hidden layers instead of 2\\\n",
        "• Train for 30 epochs\\\n",
        "• Use Adam as optimizer\\\n",
        "• Plot a figure with the accuracy on the training set and validation set for each\n",
        "epoch\\\n",
        "• Plot the accuracy on the test set of the final model\n"
      ],
      "metadata": {
        "id": "NK0_l63UKrUq"
      }
    },
    {
      "cell_type": "code",
      "source": [
        "### Implement here\n",
        "def four_hidden_layers_adam(number_of_neurons):\n",
        "  epochs = 30\n",
        "  model = GenericFeedForwardNet(n_features, [number_of_neurons]*4, n_classes, 'relu')\n",
        "\n",
        "  # Declaring Criterion and Optimizer\n",
        "  loss_fn = nn.CrossEntropyLoss()\n",
        "  learning_rate = 0.001\n",
        "  optimizer = torch.optim.Adam(model.parameters(), lr = learning_rate)\n",
        "  model, train_losses,val_losses,train_accuracies,val_accuracies = train_val(model, epochs, optimizer, loss_fn)\n",
        "  plot_train_val(train_losses,val_losses,train_accuracies,val_accuracies)\n",
        "  test_acc = test(model)\n",
        "  print(\"Test accuracy:\",test_acc)  \n",
        "  \n",
        "four_hidden_layers_adam(32)"
      ],
      "metadata": {
        "id": "Df4r0b3pKswm"
      },
      "execution_count": null,
      "outputs": []
    },
    {
      "cell_type": "markdown",
      "source": [
        "8. Function 8: `four_hidden_layers_adam_weight_decay(number_of_neurons)`\\\n",
        "• Same as Function 6, but use 4 hidden layers instead of 2\\\n",
        "• Use only 10% of the training set for training\\\n",
        "• Train for 250 epochs\\\n",
        "• Use Adam as optimizer with weight decay as regularization method\\\n",
        "• Plot a figure of the training and validation loss function during the training\n",
        "process. Write in your report what's the difference between training with and\n",
        "without weight decay? Based your answer on the plots.\\\n",
        "• Plot a figure with the accuracy on the training set and validation set for each\n",
        "epoch\\\n",
        "• Plot the accuracy on the test set of the final model\n"
      ],
      "metadata": {
        "id": "mFIQBO--KtRa"
      }
    },
    {
      "cell_type": "code",
      "source": [
        "### Implement here\n",
        "def four_hidden_layers_adam_weight_decay(number_of_neurons):\n",
        "  epochs = 250\n",
        "  model = GenericFeedForwardNet(n_features, [number_of_neurons]*4, n_classes, 'relu')\n",
        "\n",
        "  # Declaring Criterion and Optimizer\n",
        "  loss_fn = nn.CrossEntropyLoss()\n",
        "  learning_rate = 0.001\n",
        "  optimizer = torch.optim.Adam(model.parameters(), lr = learning_rate, weight_decay=0.001)\n",
        "\n",
        "  model, train_losses,val_losses,train_accuracies,val_accuracies = train_val(model, epochs, optimizer, loss_fn, small_train=True)\n",
        "  plot_train_val(train_losses,val_losses,train_accuracies,val_accuracies)\n",
        "  test_acc = test(model)\n",
        "  print(\"Test accuracy:\",test_acc)  \n",
        "\n",
        "four_hidden_layers_adam_weight_decay(32)"
      ],
      "metadata": {
        "id": "4-Cmo5ykKtxF",
        "colab": {
          "base_uri": "https://localhost:8080/",
          "height": 868
        },
        "outputId": "793d0658-a056-4198-e880-00351e526c6a"
      },
      "execution_count": 70,
      "outputs": [
        {
          "output_type": "stream",
          "name": "stdout",
          "text": [
            "Epoch 1 \n",
            "\t|\t Training Loss: 1.4621326581637064 \t|\t Validation Loss: 0.8004015547798035 \n",
            "\t|\t Training Acc: 0.49020833333333336 \t|\t Validation Acc: 0.7006666666666667\n",
            "Epoch 2 \n",
            "\t|\t Training Loss: 0.7170505404472352 \t|\t Validation Loss: 0.6415217166885416 \n",
            "\t|\t Training Acc: 0.7216666666666667 \t|\t Validation Acc: 0.7521666666666667\n",
            "Epoch 3 \n",
            "\t|\t Training Loss: 0.6132639304796854 \t|\t Validation Loss: 0.5791714966614195 \n",
            "\t|\t Training Acc: 0.7560416666666666 \t|\t Validation Acc: 0.78\n",
            "Epoch 4 \n",
            "\t|\t Training Loss: 0.5564978841940562 \t|\t Validation Loss: 0.5599411928907354 \n",
            "\t|\t Training Acc: 0.7883333333333333 \t|\t Validation Acc: 0.7950833333333334\n",
            "Epoch 5 \n",
            "\t|\t Training Loss: 0.5084167357285817 \t|\t Validation Loss: 0.5822668784159295 \n",
            "\t|\t Training Acc: 0.8129166666666666 \t|\t Validation Acc: 0.7756666666666666\n"
          ]
        },
        {
          "output_type": "display_data",
          "data": {
            "text/plain": [
              "<Figure size 432x288 with 1 Axes>"
            ],
            "image/png": "[encoded data removed]"
          },
          "metadata": {
            "needs_background": "light"
          }
        },
        {
          "output_type": "stream",
          "name": "stdout",
          "text": [
            "\n"
          ]
        },
        {
          "output_type": "display_data",
          "data": {
            "text/plain": [
              "<Figure size 432x288 with 1 Axes>"
            ],
            "image/png": "[encoded data removed]"
          },
          "metadata": {
            "needs_background": "light"
          }
        },
        {
          "output_type": "stream",
          "name": "stdout",
          "text": [
            "Test accuracy: 0.7594999670982361\n"
          ]
        }
      ]
    },
    {
      "cell_type": "markdown",
      "source": [
        "9. Function 9: `four_hidden_layers_adam_early_stopping(number_of_neurons)`\\\n",
        "• Same as Function 6, but use 4 hidden layers instead of 2\\\n",
        "• Use Adam as optimizer\\\n",
        "• Use only 10% of the training set for training\\\n",
        "• Train for 250 epochs\\\n",
        "• Use early stopping regularization (on the validation set) to prevent overfitting with\n",
        "patience=20.\\\n",
        "• Plot a figure of the training and validation loss function during the training\n",
        "process. Show on your figure the early stopping point.\\\n",
        "• Plot a figure with the accuracy on the training set and validation set for each\n",
        "epoch\\\n",
        "• Plot the accuracy on the test set of the final model"
      ],
      "metadata": {
        "id": "rLVffyXuKuFR"
      }
    },
    {
      "cell_type": "code",
      "source": [
        "### Implement here\n",
        "def four_hidden_layers_adam_early_stopping(number_of_neurons):\n",
        "  \n",
        "  model = GenericFeedForwardNet(n_features, [number_of_neurons]*4, n_classes, 'relu')\n",
        "  patience = 20\n",
        "  epochs = 250\n",
        "  # Declaring Criterion and Optimizer\n",
        "  loss_fn = nn.CrossEntropyLoss()\n",
        "  learning_rate = 0.01\n",
        "  optimizer = torch.optim.Adam(model.parameters(), lr = learning_rate)\n",
        "  \n",
        "  model, train_losses,val_losses,train_accuracies,val_accuracies = train_val(model, epochs, optimizer, loss_fn, early_stopping = True, patience = patience)\n",
        "  plot_train_val(train_losses,val_losses,train_accuracies,val_accuracies)\n",
        "  test_acc = test(model)\n",
        "  print(\"Test accuracy:\",test_acc)  \n",
        "\n",
        "four_hidden_layers_adam_early_stopping(32)"
      ],
      "metadata": {
        "id": "hUJK8uHZKupC",
        "colab": {
          "base_uri": "https://localhost:8080/",
          "height": 1000
        },
        "outputId": "e2bc9f2c-bb50-467a-a489-cfdf4d6397cf"
      },
      "execution_count": 87,
      "outputs": [
        {
          "output_type": "stream",
          "name": "stdout",
          "text": [
            "triggers reset\n",
            "Epoch 1 \n",
            "\t|\t Training Loss: 0.5752674615184467 \t|\t Validation Loss: 0.47150906325971825 \n",
            "\t|\t Training Acc: 0.789125 \t|\t Validation Acc: 0.8280833333333333\n",
            "triggers reset\n",
            "Epoch 2 \n",
            "\t|\t Training Loss: 0.44816699932018916 \t|\t Validation Loss: 0.4433609868617768 \n",
            "\t|\t Training Acc: 0.8424166666666667 \t|\t Validation Acc: 0.84425\n",
            "triggers reset\n",
            "Epoch 3 \n",
            "\t|\t Training Loss: 0.42856228989362716 \t|\t Validation Loss: 0.43455584164946637 \n",
            "\t|\t Training Acc: 0.8505833333333334 \t|\t Validation Acc: 0.84825\n",
            "triggers reset\n",
            "Epoch 4 \n",
            "\t|\t Training Loss: 0.4107958140174548 \t|\t Validation Loss: 0.4182683380043253 \n",
            "\t|\t Training Acc: 0.8562291666666667 \t|\t Validation Acc: 0.8529166666666667\n",
            "triggers is 1\n",
            "Epoch 5 \n",
            "\t|\t Training Loss: 0.39579807947079343 \t|\t Validation Loss: 0.44571369173044856 \n",
            "\t|\t Training Acc: 0.8607708333333334 \t|\t Validation Acc: 0.8498333333333333\n",
            "triggers is 2\n",
            "Epoch 6 \n",
            "\t|\t Training Loss: 0.398438759346803 \t|\t Validation Loss: 0.4267079007435352 \n",
            "\t|\t Training Acc: 0.8598125 \t|\t Validation Acc: 0.8551666666666666\n",
            "triggers reset\n",
            "Epoch 7 \n",
            "\t|\t Training Loss: 0.38259218774239223 \t|\t Validation Loss: 0.4176495123575342 \n",
            "\t|\t Training Acc: 0.8667291666666667 \t|\t Validation Acc: 0.8555833333333334\n",
            "triggers is 1\n",
            "Epoch 8 \n",
            "\t|\t Training Loss: 0.37736701002717016 \t|\t Validation Loss: 0.45368051901459694 \n",
            "\t|\t Training Acc: 0.8678125 \t|\t Validation Acc: 0.8450833333333333\n",
            "triggers reset\n",
            "Epoch 9 \n",
            "\t|\t Training Loss: 0.3849589172502359 \t|\t Validation Loss: 0.40997592550008854 \n",
            "\t|\t Training Acc: 0.8670833333333333 \t|\t Validation Acc: 0.8589166666666667\n",
            "triggers is 1\n",
            "Epoch 10 \n",
            "\t|\t Training Loss: 0.4244647150238355 \t|\t Validation Loss: 0.4252017895750543 \n",
            "\t|\t Training Acc: 0.8550208333333333 \t|\t Validation Acc: 0.855\n",
            "triggers is 2\n",
            "Epoch 11 \n",
            "\t|\t Training Loss: 0.39540734798709554 \t|\t Validation Loss: 0.41283505988564895 \n",
            "\t|\t Training Acc: 0.8642708333333333 \t|\t Validation Acc: 0.8600833333333333\n",
            "triggers is 3\n",
            "Epoch 12 \n",
            "\t|\t Training Loss: 0.36160384048024813 \t|\t Validation Loss: 0.4366698051069645 \n",
            "\t|\t Training Acc: 0.8730416666666667 \t|\t Validation Acc: 0.8553333333333333\n",
            "triggers reset\n",
            "Epoch 13 \n",
            "\t|\t Training Loss: 0.37416282068689666 \t|\t Validation Loss: 0.40149969892933013 \n",
            "\t|\t Training Acc: 0.8690625 \t|\t Validation Acc: 0.8625833333333334\n",
            "triggers is 1\n",
            "Epoch 14 \n",
            "\t|\t Training Loss: 0.3584183062215646 \t|\t Validation Loss: 0.4183624068156202 \n",
            "\t|\t Training Acc: 0.8749583333333333 \t|\t Validation Acc: 0.858\n",
            "triggers is 2\n",
            "Epoch 15 \n",
            "\t|\t Training Loss: 0.36007661097248395 \t|\t Validation Loss: 0.40589702121437865 \n",
            "\t|\t Training Acc: 0.8734375 \t|\t Validation Acc: 0.8611666666666666\n",
            "triggers is 3\n",
            "Epoch 16 \n",
            "\t|\t Training Loss: 0.34889491118987404 \t|\t Validation Loss: 0.40690942029369637 \n",
            "\t|\t Training Acc: 0.8779791666666666 \t|\t Validation Acc: 0.86425\n",
            "triggers is 4\n",
            "Epoch 17 \n",
            "\t|\t Training Loss: 0.35006821184357007 \t|\t Validation Loss: 0.4576940441385229 \n",
            "\t|\t Training Acc: 0.879625 \t|\t Validation Acc: 0.8500833333333333\n",
            "triggers is 5\n",
            "Epoch 18 \n",
            "\t|\t Training Loss: 0.4136666876872381 \t|\t Validation Loss: 0.48686068425787254 \n",
            "\t|\t Training Acc: 0.8576041666666666 \t|\t Validation Acc: 0.8461666666666666\n",
            "triggers is 6\n",
            "Epoch 19 \n",
            "\t|\t Training Loss: 0.42660687165459 \t|\t Validation Loss: 0.454559307466162 \n",
            "\t|\t Training Acc: 0.8555208333333333 \t|\t Validation Acc: 0.8465833333333334\n",
            "triggers is 7\n",
            "Epoch 20 \n",
            "\t|\t Training Loss: 0.3789725492596626 \t|\t Validation Loss: 0.40505954203136424 \n",
            "\t|\t Training Acc: 0.8697916666666666 \t|\t Validation Acc: 0.8646666666666667\n",
            "triggers is 8\n",
            "Epoch 21 \n",
            "\t|\t Training Loss: 0.3598924620648225 \t|\t Validation Loss: 0.41489187271354044 \n",
            "\t|\t Training Acc: 0.874875 \t|\t Validation Acc: 0.8571666666666666\n",
            "triggers reset\n",
            "Epoch 22 \n",
            "\t|\t Training Loss: 0.34351936863859495 \t|\t Validation Loss: 0.40030957282857693 \n",
            "\t|\t Training Acc: 0.8805625 \t|\t Validation Acc: 0.869\n",
            "triggers reset\n",
            "Epoch 23 \n",
            "\t|\t Training Loss: 0.34010756366451583 \t|\t Validation Loss: 0.3966354645709408 \n",
            "\t|\t Training Acc: 0.8812083333333334 \t|\t Validation Acc: 0.8715833333333334\n",
            "triggers is 1\n",
            "Epoch 24 \n",
            "\t|\t Training Loss: 0.35171376045544944 \t|\t Validation Loss: 0.421556220251195 \n",
            "\t|\t Training Acc: 0.8782083333333334 \t|\t Validation Acc: 0.8624166666666667\n",
            "triggers is 2\n",
            "Epoch 25 \n",
            "\t|\t Training Loss: 0.39299568090836207 \t|\t Validation Loss: 0.4332933970429796 \n",
            "\t|\t Training Acc: 0.8653958333333334 \t|\t Validation Acc: 0.8509166666666667\n",
            "triggers is 3\n",
            "Epoch 26 \n",
            "\t|\t Training Loss: 0.3761226008335749 \t|\t Validation Loss: 0.46037351165680174 \n",
            "\t|\t Training Acc: 0.871625 \t|\t Validation Acc: 0.84425\n",
            "triggers is 4\n",
            "Epoch 27 \n",
            "\t|\t Training Loss: 0.36232312888900436 \t|\t Validation Loss: 0.4250835676459556 \n",
            "\t|\t Training Acc: 0.8755625 \t|\t Validation Acc: 0.8571666666666666\n",
            "triggers is 5\n",
            "Epoch 28 \n",
            "\t|\t Training Loss: 0.37911584983269375 \t|\t Validation Loss: 0.44631946990464594 \n",
            "\t|\t Training Acc: 0.8704375 \t|\t Validation Acc: 0.8520833333333333\n",
            "triggers is 6\n",
            "Epoch 29 \n",
            "\t|\t Training Loss: 0.37948193529248236 \t|\t Validation Loss: 0.42472976810754615 \n",
            "\t|\t Training Acc: 0.8684791666666667 \t|\t Validation Acc: 0.8595\n",
            "triggers is 7\n",
            "Epoch 30 \n",
            "\t|\t Training Loss: 0.33326980252067245 \t|\t Validation Loss: 0.40232415885684336 \n",
            "\t|\t Training Acc: 0.8831875 \t|\t Validation Acc: 0.8651666666666666\n",
            "triggers is 8\n",
            "Epoch 31 \n",
            "\t|\t Training Loss: 0.35592900120218596 \t|\t Validation Loss: 0.43737021659282926 \n",
            "\t|\t Training Acc: 0.8775416666666667 \t|\t Validation Acc: 0.8616666666666667\n",
            "triggers is 9\n",
            "Epoch 32 \n",
            "\t|\t Training Loss: 0.4269993112484614 \t|\t Validation Loss: 0.4910654220333759 \n",
            "\t|\t Training Acc: 0.8542083333333333 \t|\t Validation Acc: 0.8591666666666666\n",
            "triggers is 10\n",
            "Epoch 33 \n",
            "\t|\t Training Loss: 0.3595979970792929 \t|\t Validation Loss: 0.4319090117165383 \n",
            "\t|\t Training Acc: 0.8774583333333333 \t|\t Validation Acc: 0.8608333333333333\n",
            "triggers is 11\n",
            "Epoch 34 \n",
            "\t|\t Training Loss: 0.34576454758644104 \t|\t Validation Loss: 0.5253874136412398 \n",
            "\t|\t Training Acc: 0.8815625 \t|\t Validation Acc: 0.83775\n",
            "triggers is 12\n",
            "Epoch 35 \n",
            "\t|\t Training Loss: 0.37180258584022524 \t|\t Validation Loss: 0.40901556618987245 \n",
            "\t|\t Training Acc: 0.874125 \t|\t Validation Acc: 0.86825\n",
            "triggers is 13\n",
            "Epoch 36 \n",
            "\t|\t Training Loss: 0.3306878774960836 \t|\t Validation Loss: 0.42901651038134353 \n",
            "\t|\t Training Acc: 0.8875416666666667 \t|\t Validation Acc: 0.8568333333333333\n",
            "triggers is 14\n",
            "Epoch 37 \n",
            "\t|\t Training Loss: 0.34807425816853843 \t|\t Validation Loss: 0.45972738034547644 \n",
            "\t|\t Training Acc: 0.8825833333333334 \t|\t Validation Acc: 0.8601666666666666\n",
            "triggers is 15\n",
            "Epoch 38 \n",
            "\t|\t Training Loss: 0.3706144579052925 \t|\t Validation Loss: 0.4430249183577426 \n",
            "\t|\t Training Acc: 0.8734791666666667 \t|\t Validation Acc: 0.849\n",
            "triggers is 16\n",
            "Epoch 39 \n",
            "\t|\t Training Loss: 0.3827962880134583 \t|\t Validation Loss: 0.4429369938183338 \n",
            "\t|\t Training Acc: 0.8695416666666667 \t|\t Validation Acc: 0.8524166666666667\n",
            "triggers is 17\n",
            "Epoch 40 \n",
            "\t|\t Training Loss: 0.3532469314237436 \t|\t Validation Loss: 0.6872348286052967 \n",
            "\t|\t Training Acc: 0.8796666666666667 \t|\t Validation Acc: 0.7726666666666666\n",
            "triggers is 18\n",
            "Epoch 41 \n",
            "\t|\t Training Loss: 0.33723077206810315 \t|\t Validation Loss: 0.4239956929962686 \n",
            "\t|\t Training Acc: 0.8827916666666666 \t|\t Validation Acc: 0.8630833333333333\n",
            "triggers reset\n",
            "Epoch 42 \n",
            "\t|\t Training Loss: 0.3235107492407163 \t|\t Validation Loss: 0.39344084587820033 \n",
            "\t|\t Training Acc: 0.8888333333333334 \t|\t Validation Acc: 0.8725\n",
            "triggers is 1\n",
            "Epoch 43 \n",
            "\t|\t Training Loss: 0.34206123344103495 \t|\t Validation Loss: 0.4367063993469198 \n",
            "\t|\t Training Acc: 0.8829583333333333 \t|\t Validation Acc: 0.8619166666666667\n",
            "triggers is 2\n",
            "Epoch 44 \n",
            "\t|\t Training Loss: 0.3461235528290272 \t|\t Validation Loss: 0.44247668981552124 \n",
            "\t|\t Training Acc: 0.8811041666666667 \t|\t Validation Acc: 0.8581666666666666\n",
            "triggers is 3\n",
            "Epoch 45 \n",
            "\t|\t Training Loss: 0.3545051973760128 \t|\t Validation Loss: 0.4859177825298715 \n",
            "\t|\t Training Acc: 0.8779375 \t|\t Validation Acc: 0.8423333333333334\n",
            "triggers is 4\n",
            "Epoch 46 \n",
            "\t|\t Training Loss: 0.36089046657085416 \t|\t Validation Loss: 0.4220460963217502 \n",
            "\t|\t Training Acc: 0.8774375 \t|\t Validation Acc: 0.8565\n",
            "triggers is 5\n",
            "Epoch 47 \n",
            "\t|\t Training Loss: 0.33959202394882837 \t|\t Validation Loss: 0.4240142893283925 \n",
            "\t|\t Training Acc: 0.8839583333333333 \t|\t Validation Acc: 0.8586666666666667\n",
            "triggers is 6\n",
            "Epoch 48 \n",
            "\t|\t Training Loss: 0.3199839101433754 \t|\t Validation Loss: 0.4362152871140774 \n",
            "\t|\t Training Acc: 0.8882708333333333 \t|\t Validation Acc: 0.85275\n",
            "triggers is 7\n",
            "Epoch 49 \n",
            "\t|\t Training Loss: 0.320604014168183 \t|\t Validation Loss: 0.41968443066357297 \n",
            "\t|\t Training Acc: 0.8875 \t|\t Validation Acc: 0.8665833333333334\n",
            "triggers is 8\n",
            "Epoch 50 \n",
            "\t|\t Training Loss: 0.3466079668700695 \t|\t Validation Loss: 0.5801577460258565 \n",
            "\t|\t Training Acc: 0.8777708333333333 \t|\t Validation Acc: 0.7959166666666667\n",
            "triggers is 9\n",
            "Epoch 51 \n",
            "\t|\t Training Loss: 0.37713736738761267 \t|\t Validation Loss: 0.4229055770692673 \n",
            "\t|\t Training Acc: 0.8653958333333334 \t|\t Validation Acc: 0.8668333333333333\n",
            "triggers is 10\n",
            "Epoch 52 \n",
            "\t|\t Training Loss: 0.3380635694762071 \t|\t Validation Loss: 0.42060610334923926 \n",
            "\t|\t Training Acc: 0.88325 \t|\t Validation Acc: 0.8675833333333334\n",
            "triggers is 11\n",
            "Epoch 53 \n",
            "\t|\t Training Loss: 0.3212430971066157 \t|\t Validation Loss: 0.416519275767372 \n",
            "\t|\t Training Acc: 0.8896041666666666 \t|\t Validation Acc: 0.8671666666666666\n",
            "triggers is 12\n",
            "Epoch 54 \n",
            "\t|\t Training Loss: 0.3294606786370277 \t|\t Validation Loss: 0.43815626275349173 \n",
            "\t|\t Training Acc: 0.8873125 \t|\t Validation Acc: 0.86575\n",
            "triggers is 13\n",
            "Epoch 55 \n",
            "\t|\t Training Loss: 0.3226807102958361 \t|\t Validation Loss: 0.4046584630900241 \n",
            "\t|\t Training Acc: 0.8888958333333333 \t|\t Validation Acc: 0.868\n",
            "triggers is 14\n",
            "Epoch 56 \n",
            "\t|\t Training Loss: 0.36316666363676386 \t|\t Validation Loss: 0.41516659599035344 \n",
            "\t|\t Training Acc: 0.8762291666666666 \t|\t Validation Acc: 0.8645\n",
            "triggers is 15\n",
            "Epoch 57 \n",
            "\t|\t Training Loss: 0.3267100326816241 \t|\t Validation Loss: 0.4013029319491792 \n",
            "\t|\t Training Acc: 0.8881666666666667 \t|\t Validation Acc: 0.8681666666666666\n",
            "triggers is 16\n",
            "Epoch 58 \n",
            "\t|\t Training Loss: 0.3437778763671716 \t|\t Validation Loss: 0.4218762130179304 \n",
            "\t|\t Training Acc: 0.8813125 \t|\t Validation Acc: 0.8651666666666666\n",
            "triggers is 17\n",
            "Epoch 59 \n",
            "\t|\t Training Loss: 0.327957666238149 \t|\t Validation Loss: 0.4304708964488608 \n",
            "\t|\t Training Acc: 0.8866458333333334 \t|\t Validation Acc: 0.8686666666666667\n",
            "triggers is 18\n",
            "Epoch 60 \n",
            "\t|\t Training Loss: 0.31875233332316083 \t|\t Validation Loss: 0.458803386368016 \n",
            "\t|\t Training Acc: 0.88925 \t|\t Validation Acc: 0.8579166666666667\n",
            "triggers is 19\n",
            "Epoch 61 \n",
            "\t|\t Training Loss: 0.33604277633627255 \t|\t Validation Loss: 0.41425633961532976 \n",
            "\t|\t Training Acc: 0.88625 \t|\t Validation Acc: 0.86675\n",
            "triggers is 20\n",
            "model lost its patience!\n"
          ]
        },
        {
          "output_type": "display_data",
          "data": {
            "text/plain": [
              "<Figure size 432x288 with 1 Axes>"
            ],
            "image/png": "[encoded data removed]"
          },
          "metadata": {
            "needs_background": "light"
          }
        },
        {
          "output_type": "stream",
          "name": "stdout",
          "text": [
            "\n"
          ]
        },
        {
          "output_type": "display_data",
          "data": {
            "text/plain": [
              "<Figure size 432x288 with 1 Axes>"
            ],
            "image/png": "[encoded data removed]"
          },
          "metadata": {
            "needs_background": "light"
          }
        },
        {
          "output_type": "stream",
          "name": "stdout",
          "text": [
            "Test accuracy: 0.8640999794006348\n"
          ]
        }
      ]
    },
    {
      "cell_type": "markdown",
      "source": [
        "Run the following commands:"
      ],
      "metadata": {
        "id": "XrHdxBhdLvrg"
      }
    },
    {
      "cell_type": "code",
      "execution_count": null,
      "metadata": {
        "id": "kDLgwN-NNdVE"
      },
      "outputs": [],
      "source": [
        "load_dataset()\n",
        "# 4 neurons per layer\n",
        "number_of_neurons = 4\n",
        "one_hidden_layer_no_activation(number_of_neurons)\n",
        "two_hidden_layers_sigmoid(number_of_neurons)\n",
        "two_hidden_layers_relu(number_of_neurons)\n",
        "two_hidden_layers_relu_adam(number_of_neurons)\n",
        "two_hidden_layers_relu_SGD_decreasing_lr(number_of_neurons)\n",
        "# 32 neurons per layer\n",
        "number_of_neurons = 32\n",
        "one_hidden_layer_no_activation(number_of_neurons)\n",
        "two_hidden_layers_sigmoid(number_of_neurons)\n",
        "two_hidden_layers_relu(number_of_neurons)\n",
        "two_hidden_layers_relu_adam(number_of_neurons)\n",
        "two_hidden_layers_relu_SGD_decreasing_lr(number_of_neurons)\n",
        "four_hidden_layers_adam(number_of_neurons)\n",
        "four_hidden_layers_adam_weight_decay(number_of_neurons)\n",
        "four_hidden_layers_adam_early_stopping(number_of_neurons)\n"
      ]
    },
    {
      "cell_type": "markdown",
      "source": [
        "After implementing, running and getting the results Answer the following below:\n",
        "1. The networks sorted according to their test results from the worst to the best.\n",
        "2. Give intuitive explanation why we got such order after sorting.\n",
        "3. Is there any difference between the test and the training accuracy? Why?\n",
        "4. Don't forget to keep all the function plots in the notebook"
      ],
      "metadata": {
        "id": "Z568VESPGEPv"
      }
    },
    {
      "cell_type": "markdown",
      "source": [
        "Answers:"
      ],
      "metadata": {
        "id": "1kFyx9VRMp9c"
      }
    },
    {
      "cell_type": "markdown",
      "source": [
        "1. four_hidden_layers_adam_weight_decay"
      ],
      "metadata": {
        "id": "fETBawee7IWU"
      }
    },
    {
      "cell_type": "markdown",
      "source": [
        "2. לחרטט"
      ],
      "metadata": {
        "id": "eqrNSMsE7IZZ"
      }
    },
    {
      "cell_type": "markdown",
      "source": [
        "## ADD more חירטוטים\n",
        "3. The test accuracy reflects the model's ability to perform on new, unseen data, while the training accuracy reflects its performance on the data it was trained on."
      ],
      "metadata": {
        "id": "C7kVdGOF7IdZ"
      }
    },
    {
      "cell_type": "markdown",
      "source": [],
      "metadata": {
        "id": "7BGKKUKZ7Ihg"
      }
    }
  ],
  "metadata": {
    "accelerator": "GPU",
    "colab": {
      "provenance": [],
      "include_colab_link": true
    },
    "kernelspec": {
      "display_name": "Python 3",
      "name": "python3"
    },
    "language_info": {
      "name": "python"
    },
    "gpuClass": "standard"
  },
  "nbformat": 4,
  "nbformat_minor": 0
}